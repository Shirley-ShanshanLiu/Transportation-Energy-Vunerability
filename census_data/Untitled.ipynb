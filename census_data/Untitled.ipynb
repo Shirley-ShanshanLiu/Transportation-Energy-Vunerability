{
 "cells": [
  {
   "cell_type": "code",
   "execution_count": 1,
   "id": "selected-letters",
   "metadata": {},
   "outputs": [],
   "source": [
    "import pandas as pd"
   ]
  },
  {
   "cell_type": "code",
   "execution_count": 9,
   "id": "elementary-identity",
   "metadata": {},
   "outputs": [],
   "source": [
    "ex = pd.read_csv('exposure_census.csv', dtype = {\"GEOID\":str,\"GEO_ID\":str})\n",
    "for i in range(len(ex)):\n",
    "    if len(ex.loc[i,'GEOID'])==10:\n",
    "        a = '0' + ex.loc[i,'GEOID']\n",
    "        ex.loc[i,'GEOID'] = a\n",
    "for i in range(len(ex)):\n",
    "    if len(ex.loc[i,'GEO_ID'])==10:\n",
    "        a = '0' + ex.loc[i,'GEO_ID']\n",
    "        ex.loc[i,'GEO_ID'] = a"
   ]
  },
  {
   "cell_type": "code",
   "execution_count": 4,
   "id": "verified-carbon",
   "metadata": {},
   "outputs": [],
   "source": [
    "sensitivity = pd.read_csv(\"sensitivity_census.csv\", dtype={\"Geocode\": str})\n",
    "for i in range(len(sensitivity)):\n",
    "    if len(sensitivity.loc[i,'Geocode'])==10:\n",
    "        a = '0' + sensitivity.loc[i,'Geocode']\n",
    "        sensitivity.loc[i,'Geocode'] = a"
   ]
  },
  {
   "cell_type": "code",
   "execution_count": 5,
   "id": "respected-mounting",
   "metadata": {},
   "outputs": [],
   "source": [
    "AC_tract_US = pd.read_csv(\"adaptive_capacity_census.csv\",dtype={\"GEO_ID\":str})\n",
    "for i in range(len(AC_tract_US)):\n",
    "    if len(AC_tract_US.loc[i,'GEO_ID'])==10:\n",
    "        a = '0' + AC_tract_US.loc[i,'GEO_ID']\n",
    "        AC_tract_US.loc[i,'GEO_ID'] = a"
   ]
  },
  {
   "cell_type": "code",
   "execution_count": 10,
   "id": "neither-dollar",
   "metadata": {},
   "outputs": [],
   "source": [
    "ex.to_csv('exposure_census.csv')\n",
    "# sensitivity.to_csv('sensitivity_census.csv')\n",
    "# AC_tract_US.to_csv('adaptive_capacity_census.csv')"
   ]
  },
  {
   "cell_type": "code",
   "execution_count": null,
   "id": "clean-cotton",
   "metadata": {},
   "outputs": [],
   "source": []
  }
 ],
 "metadata": {
  "kernelspec": {
   "display_name": "Python 3",
   "language": "python",
   "name": "python3"
  },
  "language_info": {
   "codemirror_mode": {
    "name": "ipython",
    "version": 3
   },
   "file_extension": ".py",
   "mimetype": "text/x-python",
   "name": "python",
   "nbconvert_exporter": "python",
   "pygments_lexer": "ipython3",
   "version": "3.8.5"
  }
 },
 "nbformat": 4,
 "nbformat_minor": 5
}
