{
 "cells": [
  {
   "cell_type": "code",
   "execution_count": null,
   "metadata": {},
   "outputs": [],
   "source": [
    "import geopandas as gpd\n",
    "import pandas as pd\n",
    "import pathlib\n",
    "\n",
    "import matplotlib.pyplot as plt\n",
    "\n",
    "from cartopy import crs as ccrs\n",
    "\n",
    "import os\n",
    "import sys\n",
    "import subprocess\n",
    "import datetime\n",
    "import platform\n",
    "import datetime"
   ]
  },
  {
   "cell_type": "code",
   "execution_count": null,
   "metadata": {},
   "outputs": [],
   "source": [
    "chicago = gpd.read_file(\"Basemap/geo_export_c929b563-c4bb-45df-82b1-3f329643ec70.shp\")"
   ]
  },
  {
   "cell_type": "code",
   "execution_count": null,
   "metadata": {
    "scrolled": true
   },
   "outputs": [],
   "source": [
    "chicago.head()"
   ]
  },
  {
   "cell_type": "code",
   "execution_count": null,
   "metadata": {},
   "outputs": [],
   "source": [
    "chicago.plot()"
   ]
  },
  {
   "cell_type": "markdown",
   "metadata": {},
   "source": [
    "# Exposure"
   ]
  },
  {
   "cell_type": "code",
   "execution_count": null,
   "metadata": {},
   "outputs": [],
   "source": [
    "ex = pd.read_csv('exposure_census.csv', dtype = {\"GEOID\":str,\"GEO_ID\":str})\n",
    "ex.head()"
   ]
  },
  {
   "cell_type": "code",
   "execution_count": null,
   "metadata": {},
   "outputs": [],
   "source": [
    "ex = ex[['GEOID','fuel','Price','exposure','min_max_ex']]\n",
    "chi_ex = pd.merge(ex,chicago,left_on='GEOID',right_on='geoid10',how='right')"
   ]
  },
  {
   "cell_type": "code",
   "execution_count": null,
   "metadata": {},
   "outputs": [],
   "source": [
    "chi_ex = gpd.GeoDataFrame(chi_ex,crs = 4326)"
   ]
  },
  {
   "cell_type": "code",
   "execution_count": null,
   "metadata": {},
   "outputs": [],
   "source": [
    "import numpy as np\n",
    "\n",
    "fig, ax = plt.subplots(figsize=(12, 10),dpi=300)\n",
    "\n",
    "font = {'family': 'serif',\n",
    "        'serif': 'Times New Roman',\n",
    "        'weight': 'normal',\n",
    "        'size': 12}\n",
    "plt.rc('font', **font)\n",
    "\n",
    "from palettable.matplotlib import Viridis_7\n",
    "\n",
    "cmap = Viridis_7.mpl_colormap\n",
    "\n",
    "chi_ex.plot(\n",
    "    column='min_max_ex',\n",
    "    ax=ax,\n",
    "    cmap=cmap,\n",
    "    legend=True,\n",
    "#     legend_kwds={'label': 'Exposure'},\n",
    "    scheme='NaturalBreaks',\n",
    "#     k=7,\n",
    "    legend_kwds={'loc': 'lower left',\n",
    "                 'title': 'Exposure',\n",
    "                 \"fmt\": \"{:.3f}\",\n",
    "                 'title_fontsize': 14, \n",
    "                 'fontsize': 11, \n",
    "                 'shadow': True\n",
    "                },               \n",
    "    missing_kwds={\n",
    "                \"color\": \"lightgrey\",\n",
    "                \"edgecolor\": \"grey\",\n",
    "                \"hatch\": \"////\",\n",
    "                \"label\": \"Nan\"\n",
    "                },\n",
    "#     prop={'family': 'Times New Roman', 'size': 16},\n",
    "    edgecolor='white', #,np.array([0., 0., 0., 0.])\n",
    "    linewidth=0.2\n",
    ")\n",
    "\n",
    "ax.axis('on')\n",
    "ax.set_title('Transportation Energy Vulnerability in Chicago - Exposure',fontdict={'weight':'bold','size': 20},pad=20)\n",
    "plt.tight_layout(pad=4.5)\n",
    "\n",
    "\n",
    "ax.set_aspect('equal','box')\n",
    "# fig.tight_layout()\n",
    "\n",
    "fig.savefig('Chicago_exposure_map.png', facecolor='w', dpi=500)"
   ]
  },
  {
   "cell_type": "code",
   "execution_count": null,
   "metadata": {
    "jupyter": {
     "source_hidden": true
    },
    "tags": []
   },
   "outputs": [],
   "source": [
    "import numpy as np\n",
    "\n",
    "fig, ax = plt.subplots(figsize=(12, 10),dpi=300)\n",
    "\n",
    "from palettable.matplotlib import Viridis_7\n",
    "\n",
    "cmap = Viridis_7.mpl_colormap\n",
    "\n",
    "chi_ex.plot(\n",
    "    column='min-max',\n",
    "    ax=ax,\n",
    "    cmap=cmap,\n",
    "    legend=True,\n",
    "#     legend_kwds={'label': 'Exposure'},\n",
    "    scheme='NaturalBreaks',\n",
    "#     k=7,\n",
    "    legend_kwds={'loc': 'lower left',\n",
    "                 'title': 'Exposure',\n",
    "                 'shadow': True\n",
    "                },\n",
    "    missing_kwds={\n",
    "                \"color\": \"lightgrey\",\n",
    "                \"edgecolor\": \"grey\",\n",
    "                \"hatch\": \"////\",\n",
    "                \"label\": \"Nan\"\n",
    "                },\n",
    "#     edgecolor=np.array([0., 0., 0., 0.]),\n",
    "    edgecolor = 'white',\n",
    "    linewidth=0.2\n",
    ")\n",
    "\n",
    "ax.axis('off')\n",
    "ax.set_title('Transportation Energy Vulnerability in Chicago - Exposure', fontsize=15,pad=20)\n",
    "plt.tight_layout(pad=4.5)\n",
    "\n",
    "\n",
    "ax.set_aspect('equal','box')\n",
    "fig.tight_layout()\n",
    "\n",
    "fig.savefig('Chicago_exposure_map.png', facecolor='w', dpi=500)"
   ]
  },
  {
   "cell_type": "markdown",
   "metadata": {},
   "source": [
    "# Sensitivity"
   ]
  },
  {
   "cell_type": "code",
   "execution_count": null,
   "metadata": {},
   "outputs": [],
   "source": [
    "sensitivity = pd.read_csv(\"sensitivity_census.csv\", dtype={\"Geocode\": str})\n",
    "sensitivity.head()"
   ]
  },
  {
   "cell_type": "code",
   "execution_count": null,
   "metadata": {},
   "outputs": [],
   "source": [
    "chi_sens = pd.merge(chicago,sensitivity,left_on='geoid10',right_on=\"Geocode\",how=\"left\")\n",
    "chi_sens.head()"
   ]
  },
  {
   "cell_type": "code",
   "execution_count": null,
   "metadata": {},
   "outputs": [],
   "source": [
    "chi_sens = gpd.GeoDataFrame(chi_sens,crs = 4326)"
   ]
  },
  {
   "cell_type": "code",
   "execution_count": null,
   "metadata": {},
   "outputs": [],
   "source": [
    "import numpy as np\n",
    "\n",
    "fig, ax = plt.subplots(figsize=(12, 10),dpi=300)\n",
    "\n",
    "font = {'family': 'serif',\n",
    "        'serif': 'Times New Roman',\n",
    "        'weight': 'normal',\n",
    "        'size': 12}\n",
    "plt.rc('font', **font)\n",
    "\n",
    "vmin = -0.541305087\n",
    "vmax = 1.043413702\n",
    "\n",
    "from palettable.matplotlib import Viridis_7\n",
    "\n",
    "cmap = Viridis_7.mpl_colormap\n",
    "\n",
    "chi_sens.plot(\n",
    "    column='min_max_sens',\n",
    "    ax=ax,\n",
    "    cmap=cmap,\n",
    "    legend=True,\n",
    "#     legend_kwds={'label': 'Exposure'},\n",
    "#     scheme='NaturalBreaks',\n",
    "#     k=7,\n",
    "#     legend_kwds={'loc': 'lower left',\n",
    "#                  'title': 'X7',\n",
    "#                  'shadow': True\n",
    "#                 },\n",
    "#     missing_kwds={\n",
    "#                  \"color\": \"lightgrey\",\n",
    "#                  \"edgecolor\": \"grey\",\n",
    "#                  \"hatch\": \"////\",\n",
    "#                  \"label\": \"Nan\"\n",
    "#                  },\n",
    "#     edgecolor=np.array([0., 0., 0., 0.]),\n",
    "    edgecolor = 'white',\n",
    "    linewidth=0.2,\n",
    "    vmin=vmin, vmax=vmax\n",
    ")\n",
    "\n",
    "ax.axis('on')\n",
    "ax.set_title('Chicago City Transportation Energy Vulnerability - Sensitivity',fontdict={'weight':'bold','size': 20},pad=20)\n",
    "plt.tight_layout(pad=4.5)\n",
    "\n",
    "\n",
    "ax.set_aspect('equal','box')\n",
    "# fig.tight_layout()\n",
    "\n",
    "fig.savefig('Chi_X7_test_map.png', facecolor='w', dpi=500)"
   ]
  },
  {
   "cell_type": "markdown",
   "metadata": {},
   "source": [
    "# Adaptive Capacity"
   ]
  },
  {
   "cell_type": "code",
   "execution_count": null,
   "metadata": {
    "scrolled": true
   },
   "outputs": [],
   "source": [
    "AC_tract_US = pd.read_csv(\"adaptive_capacity_census.csv\",dtype={\"GEO_ID\":str})\n",
    "AC_tract_US.head()"
   ]
  },
  {
   "cell_type": "code",
   "execution_count": null,
   "metadata": {},
   "outputs": [],
   "source": [
    "AC_tract_US.info()"
   ]
  },
  {
   "cell_type": "code",
   "execution_count": null,
   "metadata": {},
   "outputs": [],
   "source": [
    "AC_tract_chicago = pd.merge(chicago,AC_tract_US,left_on=\"geoid10\",right_on=\"GEO_ID\",how=\"left\")"
   ]
  },
  {
   "cell_type": "code",
   "execution_count": null,
   "metadata": {},
   "outputs": [],
   "source": [
    "AC_tract_chicago.head()"
   ]
  },
  {
   "cell_type": "code",
   "execution_count": null,
   "metadata": {
    "jupyter": {
     "source_hidden": true
    },
    "tags": []
   },
   "outputs": [],
   "source": [
    "\n",
    "ax.set_aspect('equal','box')\n",
    "# fig.tight_layout()\n",
    "\n",
    "fig.savefig('Chi_sensitivity_map.png', facecolor='w', dpi=500)\n",
    "\n",
    "import numpy as np\n",
    "\n",
    "fig, ax = plt.subplots(figsize=(12, 10),dpi=300)\n",
    "\n",
    "from palettable.matplotlib import Viridis_7\n",
    "\n",
    "cmap = Viridis_7.mpl_colormap\n",
    "\n",
    "AC_tract_chicago.plot(\n",
    "    column='D5be_score',\n",
    "    ax=ax,\n",
    "    cmap=cmap,\n",
    "    legend=True,\n",
    "#     legend_kwds={'label': 'Exposure'},\n",
    "    scheme='NaturalBreaks',\n",
    "#     k=7,\n",
    "    legend_kwds={'loc': 'lower left',\n",
    "                 'title': '',\n",
    "                 'shadow': True\n",
    "                },\n",
    "    missing_kwds={\n",
    "                \"color\": \"lightgrey\",\n",
    "                \"edgecolor\": \"grey\",\n",
    "                \"hatch\": \"////\",\n",
    "                \"label\": \"Nan\"\n",
    "                },\n",
    "#     edgecolor=np.array([0., 0., 0., 0.]),\n",
    "    edgecolor = 'white',\n",
    "    linewidth=0.2\n",
    ")\n",
    "\n",
    "ax.axis('off')\n",
    "ax.set_title('Working-population within 45-minute transit commute', fontsize=15,pad=20)\n",
    "plt.tight_layout(pad=4.5)\n",
    "\n",
    "\n",
    "ax.set_aspect('equal','box')\n",
    "# fig.tight_layout()\n",
    "\n",
    "fig.savefig('D5be_normal_map.png', facecolor='w', dpi=500)"
   ]
  },
  {
   "cell_type": "code",
   "execution_count": null,
   "metadata": {
    "jupyter": {
     "source_hidden": true
    },
    "tags": []
   },
   "outputs": [],
   "source": [
    "import numpy as np\n",
    "\n",
    "fig, ax = plt.subplots(figsize=(12, 10),dpi=300)\n",
    "\n",
    "from palettable.matplotlib import Viridis_7\n",
    "\n",
    "cmap = Viridis_7.mpl_colormap\n",
    "\n",
    "AC_tract_chicago.plot(\n",
    "    column='D4c_score',\n",
    "    ax=ax,\n",
    "    cmap=cmap,\n",
    "    legend=True,\n",
    "#     legend_kwds={'label': 'Exposure'},\n",
    "    scheme='NaturalBreaks',\n",
    "#     k=7,\n",
    "    legend_kwds={'loc': 'lower left',\n",
    "                 'title': '',\n",
    "                 'shadow': True\n",
    "                },\n",
    "    missing_kwds={\n",
    "                \"color\": \"lightgrey\",\n",
    "                \"edgecolor\": \"grey\",\n",
    "                \"hatch\": \"////\",\n",
    "                \"label\": \"Nan\"\n",
    "                },\n",
    "#     edgecolor=np.array([0., 0., 0., 0.]),\n",
    "    edgecolor = 'white',\n",
    "    linewidth=0.2\n",
    ")\n",
    "\n",
    "ax.axis('off')\n",
    "ax.set_title(\"Aggregate frequency of transit service within 0.25 miles \\n of block group boundary per hour during evening peak period\", \n",
    "             fontsize=15,pad=20)\n",
    "plt.tight_layout(pad=4.5)\n",
    "\n",
    "\n",
    "ax.set_aspect('equal','box')\n",
    "# fig.tight_layout()\n",
    "\n",
    "fig.savefig('D4c_normal_map.png', facecolor='w', dpi=500)"
   ]
  },
  {
   "cell_type": "code",
   "execution_count": null,
   "metadata": {
    "jupyter": {
     "source_hidden": true
    },
    "tags": []
   },
   "outputs": [],
   "source": [
    "import numpy as np\n",
    "\n",
    "fig, ax = plt.subplots(figsize=(12, 10),dpi=300)\n",
    "\n",
    "from palettable.matplotlib import Viridis_7\n",
    "\n",
    "cmap = Viridis_7.mpl_colormap\n",
    "\n",
    "AC_tract_chicago.plot(\n",
    "    column='D4a_score',\n",
    "    ax=ax,\n",
    "    cmap=cmap,\n",
    "    legend=True,\n",
    "#     legend_kwds={'label': 'Exposure'},\n",
    "    scheme='NaturalBreaks',\n",
    "#     k=7,\n",
    "    legend_kwds={'loc': 'lower left',\n",
    "                 'title': '',\n",
    "                 'shadow': True\n",
    "                },\n",
    "    missing_kwds={\n",
    "                  \"color\": \"lightgrey\",\n",
    "                  \"edgecolor\": \"grey\",\n",
    "                  \"hatch\": \"////\",\n",
    "                  \"label\": \"Nan\"\n",
    "                  },\n",
    "#     edgecolor=np.array([0., 0., 0., 0.]),\n",
    "    edgecolor = 'white',\n",
    "    linewidth=0.2\n",
    ")\n",
    "\n",
    "ax.axis('off')\n",
    "ax.set_title('Distance from population weighted centroid to nearest transit stop', \n",
    "             fontsize=15,pad=20)\n",
    "plt.tight_layout(pad=4.5)\n",
    "\n",
    "\n",
    "ax.set_aspect('equal','box')\n",
    "# fig.tight_layout()\n",
    "\n",
    "fig.savefig('D4a_normal_map.png', facecolor='w', dpi=500)"
   ]
  },
  {
   "cell_type": "code",
   "execution_count": null,
   "metadata": {},
   "outputs": [],
   "source": [
    "import numpy as np\n",
    "\n",
    "fig, ax = plt.subplots(figsize=(12, 10),dpi=300)\n",
    "\n",
    "font = {'family': 'serif',\n",
    "        'serif': 'Times New Roman',\n",
    "        'weight': 'normal',\n",
    "        'size': 12}\n",
    "plt.rc('font', **font)\n",
    "\n",
    "from palettable.matplotlib import Viridis_7\n",
    "\n",
    "cmap = Viridis_7.mpl_colormap\n",
    "\n",
    "AC_tract_chicago.plot(\n",
    "    column='min_max_ac',\n",
    "    ax=ax,\n",
    "    cmap=cmap,\n",
    "    legend=True,\n",
    "#     legend_kwds={'label': 'Exposure'},\n",
    "    scheme='NaturalBreaks',\n",
    "#     k=7,\n",
    "    legend_kwds={'loc': 'lower left',\n",
    "                 'title': 'Adaptive Capacity',\n",
    "                 'shadow': True\n",
    "                },\n",
    "    missing_kwds={\n",
    "                 \"color\": \"lightgrey\",\n",
    "                 \"edgecolor\": \"grey\",\n",
    "                 \"hatch\": \"////\",\n",
    "                 \"label\": \"Nan\"\n",
    "                 },\n",
    "#     edgecolor=np.array([0., 0., 0., 0.]),\n",
    "    edgecolor = 'white',\n",
    "    linewidth=0.2\n",
    ")\n",
    "\n",
    "ax.axis('on')\n",
    "ax.set_title('Chicago City Transportation Energy Vulnerability - Adaptive Capacity',fontdict={'weight':'bold','size': 20},pad=20)\n",
    "plt.tight_layout(pad=4.5)\n",
    "\n",
    "ax.set_aspect('equal','box')\n",
    "fig.tight_layout()\n",
    "\n",
    "fig.savefig('Chicago_AC_map.png', facecolor='w', dpi=500)"
   ]
  },
  {
   "cell_type": "markdown",
   "metadata": {},
   "source": [
    "# Vulnerability Score"
   ]
  },
  {
   "cell_type": "code",
   "execution_count": null,
   "metadata": {},
   "outputs": [],
   "source": [
    "vc = pd.read_csv('Vulnerability Score.csv',dtype={'GEOID':str})\n",
    "vc.head()"
   ]
  },
  {
   "cell_type": "code",
   "execution_count": null,
   "metadata": {},
   "outputs": [],
   "source": [
    "chi_vc = pd.merge(chicago,vc,left_on='geoid10',right_on=\"GEOID\",how=\"left\")\n",
    "chi_vc.head()"
   ]
  },
  {
   "cell_type": "code",
   "execution_count": null,
   "metadata": {},
   "outputs": [],
   "source": [
    "import numpy as np\n",
    "\n",
    "fig, ax = plt.subplots(figsize=(10, 10),dpi=300)\n",
    "\n",
    "font = {'family': 'serif',\n",
    "        'serif': 'Times New Roman',\n",
    "        'weight': 'normal',\n",
    "        'size': 12}\n",
    "plt.rc('font', **font)\n",
    "\n",
    "from palettable.matplotlib import Viridis_7\n",
    "\n",
    "cmap = Viridis_7.mpl_colormap\n",
    "\n",
    "chi_vc.plot(\n",
    "    column='vul_score_mulpi',\n",
    "    ax=ax,\n",
    "    cmap=cmap,\n",
    "    legend=True,\n",
    "#     legend_kwds={'label': 'Exposure'},\n",
    "    scheme='NaturalBreaks',\n",
    "#     scheme='UserDefined',\n",
    "#     classification_kwds={\n",
    "#                         'bins': [0, 0.05, 0.1, 0.15, 0.2, 0.25]\n",
    "#                         },\n",
    "#     k=7,\n",
    "    legend_kwds={'loc': 'center left',\n",
    "                 'title': 'Vulnerability Score',\n",
    "                 \"fmt\": \"{:.3f}\",\n",
    "                 'title_fontsize': 14, \n",
    "                 'fontsize': 14, \n",
    "                 'shadow': True},\n",
    "#     missing_kwds={\n",
    "#                  \"color\": \"lightgrey\",\n",
    "#                  \"edgecolor\": \"grey\",\n",
    "#                  \"hatch\": \"////\",\n",
    "#                  \"label\": \"Nan\"\n",
    "#                  },\n",
    "#     edgecolor=np.array([0., 0., 0., 0.]),\n",
    "    edgecolor = 'white',\n",
    "    linewidth=0.2,\n",
    "#     vmin=vmin, vmax=vmax\n",
    ")\n",
    "\n",
    "# ax.axis('on')\n",
    "plt.xticks([])\n",
    "plt.yticks([])\n",
    "ax.set_title('Multiplicative Transportation Energy Vulnerability in Chicago', fontdict={'weight':'bold','size': 20},pad=20)\n",
    "plt.tight_layout(pad=4.5)\n",
    "\n",
    "\n",
    "ax.set_aspect('equal','box')\n",
    "# fig.tight_layout()\n",
    "\n",
    "fig.savefig('Chicago_vulnerability_multip.png', facecolor='w', dpi=500)"
   ]
  },
  {
   "cell_type": "code",
   "execution_count": null,
   "metadata": {},
   "outputs": [],
   "source": [
    "import numpy as np\n",
    "\n",
    "fig, ax = plt.subplots(figsize=(10, 10),dpi=300)\n",
    "\n",
    "font = {'family': 'serif',\n",
    "        'serif': 'Times New Roman',\n",
    "        'weight': 'normal',\n",
    "        'size': 12}\n",
    "plt.rc('font', **font)\n",
    "\n",
    "from palettable.matplotlib import Viridis_7\n",
    "\n",
    "cmap = Viridis_7.mpl_colormap\n",
    "\n",
    "chi_vc.plot(\n",
    "    column='vul_score_add',\n",
    "    ax=ax,\n",
    "    cmap=cmap,\n",
    "    legend=True,\n",
    "#     legend_kwds={'label': 'Exposure'},\n",
    "    scheme='NaturalBreaks',\n",
    "#     scheme='UserDefined',\n",
    "#     classification_kwds={\n",
    "#                         'bins': [0, 0.05, 0.1, 0.15, 0.2, 0.25]\n",
    "#                         },\n",
    "#     k=7,\n",
    "    legend_kwds={'loc': 'center left',\n",
    "                 'title': 'Vulnerability Score',\n",
    "                 \"fmt\": \"{:.3f}\",\n",
    "                 \n",
    "                 'title_fontsize': 14, \n",
    "                 'fontsize': 14, \n",
    "                 'shadow': True},\n",
    "#     missing_kwds={\n",
    "#                  \"color\": \"lightgrey\",\n",
    "#                  \"edgecolor\": \"grey\",\n",
    "#                  \"hatch\": \"////\",\n",
    "#                  \"label\": \"Nan\"\n",
    "#                  },\n",
    "#     edgecolor=np.array([0., 0., 0., 0.]),\n",
    "    edgecolor = 'white',\n",
    "    linewidth=0.2,\n",
    "#     vmin=vmin, vmax=vmax\n",
    ")\n",
    "\n",
    "# ax.axis('on')\n",
    "plt.xticks([])\n",
    "plt.yticks([])\n",
    "ax.set_title('Additive Transportation Energy Vulnerability in Chicago', fontdict={'weight':'bold','size': 20},pad=20)\n",
    "plt.tight_layout(pad=4.5)\n",
    "\n",
    "\n",
    "ax.set_aspect('equal','box')\n",
    "# fig.tight_layout()\n",
    "\n",
    "fig.savefig('Chicago_vulnerability_add.png', facecolor='w', dpi=500)"
   ]
  },
  {
   "cell_type": "code",
   "execution_count": null,
   "metadata": {},
   "outputs": [],
   "source": [
    "chi_ex = chi_ex[['geoid10','namelsad10','min_max_ex']]\n",
    "chi_sens = chi_sens[['geoid10','min_max_sens']]\n",
    "AC_tract_chicago = AC_tract_chicago[['geoid10','min_max_ac']]\n",
    "chi_vc = chi_vc[['geoid10','vul_score_mulpi','vul_score_add']]\n",
    "chi_all_census  = pd.merge(chi_ex, chi_sens, on='geoid10')\n",
    "chi_all_census  = pd.merge(chi_all_census,AC_tract_chicago, on='geoid10')\n",
    "chi_all_census  = pd.merge(chi_all_census,chi_vc, on='geoid10')"
   ]
  },
  {
   "cell_type": "code",
   "execution_count": null,
   "metadata": {},
   "outputs": [],
   "source": [
    "chi_all_census.to_csv('chi_all_census.csv')"
   ]
  },
  {
   "cell_type": "code",
   "execution_count": null,
   "metadata": {},
   "outputs": [],
   "source": []
  }
 ],
 "metadata": {
  "kernelspec": {
   "display_name": "Python 3",
   "language": "python",
   "name": "python3"
  },
  "language_info": {
   "codemirror_mode": {
    "name": "ipython",
    "version": 3
   },
   "file_extension": ".py",
   "mimetype": "text/x-python",
   "name": "python",
   "nbconvert_exporter": "python",
   "pygments_lexer": "ipython3",
   "version": "3.8.5"
  }
 },
 "nbformat": 4,
 "nbformat_minor": 4
}
