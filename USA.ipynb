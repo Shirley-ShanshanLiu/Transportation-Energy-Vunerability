{
 "cells": [
  {
   "cell_type": "markdown",
   "metadata": {},
   "source": [
    "## Vulnerability in the US at Census Tract Level"
   ]
  },
  {
   "cell_type": "code",
   "execution_count": null,
   "metadata": {
    "tags": []
   },
   "outputs": [],
   "source": [
    "import geopandas as gpd\n",
    "import pandas as pd\n",
    "import pathlib\n",
    "\n",
    "import matplotlib.pyplot as plt\n",
    "\n",
    "from cartopy import crs as ccrs\n",
    "\n",
    "import os\n",
    "import sys\n",
    "import subprocess\n",
    "import datetime\n",
    "import platform\n",
    "import datetime"
   ]
  },
  {
   "cell_type": "code",
   "execution_count": null,
   "metadata": {},
   "outputs": [],
   "source": [
    "albo = ccrs.AlbersEqualArea(\n",
    "    central_longitude=-96,\n",
    "    central_latitude=37.5,\n",
    "    false_easting=0.0,\n",
    "    false_northing=0.0,\n",
    "    standard_parallels=(29.5, 45.5),\n",
    "    globe=None,\n",
    ")"
   ]
  },
  {
   "cell_type": "code",
   "execution_count": null,
   "metadata": {},
   "outputs": [],
   "source": [
    "import glob\n",
    "path=r'Shapefile'\n",
    "\n",
    "file=glob.glob(os.path.join(path, 'cb_2018_**_tract_500k.shp'))\n",
    "# print(file)\n",
    "print(len(file))"
   ]
  },
  {
   "cell_type": "code",
   "execution_count": null,
   "metadata": {},
   "outputs": [],
   "source": [
    "## Import the census tracts\n",
    "\n",
    "basemap= gpd.GeoDataFrame()\n",
    "for f in file:\n",
    "    basemap = pd.concat([basemap, gpd.read_file(f)], axis=0)\n",
    "    \n",
    "basemap = basemap[['GEOID','AFFGEOID','STATEFP','geometry']]\n",
    "basemap.head()"
   ]
  },
  {
   "cell_type": "code",
   "execution_count": null,
   "metadata": {},
   "outputs": [],
   "source": [
    "basemap.crs"
   ]
  },
  {
   "cell_type": "code",
   "execution_count": null,
   "metadata": {},
   "outputs": [],
   "source": [
    "## Change the projection\n",
    "basemap = basemap.to_crs(albo.proj4_init)"
   ]
  },
  {
   "cell_type": "code",
   "execution_count": null,
   "metadata": {},
   "outputs": [],
   "source": [
    "## Change the position of Alaska and some islands\n",
    "\n",
    "m = basemap.STATEFP =='15'\n",
    "basemap[m] = basemap[m].set_geometry(basemap[m].translate(5000000,-1500000))\n",
    "\n",
    "n = basemap.STATEFP == '02'\n",
    "basemap[n] = basemap[n].set_geometry(basemap[n].scale(.5,.5,.5,origin=(-3000000, 4000000)).translate(1000000, -4800000))"
   ]
  },
  {
   "cell_type": "markdown",
   "metadata": {
    "tags": []
   },
   "source": [
    "State Boundary used in Maps"
   ]
  },
  {
   "cell_type": "code",
   "execution_count": null,
   "metadata": {},
   "outputs": [],
   "source": [
    "## Import the state boundaries\n",
    "state_boundary = gpd.read_file('cb_2018_us_state_500k/cb_2018_us_state_500k.shp')\n",
    "state_boundary.plot()"
   ]
  },
  {
   "cell_type": "code",
   "execution_count": null,
   "metadata": {},
   "outputs": [],
   "source": [
    "state_boundary = state_boundary.to_crs(albo.proj4_init)\n",
    "\n",
    "m = state_boundary.STATEFP =='15'\n",
    "state_boundary[m] = state_boundary[m].set_geometry(state_boundary[m].translate(5000000,-1500000))\n",
    "\n",
    "n = state_boundary.STATEFP == '02'\n",
    "state_boundary[n] = state_boundary[n].set_geometry(state_boundary[n].scale(.5,.5,.5,origin=(-3000000, 4000000)).translate(1000000, -4800000))"
   ]
  },
  {
   "cell_type": "markdown",
   "metadata": {},
   "source": [
    "# Exposure"
   ]
  },
  {
   "cell_type": "code",
   "execution_count": null,
   "metadata": {},
   "outputs": [],
   "source": [
    "## Import data\n",
    "\n",
    "exposure = pd.read_csv('Exposure_0412.csv', dtype = {'State':str,\"GEOID\":str,\"GEO_ID\":str})\n",
    "exposure.head()"
   ]
  },
  {
   "cell_type": "code",
   "execution_count": null,
   "metadata": {},
   "outputs": [],
   "source": [
    "exposure_map = pd.merge(exposure,basemap,on='GEOID',how='right')\n",
    "exposure_map = gpd.GeoDataFrame(exposure_map,crs = albo.proj4_init)\n",
    "exposure_map.crs"
   ]
  },
  {
   "cell_type": "code",
   "execution_count": null,
   "metadata": {
    "scrolled": true,
    "tags": []
   },
   "outputs": [],
   "source": [
    "exposure_map.info()"
   ]
  },
  {
   "cell_type": "code",
   "execution_count": null,
   "metadata": {},
   "outputs": [],
   "source": [
    "import numpy as np\n",
    "\n",
    "fig, ax = plt.subplots(\n",
    "    subplot_kw={'projection': albo}, figsize=(10, 10),dpi=300\n",
    ")\n",
    "font = {'family': 'serif',\n",
    "        'serif': 'Times New Roman',\n",
    "        'weight': 'normal',\n",
    "        'size': 12}\n",
    "plt.rc('font', **font)\n",
    "# plt.rc('font',family='Times New Roman')\n",
    "\n",
    "ax.set_extent([-129, -73, 20, 50], crs=ccrs.PlateCarree())\n",
    "\n",
    "from palettable.matplotlib import Viridis_7\n",
    "\n",
    "cmap = Viridis_7.mpl_colormap\n",
    "\n",
    "exposure_map.plot(\n",
    "    column='min-max',\n",
    "    ax=ax,\n",
    "    cmap=cmap,\n",
    "    legend=True,\n",
    "#     legend_kwds={'label': 'Exposure'},\n",
    "    scheme='NaturalBreaks',\n",
    "#     k=5,\n",
    "    legend_kwds={'loc': 'upper left',\n",
    "                 'title': 'Exposure',\n",
    "                 \"fmt\": \"{:.3f}\",\n",
    "                 'title_fontsize': 14, # Title of legend\n",
    "                 'fontsize': 11, # Font of legend\n",
    "                 'shadow': True\n",
    "                },               \n",
    "    missing_kwds={\n",
    "                \"color\": \"lightgrey\",\n",
    "                \"edgecolor\": \"grey\",\n",
    "                \"hatch\": \"////\",\n",
    "                \"label\": \"Nan\"\n",
    "                },\n",
    "#     prop={'family': 'Times New Roman', 'size': 16},\n",
    "    edgecolor=np.array([0., 0., 0., 0.]), #'white',\n",
    "    linewidth=0.2\n",
    ")\n",
    "state_boundary.boundary.plot(ax=ax,edgecolor='white',linewidth=0.5)\n",
    "\n",
    "ax.axis('on')\n",
    "ax.set_title('Transportation Energy Vulnerability in the US - Exposure', fontdict={'family':'Times New Roman','weight':'bold','size': 20},pad=20)\n",
    "plt.tight_layout(pad=4.5)\n",
    "\n",
    "\n",
    "ax.set_aspect('equal','box')\n",
    "# fig.tight_layout()\n",
    "\n",
    "fig.savefig('Figures/Exposure_USA.png', facecolor='w', dpi=500)"
   ]
  },
  {
   "cell_type": "code",
   "execution_count": null,
   "metadata": {},
   "outputs": [],
   "source": [
    "import numpy as np\n",
    "\n",
    "fig, ax = plt.subplots(\n",
    "    subplot_kw={'projection': albo}, figsize=(10, 10),dpi=300\n",
    ")\n",
    "font = {'family': 'serif',\n",
    "        'serif': 'Times New Roman',\n",
    "        'weight': 'normal',\n",
    "        'size': 12}\n",
    "plt.rc('font', **font)\n",
    "ax.set_extent([-129, -73, 20, 50], crs=ccrs.PlateCarree())\n",
    "\n",
    "from palettable.matplotlib import Viridis_7\n",
    "\n",
    "cmap = Viridis_7.mpl_colormap\n",
    "\n",
    "exposure_map.plot(\n",
    "    column='fuel',\n",
    "    ax=ax,\n",
    "    cmap=cmap,\n",
    "    legend=True,\n",
    "#     legend_kwds={'label': 'Exposure'},\n",
    "    scheme='NaturalBreaks',\n",
    "#     k=7,\n",
    "    legend_kwds={'loc': 'upper left',\n",
    "                 'title': 'Fuel Consumption (gallons)',\n",
    "                 \"fmt\": \"{:.2f}\",\n",
    "                 'title_fontsize': 10, \n",
    "                 'fontsize': 10, \n",
    "                 'shadow': True\n",
    "                },               \n",
    "    missing_kwds={\n",
    "                \"color\": \"lightgrey\",\n",
    "                \"edgecolor\": \"grey\",\n",
    "                \"hatch\": \"////\",\n",
    "                \"label\": \"Nan\"\n",
    "                },\n",
    "#     prop={'family': 'Times New Roman', 'size': 16},\n",
    "    edgecolor=np.array([0., 0., 0., 0.]), #'white',\n",
    "    linewidth=0.2\n",
    ")\n",
    "state_boundary.boundary.plot(ax=ax,edgecolor='white',linewidth=0.5)\n",
    "\n",
    "ax.axis('on')\n",
    "ax.set_title('Fuel Consumption in the US', fontdict={'weight':'bold','size': 20}, pad=20)\n",
    "plt.tight_layout(pad=4.5)\n",
    "\n",
    "\n",
    "ax.set_aspect('equal','box')\n",
    "# fig.tight_layout()\n",
    "\n",
    "fig.savefig('Figures/Fuel Consumption_USA.png', facecolor='w', dpi=500)"
   ]
  },
  {
   "cell_type": "code",
   "execution_count": null,
   "metadata": {},
   "outputs": [],
   "source": [
    "import numpy as np\n",
    "\n",
    "fig, ax = plt.subplots(\n",
    "    subplot_kw={'projection': albo}, figsize=(10, 10),dpi=300\n",
    ")\n",
    "font = {'family': 'serif',\n",
    "        'serif': 'Times New Roman',\n",
    "        'weight': 'normal',\n",
    "        'size': 12}\n",
    "plt.rc('font', **font)\n",
    "ax.set_extent([-129, -73, 20, 50], crs=ccrs.PlateCarree())\n",
    "\n",
    "from palettable.matplotlib import Viridis_7\n",
    "\n",
    "cmap = Viridis_7.mpl_colormap\n",
    "\n",
    "exposure_map.plot(\n",
    "    column='Price',\n",
    "    ax=ax,\n",
    "    cmap=cmap,\n",
    "    legend=True,\n",
    "#     legend_kwds={'label': 'Exposure'},\n",
    "    scheme='NaturalBreaks',\n",
    "    k=7,\n",
    "    legend_kwds={'loc': 'upper left',\n",
    "                 'title': 'Fuel Price ($/gallon)',\n",
    "                 \"fmt\": \"{:.3f}\",\n",
    "                 'title_fontsize': 12, \n",
    "                 'fontsize': 12, \n",
    "                 'shadow': True\n",
    "                },               \n",
    "    missing_kwds={\n",
    "                \"color\": \"lightgrey\",\n",
    "                \"edgecolor\": \"grey\",\n",
    "                \"hatch\": \"////\",\n",
    "                \"label\": \"Nan\"\n",
    "                },\n",
    "#     prop={'family': 'Times New Roman', 'size': 16},\n",
    "    edgecolor=np.array([0., 0., 0., 0.]), #'white',\n",
    "    linewidth=0.2\n",
    ")\n",
    "state_boundary.boundary.plot(ax=ax,edgecolor='white',linewidth=0.5)\n",
    "\n",
    "ax.axis('on')\n",
    "ax.set_title('Fuel Price in the US', fontdict={'weight':'bold','size': 20}, pad=20)\n",
    "plt.tight_layout(pad=4.5)\n",
    "\n",
    "\n",
    "ax.set_aspect('equal','box')\n",
    "# fig.tight_layout()\n",
    "\n",
    "fig.savefig('Figures/Price_USA.png', facecolor='w', dpi=500)"
   ]
  },
  {
   "cell_type": "markdown",
   "metadata": {},
   "source": [
    "# Sensitivity"
   ]
  },
  {
   "cell_type": "code",
   "execution_count": null,
   "metadata": {},
   "outputs": [],
   "source": [
    "sensitivity = pd.read_csv(\"Sensitivity-0409.csv\", dtype={\"Geocode\": str})"
   ]
  },
  {
   "cell_type": "code",
   "execution_count": null,
   "metadata": {},
   "outputs": [],
   "source": [
    "sensitivity.head()"
   ]
  },
  {
   "cell_type": "code",
   "execution_count": null,
   "metadata": {},
   "outputs": [],
   "source": [
    "sensitivity_map = pd.merge(sensitivity,basemap,left_on='Geocode',right_on='GEOID',how='right').drop(['Geocode'],axis=1)"
   ]
  },
  {
   "cell_type": "code",
   "execution_count": null,
   "metadata": {},
   "outputs": [],
   "source": [
    "sensitivity_map = gpd.GeoDataFrame(sensitivity_map,crs = albo.proj4_init)"
   ]
  },
  {
   "cell_type": "code",
   "execution_count": null,
   "metadata": {},
   "outputs": [],
   "source": [
    "sensitivity_map.crs"
   ]
  },
  {
   "cell_type": "code",
   "execution_count": null,
   "metadata": {},
   "outputs": [],
   "source": [
    "import numpy as np\n",
    "\n",
    "fig, ax = plt.subplots(\n",
    "    subplot_kw={'projection': albo}, figsize=(10, 10),dpi=300\n",
    ")\n",
    "font = {'family': 'serif',\n",
    "        'serif': 'Times New Roman',\n",
    "        'weight': 'normal',\n",
    "        'size': 12}\n",
    "plt.rc('font', **font)\n",
    "ax.set_extent([-129, -73, 20, 50], crs=ccrs.PlateCarree())\n",
    "\n",
    "from palettable.matplotlib import Viridis_7\n",
    "\n",
    "cmap = Viridis_7.mpl_colormap\n",
    "\n",
    "sensitivity_map.plot(\n",
    "    column='min_max_sens',\n",
    "    ax=ax,\n",
    "    cmap=cmap,\n",
    "    legend=True,\n",
    "#     legend_kwds={'label': 'Exposure'},\n",
    "    scheme='NaturalBreaks',\n",
    "#     k=7,\n",
    "    legend_kwds={'loc': 'upper left',\n",
    "                 'title': 'Sensitivity',\n",
    "                 \"fmt\": \"{:.3f}\",\n",
    "                 'title_fontsize': 14, \n",
    "                 'fontsize': 11, \n",
    "                 'shadow': True\n",
    "                },               \n",
    "    missing_kwds={\n",
    "                \"color\": \"lightgrey\",\n",
    "                \"edgecolor\": \"grey\",\n",
    "                \"hatch\": \"////\",\n",
    "                \"label\": \"Nan\"\n",
    "                },\n",
    "#     prop={'family': 'Times New Roman', 'size': 16},\n",
    "    edgecolor=np.array([0., 0., 0., 0.]), #'white',\n",
    "    linewidth=0.2\n",
    ")\n",
    "state_boundary.boundary.plot(ax=ax,edgecolor='white',linewidth=0.5)\n",
    "\n",
    "ax.axis('on')\n",
    "ax.set_title('Transportation Energy Vulnerability in the US - Sensitivity', fontdict={'weight':'bold','size': 20},pad=20)\n",
    "plt.tight_layout(pad=4.5)\n",
    "\n",
    "\n",
    "ax.set_aspect('equal','box')\n",
    "# fig.tight_layout()\n",
    "\n",
    "fig.savefig('Figures/Sensitivity_USA.png', facecolor='w', dpi=500)"
   ]
  },
  {
   "cell_type": "code",
   "execution_count": null,
   "metadata": {},
   "outputs": [],
   "source": [
    "import numpy as np\n",
    "\n",
    "fig, ax = plt.subplots(\n",
    "    subplot_kw={'projection': albo}, figsize=(10, 10),dpi=300\n",
    ")\n",
    "font = {'family': 'serif',\n",
    "        'serif': 'Times New Roman',\n",
    "        'weight': 'normal',\n",
    "        'size': 12}\n",
    "plt.rc('font', **font)\n",
    "ax.set_extent([-129, -73, 20, 50], crs=ccrs.PlateCarree())\n",
    "\n",
    "from palettable.matplotlib import Viridis_7\n",
    "\n",
    "cmap = Viridis_7.mpl_colormap\n",
    "\n",
    "sensitivity_map.plot(\n",
    "    column='X7',\n",
    "    ax=ax,\n",
    "    cmap=cmap,\n",
    "    legend=True,\n",
    "#     legend_kwds={'label': 'Exposure'},\n",
    "    scheme='NaturalBreaks',\n",
    "#     k=7,\n",
    "    legend_kwds={'loc': 'upper left',\n",
    "                 'title': 'X7',\n",
    "                 \"fmt\": \"{:.3f}\",\n",
    "                 'title_fontsize': 14, \n",
    "                 'fontsize': 11, \n",
    "                 'shadow': True\n",
    "                },               \n",
    "    missing_kwds={\n",
    "                \"color\": \"lightgrey\",\n",
    "                \"edgecolor\": \"grey\",\n",
    "                \"hatch\": \"////\",\n",
    "                \"label\": \"Nan\"\n",
    "                },\n",
    "#     prop={'family': 'Times New Roman', 'size': 16},\n",
    "    edgecolor=np.array([0., 0., 0., 0.]), #'white',\n",
    "    linewidth=0.2\n",
    ")\n",
    "state_boundary.boundary.plot(ax=ax,edgecolor='white',linewidth=0.5)\n",
    "\n",
    "ax.axis('on')\n",
    "ax.set_title('Transportation Energy Vulnerability in the US - Sensitivity', fontdict={'weight':'bold','size': 20},pad=20)\n",
    "plt.tight_layout(pad=4.5)\n",
    "\n",
    "\n",
    "ax.set_aspect('equal','box')\n",
    "# fig.tight_layout()\n",
    "\n",
    "fig.savefig('Figures/X7.png', facecolor='w', dpi=500)"
   ]
  },
  {
   "cell_type": "markdown",
   "metadata": {},
   "source": [
    "# Adaptive Capacity"
   ]
  },
  {
   "cell_type": "code",
   "execution_count": null,
   "metadata": {},
   "outputs": [],
   "source": [
    "adaptive_capacity = pd.read_csv('all_ac_data_0516.csv',dtype={\"GEO_ID\":str})\n",
    "adaptive_capacity.head()"
   ]
  },
  {
   "cell_type": "code",
   "execution_count": null,
   "metadata": {},
   "outputs": [],
   "source": [
    "adaptive_capacity_map = pd.merge(adaptive_capacity,basemap,left_on='GEO_ID',right_on='GEOID',how='right').drop(['GEO_ID'],axis=1)\n",
    "adaptive_capacity_map.info()"
   ]
  },
  {
   "cell_type": "code",
   "execution_count": null,
   "metadata": {},
   "outputs": [],
   "source": [
    "adaptive_capacity_map = gpd.GeoDataFrame(adaptive_capacity_map,crs = albo.proj4_init)\n",
    "adaptive_capacity_map.crs"
   ]
  },
  {
   "cell_type": "code",
   "execution_count": null,
   "metadata": {
    "tags": []
   },
   "outputs": [],
   "source": [
    "import numpy as np\n",
    "\n",
    "fig, ax = plt.subplots(\n",
    "    subplot_kw={'projection': albo}, figsize=(10, 10),dpi=300\n",
    ")\n",
    "font = {'family': 'serif',\n",
    "        'serif': 'Times New Roman',\n",
    "        'weight': 'normal',\n",
    "        'size': 12}\n",
    "plt.rc('font', **font)\n",
    "ax.set_extent([-129, -73, 20, 50], crs=ccrs.PlateCarree())\n",
    "\n",
    "from palettable.matplotlib import Viridis_7\n",
    "\n",
    "cmap = Viridis_7.mpl_colormap\n",
    "\n",
    "adaptive_capacity_map.plot(\n",
    "    column='AC_score',\n",
    "    ax=ax,\n",
    "    cmap=cmap,\n",
    "    legend=True,\n",
    "#     legend_kwds={'label': 'Exposure'},\n",
    "    scheme='NaturalBreaks',\n",
    "#     k=7,\n",
    "    legend_kwds={'loc': 'upper left',\n",
    "                 'title': 'Adaptive Capacity',\n",
    "                 \"fmt\": \"{:.3f}\",\n",
    "                 'title_fontsize': 14, \n",
    "                 'fontsize': 11, \n",
    "                 'shadow': True\n",
    "                },               \n",
    "    missing_kwds={\n",
    "                \"color\": \"lightgrey\",\n",
    "                \"edgecolor\": \"grey\",\n",
    "                \"hatch\": \"////\",\n",
    "                \"label\": \"Nan\"\n",
    "                },\n",
    "    edgecolor=np.array([0., 0., 0., 0.]), #'white',\n",
    "    linewidth=0.2\n",
    ")\n",
    "state_boundary.boundary.plot(ax=ax,edgecolor='white',linewidth=0.5)\n",
    "\n",
    "ax.axis('on')\n",
    "ax.set_title('Transportation Energy Vulnerability in the US - Adaptive Capacity',fontdict={'weight':'bold','size': 20},pad=20)\n",
    "plt.tight_layout(pad=4.5)\n",
    "\n",
    "\n",
    "ax.set_aspect('equal','box')\n",
    "# fig.tight_layout()\n",
    "\n",
    "fig.savefig('Figures/Adaptive Capacity_USA.png', facecolor='w', dpi=500)"
   ]
  },
  {
   "cell_type": "markdown",
   "metadata": {},
   "source": [
    "# Vulnerabilty Score"
   ]
  },
  {
   "cell_type": "code",
   "execution_count": null,
   "metadata": {},
   "outputs": [],
   "source": [
    "e = exposure_map[['GEOID','min-max']]\n",
    "s = sensitivity_map[['GEOID','min_max_sens']]\n",
    "ac = adaptive_capacity_map[['GEOID','AC_score']]"
   ]
  },
  {
   "cell_type": "code",
   "execution_count": null,
   "metadata": {},
   "outputs": [],
   "source": [
    "vulnerablity = pd.merge(e, s, on=\"GEOID\")\n",
    "vulnerablity = pd.merge(vulnerablity, ac, on=\"GEOID\")\n",
    "vulnerablity.head()"
   ]
  },
  {
   "cell_type": "code",
   "execution_count": null,
   "metadata": {},
   "outputs": [],
   "source": [
    "vulnerablity.info()"
   ]
  },
  {
   "cell_type": "code",
   "execution_count": null,
   "metadata": {},
   "outputs": [],
   "source": [
    "vulnerablity.fillna(0, inplace=True)"
   ]
  },
  {
   "cell_type": "code",
   "execution_count": null,
   "metadata": {},
   "outputs": [],
   "source": [
    "vulnerablity['vul_score_mulpi'] = vulnerablity.apply(lambda x: x[\"min-max\"]*(x[\"min_max_sens\"]-x[\"AC_score\"]), axis=1)"
   ]
  },
  {
   "cell_type": "code",
   "execution_count": null,
   "metadata": {},
   "outputs": [],
   "source": [
    "vulnerablity['vul_score_add'] = vulnerablity.apply(lambda x: x[\"min-max\"]+x[\"min_max_sens\"]-x[\"AC_score\"], axis=1)"
   ]
  },
  {
   "cell_type": "code",
   "execution_count": null,
   "metadata": {},
   "outputs": [],
   "source": [
    "vulnerablity.head()"
   ]
  },
  {
   "cell_type": "code",
   "execution_count": null,
   "metadata": {},
   "outputs": [],
   "source": [
    "vulnerablity.to_csv('Vulnerability Score.csv')"
   ]
  },
  {
   "cell_type": "code",
   "execution_count": null,
   "metadata": {},
   "outputs": [],
   "source": [
    "vulnerablity_map = pd.merge(vulnerablity,basemap,on='GEOID')\n",
    "vulnerablity_map = gpd.GeoDataFrame(vulnerablity_map,crs = albo.proj4_init)"
   ]
  },
  {
   "cell_type": "code",
   "execution_count": null,
   "metadata": {},
   "outputs": [],
   "source": [
    "vulnerablity_map.crs"
   ]
  },
  {
   "cell_type": "code",
   "execution_count": null,
   "metadata": {},
   "outputs": [],
   "source": [
    "vulnerablity_map_pos = vulnerablity_map[vulnerablity_map['vul_score_mulpi']>=0]\n",
    "vulnerablity_map_neg = vulnerablity_map[vulnerablity_map['vul_score_mulpi']<0]\n",
    "print(vulnerablity_map_pos['vul_score_mulpi'].mean(),vulnerablity_map_pos['vul_score_mulpi'].std())\n",
    "print(vulnerablity_map_neg['vul_score_mulpi'].mean(),vulnerablity_map_neg['vul_score_mulpi'].std())"
   ]
  },
  {
   "cell_type": "code",
   "execution_count": null,
   "metadata": {},
   "outputs": [],
   "source": [
    "import numpy as np\n",
    "\n",
    "fig, ax = plt.subplots(\n",
    "    subplot_kw={'projection': albo}, figsize=(10, 10),dpi=300\n",
    ")\n",
    "font = {'family': 'serif',\n",
    "        'serif': 'Times New Roman',\n",
    "        'weight': 'normal',\n",
    "        'size': 12}\n",
    "plt.rc('font', **font)\n",
    "ax.set_extent([-129, -73, 20, 50], crs=ccrs.PlateCarree())\n",
    "\n",
    "from palettable.matplotlib import Viridis_7\n",
    "\n",
    "cmap = Viridis_7.mpl_colormap\n",
    "\n",
    "vulnerablity_map.plot(\n",
    "    column='vul_score_add',\n",
    "    ax=ax,\n",
    "    cmap=cmap,\n",
    "    legend=True,\n",
    "#     legend_kwds={'label': 'Exposure'},\n",
    "    scheme='NaturalBreaks',\n",
    "#     k=7,\n",
    "    legend_kwds={'loc': 'upper left',\n",
    "                 'title': 'Vulnerability Score',\n",
    "                 \"fmt\": \"{:.3f}\",\n",
    "                 'title_fontsize': 14, \n",
    "                 'fontsize': 11, \n",
    "                 'shadow': True\n",
    "                },               \n",
    "    missing_kwds={\n",
    "                \"color\": \"lightgrey\",\n",
    "                \"edgecolor\": \"grey\",\n",
    "                \"hatch\": \"////\",\n",
    "                \"label\": \"Nan\"\n",
    "                },\n",
    "#     prop={'family': 'Times New Roman', 'size': 16},\n",
    "    edgecolor=np.array([0., 0., 0., 0.]), #'white',\n",
    "    linewidth=0.2\n",
    ")\n",
    "state_boundary.boundary.plot(ax=ax,edgecolor='white',linewidth=0.5)\n",
    "\n",
    "ax.axis('on')\n",
    "ax.set_title('Transportation Energy Vulnerability in the US',fontdict={'weight':'bold','size': 20},pad=20)\n",
    "plt.tight_layout(pad=4.5)\n",
    "\n",
    "\n",
    "ax.set_aspect('equal','box')\n",
    "# fig.tight_layout()\n",
    "\n",
    "fig.savefig('Figures/Vul_score_add.png', facecolor='w', dpi=500)"
   ]
  },
  {
   "cell_type": "markdown",
   "metadata": {},
   "source": [
    "# Weight Testing"
   ]
  },
  {
   "cell_type": "code",
   "execution_count": null,
   "metadata": {},
   "outputs": [],
   "source": [
    "vul_weidghted = pd.merge(e, s, on=\"GEOID\")\n",
    "vul_weidghted = pd.merge(vul_weidghted, ac, on=\"GEOID\")\n",
    "vul_weidghted.head()"
   ]
  },
  {
   "cell_type": "code",
   "execution_count": null,
   "metadata": {},
   "outputs": [],
   "source": [
    "vul_weidghted.fillna(0, inplace=True)"
   ]
  },
  {
   "cell_type": "code",
   "execution_count": null,
   "metadata": {},
   "outputs": [],
   "source": [
    "# min-max: exposure, min_max_sens: sensitivity; AC_score: adaptive capacity\n",
    "# Suppose the weight are 0.6 , 0.2, 0.2\n",
    "vul_weidghted['vul_mulpi_622'] = vul_weidghted.apply(lambda x: 1.8*x[\"min-max\"]*(0.6*x[\"min_max_sens\"]-0.6*x[\"AC_score\"]), axis=1)\n",
    "vul_weidghted['vul_add_622'] = vul_weidghted.apply(lambda x: 1.8*x[\"min-max\"]+0.6*x[\"min_max_sens\"]-0.6*x[\"AC_score\"], axis=1)"
   ]
  },
  {
   "cell_type": "code",
   "execution_count": null,
   "metadata": {},
   "outputs": [],
   "source": [
    "vul_weidghted['vul_mulpi_622'].corr(vulnerablity['vul_score_mulpi'])"
   ]
  },
  {
   "cell_type": "code",
   "execution_count": null,
   "metadata": {},
   "outputs": [],
   "source": [
    "vul_weidghted['vul_add_622'].corr(vulnerablity['vul_score_add'])"
   ]
  },
  {
   "cell_type": "code",
   "execution_count": null,
   "metadata": {},
   "outputs": [],
   "source": [
    "# Suppose the weight are 0.2 , 0.6, 0.2\n",
    "vul_weidghted['vul_mulpi_262'] = vul_weidghted.apply(lambda x: 0.6*x[\"min-max\"]*(1.8*x[\"min_max_sens\"]-0.6*x[\"AC_score\"]), axis=1)"
   ]
  },
  {
   "cell_type": "code",
   "execution_count": null,
   "metadata": {},
   "outputs": [],
   "source": [
    "vul_weidghted['vul_add_262'] = vul_weidghted.apply(lambda x: 0.2*x[\"min-max\"]+0.6*x[\"min_max_sens\"]-0.2*x[\"AC_score\"], axis=1)"
   ]
  },
  {
   "cell_type": "code",
   "execution_count": null,
   "metadata": {},
   "outputs": [],
   "source": [
    "vul_weidghted['vul_mulpi_262'].corr(vulnerablity['vul_score_mulpi'])"
   ]
  },
  {
   "cell_type": "code",
   "execution_count": null,
   "metadata": {},
   "outputs": [],
   "source": [
    "vul_weidghted['vul_add_262'].corr(vulnerablity['vul_score_add'])"
   ]
  },
  {
   "cell_type": "code",
   "execution_count": null,
   "metadata": {},
   "outputs": [],
   "source": [
    "# Suppose the weight are 0.2 , 0.2, 0.6\n",
    "vul_weidghted['vul_mulpi_226'] = vul_weidghted.apply(lambda x: 0.2*x[\"min-max\"]*(0.2*x[\"min_max_sens\"]-0.6*x[\"AC_score\"]), axis=1)"
   ]
  },
  {
   "cell_type": "code",
   "execution_count": null,
   "metadata": {},
   "outputs": [],
   "source": [
    "vul_weidghted['vul_add_226'] = vul_weidghted.apply(lambda x: 0.2*x[\"min-max\"]+0.2*x[\"min_max_sens\"]-0.6*x[\"AC_score\"], axis=1)"
   ]
  },
  {
   "cell_type": "code",
   "execution_count": null,
   "metadata": {},
   "outputs": [],
   "source": [
    "vul_weidghted['vul_mulpi_226'].corr(vulnerablity['vul_score_mulpi'])"
   ]
  },
  {
   "cell_type": "code",
   "execution_count": null,
   "metadata": {},
   "outputs": [],
   "source": [
    "vul_weidghted['vul_add_226'].corr(vulnerablity['vul_score_add'])"
   ]
  },
  {
   "cell_type": "code",
   "execution_count": null,
   "metadata": {},
   "outputs": [],
   "source": [
    "vul_weidghted.to_excel('vul_weidght_test.xlsx')"
   ]
  },
  {
   "cell_type": "markdown",
   "metadata": {},
   "source": [
    "# EV Adoption in IL"
   ]
  },
  {
   "cell_type": "code",
   "execution_count": null,
   "metadata": {},
   "outputs": [],
   "source": [
    "cv_ev_ex = pd.read_excel('IL CV-EV/IL_CV2EV_base.xlsx',dtype={'CountyFIPs':str})\n",
    "cv_ev_ex.head()"
   ]
  },
  {
   "cell_type": "code",
   "execution_count": null,
   "metadata": {},
   "outputs": [],
   "source": [
    "ex_IL = cv_ev_ex[['CountyFIPs','County', '2020_CV Costexpo_nor', '2030_CV Costexpo_nor',\n",
    "               '2040_CV Costexpo_nor','2050_CV Costexpo_nor','2020_EV Costexpo_nor','2030_EV Costexpo_nor',\n",
    "               '2040_EV Costexpo_nor','2050_EV Costexpo_nor']]\n",
    "ex_IL.head()"
   ]
  },
  {
   "cell_type": "code",
   "execution_count": null,
   "metadata": {},
   "outputs": [],
   "source": [
    "s_IL = sensitivity_map[['GEOID','min_max_sens']]\n",
    "ac_IL = adaptive_capacity_map[['GEOID','AC_score']]"
   ]
  },
  {
   "cell_type": "code",
   "execution_count": null,
   "metadata": {},
   "outputs": [],
   "source": [
    "pop = pd.read_csv('IL CV-EV/latch_2017.csv',dtype={'geocode':str})\n",
    "for i in range(len(pop)):\n",
    "    pop.loc[i,'geocode'] = pop.loc[i,'geocode'].zfill(11)\n",
    "pop.head()"
   ]
  },
  {
   "cell_type": "code",
   "execution_count": null,
   "metadata": {},
   "outputs": [],
   "source": [
    "col_name=pop.columns.tolist()\n",
    "col_name.insert(1,'StateFIPs')\n",
    "col_name.insert(2,'CountyFIPs')\n",
    "col_name.insert(3,'CountyPOP')\n",
    "pop=pop.reindex(columns=col_name)\n",
    "for i in range(len(pop)):\n",
    "    pop.loc[i,'StateFIPs'] = str(pop.loc[i,'geocode'])[:2]\n",
    "    pop.loc[i,'CountyFIPs'] = str(pop.loc[i,'geocode'])[:5]"
   ]
  },
  {
   "cell_type": "code",
   "execution_count": null,
   "metadata": {},
   "outputs": [],
   "source": [
    "pop_IL = pop[(pop.StateFIPs == \"17\")]\n",
    "pop_IL = pop_IL.reset_index()"
   ]
  },
  {
   "cell_type": "code",
   "execution_count": null,
   "metadata": {},
   "outputs": [],
   "source": [
    "pop_county = pop_IL.groupby(['CountyFIPs'])[['tot_pop']].sum()\n",
    "pop_county = pop_county.reset_index()\n",
    "pop_county.head()"
   ]
  },
  {
   "cell_type": "code",
   "execution_count": null,
   "metadata": {},
   "outputs": [],
   "source": [
    "for i in range(len(pop_IL)):\n",
    "    for j in range(len(pop_county)):\n",
    "        if pop_IL.loc[i,'CountyFIPs'] == pop_county.loc[j,'CountyFIPs']:\n",
    "            pop_IL.loc[i,'CountyPOP'] = pop_county.loc[j,'tot_pop']"
   ]
  },
  {
   "cell_type": "code",
   "execution_count": null,
   "metadata": {},
   "outputs": [],
   "source": [
    "pop_IL"
   ]
  },
  {
   "cell_type": "code",
   "execution_count": null,
   "metadata": {},
   "outputs": [],
   "source": [
    "s_IL = pd.merge(s_IL,pop_IL,left_on='GEOID',right_on='geocode',how=\"left\")\n",
    "ac_IL = pd.merge(ac_IL,pop_IL,left_on='GEOID',right_on='geocode',how=\"left\")"
   ]
  },
  {
   "cell_type": "code",
   "execution_count": null,
   "metadata": {},
   "outputs": [],
   "source": [
    "s_IL = s_IL[(s_IL.StateFIPs == \"17\")]\n",
    "ac_IL = ac_IL[(ac_IL.StateFIPs == \"17\")]"
   ]
  },
  {
   "cell_type": "code",
   "execution_count": null,
   "metadata": {},
   "outputs": [],
   "source": [
    "s_IL['sens-new'] = s_IL.apply(lambda x: x['min_max_sens'] * (x['tot_pop']/x['CountyPOP']),axis=1)\n",
    "ac_IL['ac-new'] = ac_IL.apply(lambda x: x['AC_score'] * (x['tot_pop']/x['CountyPOP']),axis=1)"
   ]
  },
  {
   "cell_type": "code",
   "execution_count": null,
   "metadata": {},
   "outputs": [],
   "source": [
    "s_county = s_IL.groupby(['CountyFIPs'])[['sens-new']].sum()\n",
    "s_county.head()"
   ]
  },
  {
   "cell_type": "code",
   "execution_count": null,
   "metadata": {},
   "outputs": [],
   "source": [
    "ac_county = ac_IL.groupby(['CountyFIPs'])[['ac-new']].sum()\n",
    "ac_county.head()"
   ]
  },
  {
   "cell_type": "code",
   "execution_count": null,
   "metadata": {},
   "outputs": [],
   "source": [
    "s_county = s_county.reset_index()\n",
    "ac_county = ac_county.reset_index()"
   ]
  },
  {
   "cell_type": "code",
   "execution_count": null,
   "metadata": {},
   "outputs": [],
   "source": [
    "minsens = s_county['sens-new'].min()\n",
    "maxsens = s_county['sens-new'].max()\n",
    "minac = ac_county['ac-new'].min()\n",
    "maxac = ac_county['ac-new'].max()\n",
    "s_county['sens-new'] = s_county.apply(lambda x: (x['sens-new'] - minsens)/(maxsens-minsens),axis=1)\n",
    "ac_county['ac-new'] = ac_county.apply(lambda x: (x['ac-new'] - minac)/(maxac-minac),axis=1)"
   ]
  },
  {
   "cell_type": "code",
   "execution_count": null,
   "metadata": {
    "scrolled": true
   },
   "outputs": [],
   "source": [
    "ac_county.head()"
   ]
  },
  {
   "cell_type": "code",
   "execution_count": null,
   "metadata": {},
   "outputs": [],
   "source": [
    "vul_score = pd.merge(ex_IL,s_county,on='CountyFIPs')\n",
    "vul_score = pd.merge(vul_score,ac_county,on='CountyFIPs')\n",
    "vul_score.head()"
   ]
  },
  {
   "cell_type": "code",
   "execution_count": null,
   "metadata": {
    "tags": []
   },
   "outputs": [],
   "source": [
    "vul_score.describe()"
   ]
  },
  {
   "cell_type": "code",
   "execution_count": null,
   "metadata": {},
   "outputs": [],
   "source": [
    "vul_score.fillna(0, inplace=True)"
   ]
  },
  {
   "cell_type": "code",
   "execution_count": null,
   "metadata": {},
   "outputs": [],
   "source": [
    "vul_score['2020CV'] = vul_score.apply(lambda x: x[\"2020_CV Costexpo_nor\"]*(x[\"sens-new\"]-x[\"ac-new\"]), axis=1)\n",
    "vul_score['2030CV'] = vul_score.apply(lambda x: x[\"2030_CV Costexpo_nor\"]*(x[\"sens-new\"]-x[\"ac-new\"]), axis=1)\n",
    "vul_score['2040CV'] = vul_score.apply(lambda x: x[\"2040_CV Costexpo_nor\"]*(x[\"sens-new\"]-x[\"ac-new\"]), axis=1)\n",
    "vul_score['2050CV'] = vul_score.apply(lambda x: x[\"2050_CV Costexpo_nor\"]*(x[\"sens-new\"]-x[\"ac-new\"]), axis=1)\n",
    "vul_score['2020EV'] = vul_score.apply(lambda x: x[\"2020_EV Costexpo_nor\"]*(x[\"sens-new\"]-x[\"ac-new\"]), axis=1)\n",
    "vul_score['2030EV'] = vul_score.apply(lambda x: x[\"2030_EV Costexpo_nor\"]*(x[\"sens-new\"]-x[\"ac-new\"]), axis=1)\n",
    "vul_score['2040EV'] = vul_score.apply(lambda x: x[\"2040_EV Costexpo_nor\"]*(x[\"sens-new\"]-x[\"ac-new\"]), axis=1)\n",
    "vul_score['2050EV'] = vul_score.apply(lambda x: x[\"2050_EV Costexpo_nor\"]*(x[\"sens-new\"]-x[\"ac-new\"]), axis=1)"
   ]
  },
  {
   "cell_type": "code",
   "execution_count": null,
   "metadata": {},
   "outputs": [],
   "source": [
    "vul_score.head()"
   ]
  },
  {
   "cell_type": "code",
   "execution_count": null,
   "metadata": {},
   "outputs": [],
   "source": [
    "vul_score.to_excel('IL CV-EV/vul_score CV-EV_base.xlsx')"
   ]
  },
  {
   "cell_type": "code",
   "execution_count": null,
   "metadata": {},
   "outputs": [],
   "source": []
  }
 ],
 "metadata": {
  "kernelspec": {
   "display_name": "Python 3",
   "language": "python",
   "name": "python3"
  },
  "language_info": {
   "codemirror_mode": {
    "name": "ipython",
    "version": 3
   },
   "file_extension": ".py",
   "mimetype": "text/x-python",
   "name": "python",
   "nbconvert_exporter": "python",
   "pygments_lexer": "ipython3",
   "version": "3.8.5"
  }
 },
 "nbformat": 4,
 "nbformat_minor": 4
}
