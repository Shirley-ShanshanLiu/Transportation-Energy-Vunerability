{
 "cells": [
  {
   "cell_type": "markdown",
   "metadata": {},
   "source": [
    "## Vulnerability in the US at Census Tract Level"
   ]
  },
  {
   "cell_type": "code",
   "execution_count": null,
   "metadata": {
    "tags": []
   },
   "outputs": [],
   "source": [
    "import geopandas as gpd\n",
    "import pandas as pd\n",
    "import pathlib\n",
    "\n",
    "import matplotlib.pyplot as plt\n",
    "\n",
    "from cartopy import crs as ccrs\n",
    "\n",
    "import os\n",
    "import sys\n",
    "import subprocess\n",
    "import datetime\n",
    "import platform\n",
    "import datetime"
   ]
  },
  {
   "cell_type": "code",
   "execution_count": null,
   "metadata": {},
   "outputs": [],
   "source": [
    "albo = ccrs.AlbersEqualArea(\n",
    "    central_longitude=-96,\n",
    "    central_latitude=37.5,\n",
    "    false_easting=0.0,\n",
    "    false_northing=0.0,\n",
    "    standard_parallels=(29.5, 45.5),\n",
    "    globe=None,\n",
    ")"
   ]
  },
  {
   "cell_type": "code",
   "execution_count": null,
   "metadata": {},
   "outputs": [],
   "source": [
    "import glob\n",
    "path=r'census_shp'\n",
    "\n",
    "file=glob.glob(os.path.join(path, 'cb_2018_**_tract_500k.shp'))\n",
    "# print(file)\n",
    "print(len(file))"
   ]
  },
  {
   "cell_type": "code",
   "execution_count": null,
   "metadata": {},
   "outputs": [],
   "source": [
    "## Import the census tracts\n",
    "\n",
    "basemap= gpd.GeoDataFrame()\n",
    "for f in file:\n",
    "    basemap = pd.concat([basemap, gpd.read_file(f)], axis=0)\n",
    "    \n",
    "basemap = basemap[['GEOID','AFFGEOID','STATEFP','geometry']]\n",
    "basemap.head()"
   ]
  },
  {
   "cell_type": "code",
   "execution_count": null,
   "metadata": {},
   "outputs": [],
   "source": [
    "basemap.crs"
   ]
  },
  {
   "cell_type": "code",
   "execution_count": null,
   "metadata": {},
   "outputs": [],
   "source": [
    "## Change the projection\n",
    "basemap = basemap.to_crs(albo.proj4_init)"
   ]
  },
  {
   "cell_type": "code",
   "execution_count": null,
   "metadata": {},
   "outputs": [],
   "source": [
    "## Change the position of Alaska and some islands\n",
    "\n",
    "m = basemap.STATEFP =='15'\n",
    "basemap[m] = basemap[m].set_geometry(basemap[m].translate(5000000,-1500000))\n",
    "\n",
    "n = basemap.STATEFP == '02'\n",
    "basemap[n] = basemap[n].set_geometry(basemap[n].scale(.5,.5,.5,origin=(-3000000, 4000000)).translate(1000000, -4800000))"
   ]
  },
  {
   "cell_type": "markdown",
   "metadata": {
    "tags": []
   },
   "source": [
    "State Boundary used in Maps"
   ]
  },
  {
   "cell_type": "code",
   "execution_count": null,
   "metadata": {},
   "outputs": [],
   "source": [
    "## Import the state boundaries\n",
    "state_boundary = gpd.read_file('state_shp/cb_2018_us_state_500k.shp')\n",
    "state_boundary.plot()"
   ]
  },
  {
   "cell_type": "code",
   "execution_count": null,
   "metadata": {},
   "outputs": [],
   "source": [
    "state_boundary = state_boundary.to_crs(albo.proj4_init)\n",
    "\n",
    "m = state_boundary.STATEFP =='15'\n",
    "state_boundary[m] = state_boundary[m].set_geometry(state_boundary[m].translate(5000000,-1500000))\n",
    "\n",
    "n = state_boundary.STATEFP == '02'\n",
    "state_boundary[n] = state_boundary[n].set_geometry(state_boundary[n].scale(.5,.5,.5,origin=(-3000000, 4000000)).translate(1000000, -4800000))"
   ]
  },
  {
   "cell_type": "markdown",
   "metadata": {},
   "source": [
    "# Exposure"
   ]
  },
  {
   "cell_type": "code",
   "execution_count": null,
   "metadata": {},
   "outputs": [],
   "source": [
    "## Import data\n",
    "\n",
    "exposure = pd.read_csv('census_data/exposure_census.csv', dtype = {'State':str,\"GEOID\":str,\"GEO_ID\":str})\n",
    "exposure.head()"
   ]
  },
  {
   "cell_type": "code",
   "execution_count": null,
   "metadata": {},
   "outputs": [],
   "source": [
    "exposure_map = pd.merge(exposure,basemap,on='GEOID',how='right')\n",
    "exposure_map = gpd.GeoDataFrame(exposure_map,crs = albo.proj4_init)\n",
    "exposure_map.crs"
   ]
  },
  {
   "cell_type": "code",
   "execution_count": null,
   "metadata": {
    "scrolled": true,
    "tags": []
   },
   "outputs": [],
   "source": [
    "exposure_map.info()"
   ]
  },
  {
   "cell_type": "code",
   "execution_count": null,
   "metadata": {},
   "outputs": [],
   "source": [
    "import numpy as np\n",
    "\n",
    "fig, ax = plt.subplots(\n",
    "    subplot_kw={'projection': albo}, figsize=(10, 10),dpi=300\n",
    ")\n",
    "font = {'family': 'serif',\n",
    "        'serif': 'Times New Roman',\n",
    "        'weight': 'normal',\n",
    "        'size': 12}\n",
    "plt.rc('font', **font)\n",
    "# plt.rc('font',family='Times New Roman')\n",
    "\n",
    "ax.set_extent([-129, -73, 20, 50], crs=ccrs.PlateCarree())\n",
    "\n",
    "from palettable.matplotlib import Viridis_7\n",
    "\n",
    "cmap = Viridis_7.mpl_colormap\n",
    "\n",
    "exposure_map.plot(\n",
    "    column='min_max_ex',\n",
    "    ax=ax,\n",
    "    cmap=cmap,\n",
    "    legend=True,\n",
    "#     legend_kwds={'label': 'Exposure'},\n",
    "    scheme='NaturalBreaks',\n",
    "#     k=5,\n",
    "    legend_kwds={'loc': 'upper left',\n",
    "                 'title': 'Exposure',\n",
    "                 \"fmt\": \"{:.3f}\",\n",
    "                 'title_fontsize': 14, # Title of legend\n",
    "                 'fontsize': 11, # Font of legend\n",
    "                 'shadow': True\n",
    "                },               \n",
    "    missing_kwds={\n",
    "                \"color\": \"lightgrey\",\n",
    "                \"edgecolor\": \"grey\",\n",
    "                \"hatch\": \"////\",\n",
    "                \"label\": \"Nan\"\n",
    "                },\n",
    "#     prop={'family': 'Times New Roman', 'size': 16},\n",
    "    edgecolor=np.array([0., 0., 0., 0.]), #'white',\n",
    "    linewidth=0.2\n",
    ")\n",
    "state_boundary.boundary.plot(ax=ax,edgecolor='white',linewidth=0.5)\n",
    "\n",
    "ax.axis('on')\n",
    "ax.set_title('Transportation Energy Vulnerability in the US - Exposure', fontdict={'family':'Times New Roman','weight':'bold','size': 20},pad=20)\n",
    "plt.tight_layout(pad=4.5)\n",
    "\n",
    "\n",
    "ax.set_aspect('equal','box')\n",
    "# fig.tight_layout()\n",
    "\n",
    "fig.savefig('Figures/Exposure_USA.png', facecolor='w', dpi=500)"
   ]
  },
  {
   "cell_type": "code",
   "execution_count": null,
   "metadata": {},
   "outputs": [],
   "source": [
    "import numpy as np\n",
    "\n",
    "fig, ax = plt.subplots(\n",
    "    subplot_kw={'projection': albo}, figsize=(10, 10),dpi=300\n",
    ")\n",
    "font = {'family': 'serif',\n",
    "        'serif': 'Times New Roman',\n",
    "        'weight': 'normal',\n",
    "        'size': 12}\n",
    "plt.rc('font', **font)\n",
    "ax.set_extent([-129, -73, 20, 50], crs=ccrs.PlateCarree())\n",
    "\n",
    "from palettable.matplotlib import Viridis_7\n",
    "\n",
    "cmap = Viridis_7.mpl_colormap\n",
    "\n",
    "exposure_map.plot(\n",
    "    column='fuel',\n",
    "    ax=ax,\n",
    "    cmap=cmap,\n",
    "    legend=True,\n",
    "#     legend_kwds={'label': 'Exposure'},\n",
    "    scheme='NaturalBreaks',\n",
    "#     k=7,\n",
    "    legend_kwds={'loc': 'upper left',\n",
    "                 'title': 'Fuel Consumption (gallons)',\n",
    "                 \"fmt\": \"{:.2f}\",\n",
    "                 'title_fontsize': 10, \n",
    "                 'fontsize': 10, \n",
    "                 'shadow': True\n",
    "                },               \n",
    "    missing_kwds={\n",
    "                \"color\": \"lightgrey\",\n",
    "                \"edgecolor\": \"grey\",\n",
    "                \"hatch\": \"////\",\n",
    "                \"label\": \"Nan\"\n",
    "                },\n",
    "#     prop={'family': 'Times New Roman', 'size': 16},\n",
    "    edgecolor=np.array([0., 0., 0., 0.]), #'white',\n",
    "    linewidth=0.2\n",
    ")\n",
    "state_boundary.boundary.plot(ax=ax,edgecolor='white',linewidth=0.5)\n",
    "\n",
    "ax.axis('on')\n",
    "ax.set_title('Fuel Consumption in the US', fontdict={'weight':'bold','size': 20}, pad=20)\n",
    "plt.tight_layout(pad=4.5)\n",
    "\n",
    "\n",
    "ax.set_aspect('equal','box')\n",
    "# fig.tight_layout()\n",
    "\n",
    "fig.savefig('Figures/Fuel Consumption_USA.png', facecolor='w', dpi=500)"
   ]
  },
  {
   "cell_type": "code",
   "execution_count": null,
   "metadata": {},
   "outputs": [],
   "source": [
    "import numpy as np\n",
    "\n",
    "fig, ax = plt.subplots(\n",
    "    subplot_kw={'projection': albo}, figsize=(10, 10),dpi=300\n",
    ")\n",
    "font = {'family': 'serif',\n",
    "        'serif': 'Times New Roman',\n",
    "        'weight': 'normal',\n",
    "        'size': 12}\n",
    "plt.rc('font', **font)\n",
    "ax.set_extent([-129, -73, 20, 50], crs=ccrs.PlateCarree())\n",
    "\n",
    "from palettable.matplotlib import Viridis_7\n",
    "\n",
    "cmap = Viridis_7.mpl_colormap\n",
    "\n",
    "exposure_map.plot(\n",
    "    column='Price',\n",
    "    ax=ax,\n",
    "    cmap=cmap,\n",
    "    legend=True,\n",
    "#     legend_kwds={'label': 'Exposure'},\n",
    "    scheme='NaturalBreaks',\n",
    "    k=7,\n",
    "    legend_kwds={'loc': 'upper left',\n",
    "                 'title': 'Fuel Price ($/gallon)',\n",
    "                 \"fmt\": \"{:.3f}\",\n",
    "                 'title_fontsize': 12, \n",
    "                 'fontsize': 12, \n",
    "                 'shadow': True\n",
    "                },               \n",
    "    missing_kwds={\n",
    "                \"color\": \"lightgrey\",\n",
    "                \"edgecolor\": \"grey\",\n",
    "                \"hatch\": \"////\",\n",
    "                \"label\": \"Nan\"\n",
    "                },\n",
    "#     prop={'family': 'Times New Roman', 'size': 16},\n",
    "    edgecolor=np.array([0., 0., 0., 0.]), #'white',\n",
    "    linewidth=0.2\n",
    ")\n",
    "state_boundary.boundary.plot(ax=ax,edgecolor='white',linewidth=0.5)\n",
    "\n",
    "ax.axis('on')\n",
    "ax.set_title('Fuel Price in the US', fontdict={'weight':'bold','size': 20}, pad=20)\n",
    "plt.tight_layout(pad=4.5)\n",
    "\n",
    "\n",
    "ax.set_aspect('equal','box')\n",
    "# fig.tight_layout()\n",
    "\n",
    "fig.savefig('Figures/Price_USA.png', facecolor='w', dpi=500)"
   ]
  },
  {
   "cell_type": "markdown",
   "metadata": {},
   "source": [
    "# Sensitivity"
   ]
  },
  {
   "cell_type": "code",
   "execution_count": null,
   "metadata": {},
   "outputs": [],
   "source": [
    "sensitivity = pd.read_csv(\"census_data/sensitivity_census.csv\", dtype={\"Geocode\": str})"
   ]
  },
  {
   "cell_type": "code",
   "execution_count": null,
   "metadata": {},
   "outputs": [],
   "source": [
    "sensitivity.head()"
   ]
  },
  {
   "cell_type": "code",
   "execution_count": null,
   "metadata": {},
   "outputs": [],
   "source": [
    "sensitivity_map = pd.merge(sensitivity,basemap,left_on='Geocode',right_on='GEOID',how='right').drop(['Geocode'],axis=1)"
   ]
  },
  {
   "cell_type": "code",
   "execution_count": null,
   "metadata": {},
   "outputs": [],
   "source": [
    "sensitivity_map = gpd.GeoDataFrame(sensitivity_map,crs = albo.proj4_init)"
   ]
  },
  {
   "cell_type": "code",
   "execution_count": null,
   "metadata": {},
   "outputs": [],
   "source": [
    "sensitivity_map.crs"
   ]
  },
  {
   "cell_type": "code",
   "execution_count": null,
   "metadata": {},
   "outputs": [],
   "source": [
    "import numpy as np\n",
    "\n",
    "fig, ax = plt.subplots(\n",
    "    subplot_kw={'projection': albo}, figsize=(10, 10),dpi=300\n",
    ")\n",
    "font = {'family': 'serif',\n",
    "        'serif': 'Times New Roman',\n",
    "        'weight': 'normal',\n",
    "        'size': 12}\n",
    "plt.rc('font', **font)\n",
    "ax.set_extent([-129, -73, 20, 50], crs=ccrs.PlateCarree())\n",
    "\n",
    "from palettable.matplotlib import Viridis_7\n",
    "\n",
    "cmap = Viridis_7.mpl_colormap\n",
    "\n",
    "sensitivity_map.plot(\n",
    "    column='min_max_sens',\n",
    "    ax=ax,\n",
    "    cmap=cmap,\n",
    "    legend=True,\n",
    "#     legend_kwds={'label': 'Exposure'},\n",
    "    scheme='NaturalBreaks',\n",
    "#     k=7,\n",
    "    legend_kwds={'loc': 'upper left',\n",
    "                 'title': 'Sensitivity',\n",
    "                 \"fmt\": \"{:.3f}\",\n",
    "                 'title_fontsize': 14, \n",
    "                 'fontsize': 11, \n",
    "                 'shadow': True\n",
    "                },               \n",
    "    missing_kwds={\n",
    "                \"color\": \"lightgrey\",\n",
    "                \"edgecolor\": \"grey\",\n",
    "                \"hatch\": \"////\",\n",
    "                \"label\": \"Nan\"\n",
    "                },\n",
    "#     prop={'family': 'Times New Roman', 'size': 16},\n",
    "    edgecolor=np.array([0., 0., 0., 0.]), #'white',\n",
    "    linewidth=0.2\n",
    ")\n",
    "state_boundary.boundary.plot(ax=ax,edgecolor='white',linewidth=0.5)\n",
    "\n",
    "ax.axis('on')\n",
    "ax.set_title('Transportation Energy Vulnerability in the US - Sensitivity', fontdict={'weight':'bold','size': 20},pad=20)\n",
    "plt.tight_layout(pad=4.5)\n",
    "\n",
    "\n",
    "ax.set_aspect('equal','box')\n",
    "# fig.tight_layout()\n",
    "\n",
    "fig.savefig('Figures/Sensitivity_USA.png', facecolor='w', dpi=500)"
   ]
  },
  {
   "cell_type": "code",
   "execution_count": null,
   "metadata": {},
   "outputs": [],
   "source": [
    "import numpy as np\n",
    "\n",
    "fig, ax = plt.subplots(\n",
    "    subplot_kw={'projection': albo}, figsize=(10, 10),dpi=300\n",
    ")\n",
    "font = {'family': 'serif',\n",
    "        'serif': 'Times New Roman',\n",
    "        'weight': 'normal',\n",
    "        'size': 12}\n",
    "plt.rc('font', **font)\n",
    "ax.set_extent([-129, -73, 20, 50], crs=ccrs.PlateCarree())\n",
    "\n",
    "from palettable.matplotlib import Viridis_7\n",
    "\n",
    "cmap = Viridis_7.mpl_colormap\n",
    "\n",
    "sensitivity_map.plot(\n",
    "    column='X7',\n",
    "    ax=ax,\n",
    "    cmap=cmap,\n",
    "    legend=True,\n",
    "#     legend_kwds={'label': 'Exposure'},\n",
    "    scheme='NaturalBreaks',\n",
    "#     k=7,\n",
    "    legend_kwds={'loc': 'upper left',\n",
    "                 'title': 'X7',\n",
    "                 \"fmt\": \"{:.3f}\",\n",
    "                 'title_fontsize': 14, \n",
    "                 'fontsize': 11, \n",
    "                 'shadow': True\n",
    "                },               \n",
    "    missing_kwds={\n",
    "                \"color\": \"lightgrey\",\n",
    "                \"edgecolor\": \"grey\",\n",
    "                \"hatch\": \"////\",\n",
    "                \"label\": \"Nan\"\n",
    "                },\n",
    "#     prop={'family': 'Times New Roman', 'size': 16},\n",
    "    edgecolor=np.array([0., 0., 0., 0.]), #'white',\n",
    "    linewidth=0.2\n",
    ")\n",
    "state_boundary.boundary.plot(ax=ax,edgecolor='white',linewidth=0.5)\n",
    "\n",
    "ax.axis('on')\n",
    "ax.set_title('Transportation Energy Vulnerability in the US - Sensitivity', fontdict={'weight':'bold','size': 20},pad=20)\n",
    "plt.tight_layout(pad=4.5)\n",
    "\n",
    "\n",
    "ax.set_aspect('equal','box')\n",
    "# fig.tight_layout()\n",
    "\n",
    "fig.savefig('Figures/X7.png', facecolor='w', dpi=500)"
   ]
  },
  {
   "cell_type": "markdown",
   "metadata": {},
   "source": [
    "# Adaptive Capacity"
   ]
  },
  {
   "cell_type": "code",
   "execution_count": null,
   "metadata": {},
   "outputs": [],
   "source": [
    "adaptive_capacity = pd.read_csv('census_data/adaptive_capacity_census.csv',dtype={\"GEO_ID\":str})\n",
    "adaptive_capacity.head()"
   ]
  },
  {
   "cell_type": "code",
   "execution_count": null,
   "metadata": {},
   "outputs": [],
   "source": [
    "adaptive_capacity_map = pd.merge(adaptive_capacity,basemap,left_on='GEO_ID',right_on='GEOID',how='right').drop(['GEO_ID'],axis=1)\n",
    "adaptive_capacity_map.info()"
   ]
  },
  {
   "cell_type": "code",
   "execution_count": null,
   "metadata": {},
   "outputs": [],
   "source": [
    "adaptive_capacity_map = gpd.GeoDataFrame(adaptive_capacity_map,crs = albo.proj4_init)\n",
    "adaptive_capacity_map.crs"
   ]
  },
  {
   "cell_type": "code",
   "execution_count": null,
   "metadata": {
    "tags": []
   },
   "outputs": [],
   "source": [
    "import numpy as np\n",
    "\n",
    "fig, ax = plt.subplots(\n",
    "    subplot_kw={'projection': albo}, figsize=(10, 10),dpi=300\n",
    ")\n",
    "font = {'family': 'serif',\n",
    "        'serif': 'Times New Roman',\n",
    "        'weight': 'normal',\n",
    "        'size': 12}\n",
    "plt.rc('font', **font)\n",
    "ax.set_extent([-129, -73, 20, 50], crs=ccrs.PlateCarree())\n",
    "\n",
    "from palettable.matplotlib import Viridis_7\n",
    "\n",
    "cmap = Viridis_7.mpl_colormap\n",
    "\n",
    "adaptive_capacity_map.plot(\n",
    "    column='min_max_ac',\n",
    "    ax=ax,\n",
    "    cmap=cmap,\n",
    "    legend=True,\n",
    "#     legend_kwds={'label': 'Exposure'},\n",
    "    scheme='NaturalBreaks',\n",
    "#     k=7,\n",
    "    legend_kwds={'loc': 'upper left',\n",
    "                 'title': 'Adaptive Capacity',\n",
    "                 \"fmt\": \"{:.3f}\",\n",
    "                 'title_fontsize': 14, \n",
    "                 'fontsize': 11, \n",
    "                 'shadow': True\n",
    "                },               \n",
    "    missing_kwds={\n",
    "                \"color\": \"lightgrey\",\n",
    "                \"edgecolor\": \"grey\",\n",
    "                \"hatch\": \"////\",\n",
    "                \"label\": \"Nan\"\n",
    "                },\n",
    "    edgecolor=np.array([0., 0., 0., 0.]), #'white',\n",
    "    linewidth=0.2\n",
    ")\n",
    "state_boundary.boundary.plot(ax=ax,edgecolor='white',linewidth=0.5)\n",
    "\n",
    "ax.axis('on')\n",
    "ax.set_title('Transportation Energy Vulnerability in the US - Adaptive Capacity',fontdict={'weight':'bold','size': 20},pad=20)\n",
    "plt.tight_layout(pad=4.5)\n",
    "\n",
    "\n",
    "ax.set_aspect('equal','box')\n",
    "# fig.tight_layout()\n",
    "\n",
    "fig.savefig('Figures/Adaptive Capacity_USA.png', facecolor='w', dpi=500)"
   ]
  },
  {
   "cell_type": "markdown",
   "metadata": {},
   "source": [
    "# Vulnerabilty Score"
   ]
  },
  {
   "cell_type": "code",
   "execution_count": null,
   "metadata": {},
   "outputs": [],
   "source": [
    "e = exposure_map[['GEOID','min_max_ex']]\n",
    "s = sensitivity_map[['GEOID','min_max_sens']]\n",
    "ac = adaptive_capacity_map[['GEOID','min_max_ac']]"
   ]
  },
  {
   "cell_type": "code",
   "execution_count": null,
   "metadata": {},
   "outputs": [],
   "source": [
    "vulnerablity = pd.merge(e, s, on=\"GEOID\")\n",
    "vulnerablity = pd.merge(vulnerablity, ac, on=\"GEOID\")\n",
    "vulnerablity.head()"
   ]
  },
  {
   "cell_type": "code",
   "execution_count": null,
   "metadata": {},
   "outputs": [],
   "source": [
    "vulnerablity.info()"
   ]
  },
  {
   "cell_type": "code",
   "execution_count": null,
   "metadata": {},
   "outputs": [],
   "source": [
    "vulnerablity.fillna(0, inplace=True)"
   ]
  },
  {
   "cell_type": "code",
   "execution_count": null,
   "metadata": {},
   "outputs": [],
   "source": [
    "vulnerablity['vul_score_mulpi'] = vulnerablity.apply(lambda x: x[\"min_max_ex\"]*(x[\"min_max_sens\"]-x[\"min_max_ac\"]), axis=1)"
   ]
  },
  {
   "cell_type": "code",
   "execution_count": null,
   "metadata": {},
   "outputs": [],
   "source": [
    "vulnerablity['vul_score_add'] = vulnerablity.apply(lambda x: x[\"min_max_ex\"]+x[\"min_max_sens\"]-x[\"min_max_ac\"], axis=1)"
   ]
  },
  {
   "cell_type": "code",
   "execution_count": null,
   "metadata": {},
   "outputs": [],
   "source": [
    "vulnerablity.head()"
   ]
  },
  {
   "cell_type": "code",
   "execution_count": null,
   "metadata": {},
   "outputs": [],
   "source": [
    "vulnerablity.to_csv('Vulnerability Score.csv')"
   ]
  },
  {
   "cell_type": "code",
   "execution_count": null,
   "metadata": {},
   "outputs": [],
   "source": [
    "vulnerablity_map = pd.merge(vulnerablity,basemap,on='GEOID')\n",
    "vulnerablity_map = gpd.GeoDataFrame(vulnerablity_map,crs = albo.proj4_init)"
   ]
  },
  {
   "cell_type": "code",
   "execution_count": null,
   "metadata": {},
   "outputs": [],
   "source": [
    "vulnerablity_map.crs"
   ]
  },
  {
   "cell_type": "code",
   "execution_count": null,
   "metadata": {},
   "outputs": [],
   "source": [
    "vulnerablity_map_pos = vulnerablity_map[vulnerablity_map['vul_score_mulpi']>=0]\n",
    "vulnerablity_map_neg = vulnerablity_map[vulnerablity_map['vul_score_mulpi']<0]\n",
    "print(vulnerablity_map_pos['vul_score_mulpi'].mean(),vulnerablity_map_pos['vul_score_mulpi'].std())\n",
    "print(vulnerablity_map_neg['vul_score_mulpi'].mean(),vulnerablity_map_neg['vul_score_mulpi'].std())"
   ]
  },
  {
   "cell_type": "code",
   "execution_count": null,
   "metadata": {},
   "outputs": [],
   "source": [
    "import numpy as np\n",
    "\n",
    "fig, ax = plt.subplots(\n",
    "    subplot_kw={'projection': albo}, figsize=(10, 10),dpi=300\n",
    ")\n",
    "font = {'family': 'serif',\n",
    "        'serif': 'Times New Roman',\n",
    "        'weight': 'normal',\n",
    "        'size': 12}\n",
    "plt.rc('font', **font)\n",
    "ax.set_extent([-129, -73, 20, 50], crs=ccrs.PlateCarree())\n",
    "\n",
    "from palettable.matplotlib import Viridis_7\n",
    "\n",
    "cmap = Viridis_7.mpl_colormap\n",
    "\n",
    "vulnerablity_map.plot(\n",
    "    column='vul_score_add',\n",
    "    ax=ax,\n",
    "    cmap=cmap,\n",
    "    legend=True,\n",
    "#     legend_kwds={'label': 'Exposure'},\n",
    "    scheme='NaturalBreaks',\n",
    "#     k=7,\n",
    "    legend_kwds={'loc': 'upper left',\n",
    "                 'title': 'Vulnerability Score',\n",
    "                 \"fmt\": \"{:.3f}\",\n",
    "                 'title_fontsize': 14, \n",
    "                 'fontsize': 11, \n",
    "                 'shadow': True\n",
    "                },               \n",
    "    missing_kwds={\n",
    "                \"color\": \"lightgrey\",\n",
    "                \"edgecolor\": \"grey\",\n",
    "                \"hatch\": \"////\",\n",
    "                \"label\": \"Nan\"\n",
    "                },\n",
    "#     prop={'family': 'Times New Roman', 'size': 16},\n",
    "    edgecolor=np.array([0., 0., 0., 0.]), #'white',\n",
    "    linewidth=0.2\n",
    ")\n",
    "state_boundary.boundary.plot(ax=ax,edgecolor='white',linewidth=0.5)\n",
    "\n",
    "ax.axis('on')\n",
    "ax.set_title('Transportation Energy Vulnerability in the US',fontdict={'weight':'bold','size': 20},pad=20)\n",
    "plt.tight_layout(pad=4.5)\n",
    "\n",
    "\n",
    "ax.set_aspect('equal','box')\n",
    "# fig.tight_layout()\n",
    "\n",
    "fig.savefig('Figures/Vul_score_add.png', facecolor='w', dpi=500)"
   ]
  },
  {
   "cell_type": "markdown",
   "metadata": {},
   "source": [
    "## EV Adoption in IL"
   ]
  },
  {
   "cell_type": "code",
   "execution_count": null,
   "metadata": {},
   "outputs": [],
   "source": [
    "vul_IL = pd.read_excel('IL CV-EV/vul_score CV-EV.xlsx',dtype={'CountyFIPs':str})\n",
    "vul_IL.info()"
   ]
  },
  {
   "cell_type": "code",
   "execution_count": null,
   "metadata": {},
   "outputs": [],
   "source": [
    "IL_map = gpd.read_file('IL_county_shp/IL_BNDY_County_Py.shp',dtype={'CO_FIPS':str})\n",
    "IL_map"
   ]
  },
  {
   "cell_type": "code",
   "execution_count": null,
   "metadata": {},
   "outputs": [],
   "source": [
    "IL_map_COOK = IL_map[IL_map['COUNTY_NAM']=='COOK']\n",
    "IL_map_Alexander = IL_map[IL_map['COUNTY_NAM']=='ALEXANDER']"
   ]
  },
  {
   "cell_type": "code",
   "execution_count": null,
   "metadata": {},
   "outputs": [],
   "source": [
    "IL_vul_map = pd.merge(vul_IL, IL_map, left_on = 'County', right_on = 'COUNTY_NAM')"
   ]
  },
  {
   "cell_type": "code",
   "execution_count": null,
   "metadata": {},
   "outputs": [],
   "source": [
    "IL_vul_map = gpd.GeoDataFrame(IL_vul_map,crs = 4269)"
   ]
  },
  {
   "cell_type": "code",
   "execution_count": null,
   "metadata": {},
   "outputs": [],
   "source": [
    "IL_vul_map['2020CV_new'] = IL_vul_map.apply(lambda x: abs(x['2020CV']), axis=1)"
   ]
  },
  {
   "cell_type": "code",
   "execution_count": null,
   "metadata": {},
   "outputs": [],
   "source": [
    "IL_vul_map['2020EV_new'] = IL_vul_map.apply(lambda x: abs(x['2020EV']), axis=1)"
   ]
  },
  {
   "cell_type": "code",
   "execution_count": null,
   "metadata": {},
   "outputs": [],
   "source": [
    "IL_vul_map['dif_20'] = IL_vul_map.apply(lambda x: x['2020CV_new'] - x['2020EV_new'], axis=1)"
   ]
  },
  {
   "cell_type": "code",
   "execution_count": null,
   "metadata": {},
   "outputs": [],
   "source": [
    "print(IL_vul_map['2020CV_new'].max(),IL_vul_map['2020CV_new'].min())"
   ]
  },
  {
   "cell_type": "code",
   "execution_count": null,
   "metadata": {},
   "outputs": [],
   "source": [
    "print(IL_vul_map['2020EV_new'].max(),IL_vul_map['2020EV_new'].min())"
   ]
  },
  {
   "cell_type": "code",
   "execution_count": null,
   "metadata": {},
   "outputs": [],
   "source": [
    "IL_vul_map['dif_50'] = IL_vul_map.apply(lambda x: x['2050CV'] - x['2050EV'], axis=1)  "
   ]
  },
  {
   "cell_type": "code",
   "execution_count": null,
   "metadata": {},
   "outputs": [],
   "source": [
    "IL_vul_map['2050CV_new'] = IL_vul_map.apply(lambda x: abs(x['2050CV']), axis=1)"
   ]
  },
  {
   "cell_type": "code",
   "execution_count": null,
   "metadata": {},
   "outputs": [],
   "source": [
    "IL_vul_map['2050EV_new'] = IL_vul_map.apply(lambda x: abs(x['2050EV']), axis=1)"
   ]
  },
  {
   "cell_type": "code",
   "execution_count": null,
   "metadata": {},
   "outputs": [],
   "source": [
    "print(IL_vul_map['2050CV_new'].max(),IL_vul_map['2050CV_new'].min())"
   ]
  },
  {
   "cell_type": "code",
   "execution_count": null,
   "metadata": {},
   "outputs": [],
   "source": [
    "print(IL_vul_map['2050EV_new'].max(),IL_vul_map['2050EV_new'].min())"
   ]
  },
  {
   "cell_type": "code",
   "execution_count": null,
   "metadata": {},
   "outputs": [],
   "source": [
    "import numpy as np\n",
    "\n",
    "fig, ax = plt.subplots(figsize=(10, 10),dpi=300)\n",
    "font = {'family': 'serif',\n",
    "        'serif': 'Times New Roman',\n",
    "        'weight': 'normal',\n",
    "        'size': 12}\n",
    "plt.rc('font', **font)\n",
    "\n",
    "from palettable.matplotlib import Viridis_7\n",
    "\n",
    "cmap = Viridis_7.mpl_colormap\n",
    "\n",
    "IL_vul_map.plot(\n",
    "    column='2050CV_new',\n",
    "    ax=ax,\n",
    "    cmap=cmap,\n",
    "    legend=True,\n",
    "#     legend_kwds={'label': 'Exposure'},\n",
    "#    scheme='NaturalBreaks',\n",
    "#     k=7,\n",
    "#     legend_kwds={'loc': 'lower left',\n",
    "#                  'title': 'Vulnerability Score',\n",
    "#                  \"fmt\": \"{:.3f}\",\n",
    "#                  'title_fontsize': 14, \n",
    "#                  'fontsize': 11, \n",
    "#                  'shadow': True\n",
    "#                 },\n",
    "#     prop={'family': 'Times New Roman', 'size': 16},\n",
    "    edgecolor=np.array([0., 0., 0., 0.]), #'white',\n",
    "    linewidth=0.2,\n",
    "    vmin = 0,\n",
    "    vmax = 0.7442712535493357\n",
    ")\n",
    "IL_map.boundary.plot(ax=ax,edgecolor='white',linewidth=0.5)\n",
    "IL_map_COOK.boundary.plot(ax=ax,edgecolor='red',linewidth=1)\n",
    "IL_map_Alexander.boundary.plot(ax=ax,edgecolor='red',linewidth=1)\n",
    "\n",
    "# for index, row in IL_map_COOK.iterrows():\n",
    "#     xy = row['geometry'].centroid.coords[:]\n",
    "#     xytext = row['geometry'].centroid.coords[:]\n",
    "#     name = row['COUNTY_NAM']+str(' COUNTY')\n",
    "#     ax.annotate(name, xy=xy[0], xytext=xytext[0],fontsize=12, color='red',\n",
    "#                  horizontalalignment='center', verticalalignment='center')\n",
    "\n",
    "# for index, row in IL_map_Alexander.iterrows():\n",
    "#     xy = row['geometry'].centroid.coords[:]\n",
    "#     xytext = row['geometry'].centroid.coords[:]\n",
    "#     name = row['COUNTY_NAM']+str(' COUNTY')\n",
    "#     ax.annotate(name, xy=xy[0], xytext=xytext[0],fontsize=12, color='red',\n",
    "#                  horizontalalignment='center', verticalalignment='center')\n",
    "\n",
    "# xy_COOK = IL_map_COOK['geometry'].centroid.coords[:]\n",
    "# xytext_COOK = IL_map_COOK['geometry'].centroid.coords[:]\n",
    "# ax.annotate(IL_map_COOK['COUNTY_NAM'], xy=xy_COOK[0], xytext=xytext_COOK[0],horizontalalignment='center', verticalalignment='center')\n",
    "\n",
    "\n",
    "ax.axis('on')\n",
    "#ax.set_title('Transportation Energy Vulnerability in the US',fontdict={'weight':'bold','size': 20},pad=20)\n",
    "plt.tight_layout(pad=4.5)\n",
    "\n",
    "\n",
    "ax.set_aspect('equal','box')\n",
    "# fig.tight_layout()\n",
    "\n",
    "fig.savefig('Figures/IL_2050CV.png', facecolor='w', dpi=500)"
   ]
  },
  {
   "cell_type": "code",
   "execution_count": null,
   "metadata": {},
   "outputs": [],
   "source": [
    "import numpy as np\n",
    "\n",
    "fig, ax = plt.subplots(figsize=(10, 10),dpi=300)\n",
    "font = {'family': 'serif',\n",
    "        'serif': 'Times New Roman',\n",
    "        'weight': 'normal',\n",
    "        'size': 12}\n",
    "plt.rc('font', **font)\n",
    "\n",
    "from palettable.matplotlib import Viridis_7\n",
    "\n",
    "cmap = Viridis_7.mpl_colormap\n",
    "\n",
    "IL_vul_map.plot(\n",
    "    column='2050EV_new',\n",
    "    ax=ax,\n",
    "    cmap=cmap,\n",
    "    legend=True,\n",
    "#     legend_kwds={'label': 'Exposure'},\n",
    "#    scheme='NaturalBreaks',\n",
    "#     k=7,\n",
    "#     legend_kwds={'loc': 'lower left',\n",
    "#                  'title': 'Vulnerability Score',\n",
    "#                  \"fmt\": \"{:.3f}\",\n",
    "#                  'title_fontsize': 14, \n",
    "#                  'fontsize': 11, \n",
    "#                  'shadow': True\n",
    "#                 },\n",
    "#     prop={'family': 'Times New Roman', 'size': 16},\n",
    "    edgecolor=np.array([0., 0., 0., 0.]), #'white',\n",
    "    linewidth=0.2,\n",
    "    vmin = 0,\n",
    "    vmax = 0.7442712535493357\n",
    ")\n",
    "IL_map.boundary.plot(ax=ax,edgecolor='white',linewidth=0.5)\n",
    "IL_map_COOK.boundary.plot(ax=ax,edgecolor='red',linewidth=1)\n",
    "IL_map_Alexander.boundary.plot(ax=ax,edgecolor='red',linewidth=1)\n",
    "\n",
    "ax.axis('on')\n",
    "#ax.set_title('Transportation Energy Vulnerability in the US',fontdict={'weight':'bold','size': 20},pad=20)\n",
    "plt.tight_layout(pad=4.5)\n",
    "\n",
    "\n",
    "ax.set_aspect('equal','box')\n",
    "# fig.tight_layout()\n",
    "\n",
    "fig.savefig('Figures/IL_2050EV.png', facecolor='w', dpi=500)"
   ]
  }
 ],
 "metadata": {
  "kernelspec": {
   "display_name": "Python 3",
   "language": "python",
   "name": "python3"
  },
  "language_info": {
   "codemirror_mode": {
    "name": "ipython",
    "version": 3
   },
   "file_extension": ".py",
   "mimetype": "text/x-python",
   "name": "python",
   "nbconvert_exporter": "python",
   "pygments_lexer": "ipython3",
   "version": "3.8.5"
  }
 },
 "nbformat": 4,
 "nbformat_minor": 4
}
