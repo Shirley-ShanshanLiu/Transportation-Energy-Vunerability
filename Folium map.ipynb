{
 "cells": [
  {
   "cell_type": "code",
   "execution_count": null,
   "metadata": {
    "tags": []
   },
   "outputs": [],
   "source": [
    "import geopandas as gpd\n",
    "import pandas as pd\n",
    "import pathlib\n",
    "\n",
    "import matplotlib.pyplot as plt\n",
    "\n",
    "from cartopy import crs as ccrs\n",
    "\n",
    "import os\n",
    "import sys\n",
    "import subprocess\n",
    "import datetime\n",
    "import platform\n",
    "import datetime\n",
    "from folium.plugins import StripePattern"
   ]
  },
  {
   "cell_type": "code",
   "execution_count": null,
   "metadata": {},
   "outputs": [],
   "source": [
    "import glob\n",
    "path=r'census_shp'\n",
    "\n",
    "file=glob.glob(os.path.join(path, 'cb_2018_**_tract_500k.shp'))\n",
    "# print(file)\n",
    "print(len(file))"
   ]
  },
  {
   "cell_type": "code",
   "execution_count": null,
   "metadata": {},
   "outputs": [],
   "source": [
    "basemap= gpd.GeoDataFrame()\n",
    "for f in file:\n",
    "    basemap = pd.concat([basemap, gpd.read_file(f)], axis=0)"
   ]
  },
  {
   "cell_type": "code",
   "execution_count": null,
   "metadata": {},
   "outputs": [],
   "source": [
    "basemap = basemap[['GEOID','AFFGEOID','STATEFP','geometry']]\n",
    "basemap.head()"
   ]
  },
  {
   "cell_type": "code",
   "execution_count": null,
   "metadata": {},
   "outputs": [],
   "source": [
    "basemap.crs"
   ]
  },
  {
   "cell_type": "code",
   "execution_count": null,
   "metadata": {},
   "outputs": [],
   "source": [
    "basemap=basemap.to_crs(\"ESRI:102003\")"
   ]
  },
  {
   "cell_type": "code",
   "execution_count": null,
   "metadata": {},
   "outputs": [],
   "source": [
    "basemap[\"geometry\"] = basemap[\"geometry\"].simplify(5000)"
   ]
  },
  {
   "cell_type": "code",
   "execution_count": null,
   "metadata": {},
   "outputs": [],
   "source": [
    "basemap=basemap.to_crs(\"epsg:4326\")"
   ]
  },
  {
   "cell_type": "code",
   "execution_count": null,
   "metadata": {},
   "outputs": [],
   "source": [
    "basemap.crs"
   ]
  },
  {
   "cell_type": "code",
   "execution_count": null,
   "metadata": {},
   "outputs": [],
   "source": [
    "us_jason = basemap.to_json()"
   ]
  },
  {
   "cell_type": "code",
   "execution_count": null,
   "metadata": {
    "tags": []
   },
   "outputs": [],
   "source": [
    "us_jason"
   ]
  },
  {
   "cell_type": "markdown",
   "metadata": {},
   "source": [
    "# Folium"
   ]
  },
  {
   "cell_type": "code",
   "execution_count": null,
   "metadata": {},
   "outputs": [],
   "source": [
    "exp = pd.read_csv('census_data/exposure_census.csv', dtype = {'State':str,\"GEOID\":str})\n",
    "exp = exp.rename(columns = {'min-max':'Exposure Score'})\n",
    "exp = exp[['GEOID', 'Exposure Score']]\n",
    "exp.head()"
   ]
  },
  {
   "cell_type": "code",
   "execution_count": null,
   "metadata": {},
   "outputs": [],
   "source": [
    "sens = pd.read_csv(\"census_data/sensitivity_census.csv\", dtype={\"Geocode\": str})\n",
    "sens = sens.rename(columns = {'min_max_sens':'Sensitivity Score', 'Geocode':'GEOID'})\n",
    "sens = sens[['GEOID', 'Sensitivity Score']]\n",
    "sens.head()"
   ]
  },
  {
   "cell_type": "code",
   "execution_count": null,
   "metadata": {},
   "outputs": [],
   "source": [
    "ac = pd.read_csv('census_data/adaptive_capacity_census.csv', dtype={\"GEO_ID\":str})\n",
    "ac = ac.rename(columns = {'AC_score':'Adaptive Capacity Score', 'GEO_ID':'GEOID'})\n",
    "ac = ac[['GEOID', 'Adaptive Capacity Score']]\n",
    "ac.head()"
   ]
  },
  {
   "cell_type": "code",
   "execution_count": null,
   "metadata": {},
   "outputs": [],
   "source": [
    "vul = pd.read_csv('Vulnerability Score.csv', dtype={\"GEOID\": str})\n",
    "vul = vul.rename(columns = {'vul_score_mulpi':'Multiplicative Vulnerability', \n",
    "                            'vul_score_add':'Additive Vulnerability'})\n",
    "vul = vul[['GEOID', 'Multiplicative Vulnerability', 'Additive Vulnerability']]\n",
    "vul.head()"
   ]
  },
  {
   "cell_type": "code",
   "execution_count": null,
   "metadata": {},
   "outputs": [],
   "source": [
    "folium_data = pd.merge(exp, sens, on='GEOID',how='outer')\n",
    "folium_data = pd.merge(folium_data, ac,on='GEOID',how='outer')\n",
    "folium_data = pd.merge(folium_data, vul,on='GEOID',how='outer')\n",
    "folium_data = pd.merge(folium_data, basemap,on='GEOID',how='right')\n",
    "folium_data.head()"
   ]
  },
  {
   "cell_type": "code",
   "execution_count": null,
   "metadata": {},
   "outputs": [],
   "source": [
    "folium_map = gpd.GeoDataFrame(folium_data,crs=4326)"
   ]
  },
  {
   "cell_type": "code",
   "execution_count": null,
   "metadata": {},
   "outputs": [],
   "source": [
    "folium_map.info()"
   ]
  },
  {
   "cell_type": "code",
   "execution_count": null,
   "metadata": {},
   "outputs": [],
   "source": [
    "import jenkspy\n",
    "exp_data = folium_data['Exposure Score'].fillna(0, inplace=False)\n",
    "sens_data = folium_data['Sensitivity Score'].fillna(0, inplace=False)\n",
    "ac_data = folium_data['Adaptive Capacity Score'].fillna(0, inplace=False)\n",
    "add_vul_data = folium_data['Additive Vulnerability'].fillna(0, inplace=False)\n",
    "multi_vul_data = folium_data['Multiplicative Vulnerability'].fillna(0, inplace=False)\n",
    "\n",
    "exp_bins = jenkspy.jenks_breaks(exp_data, nb_class=5)\n",
    "sens_bins = jenkspy.jenks_breaks(sens_data, nb_class=5)\n",
    "ac_bins = jenkspy.jenks_breaks(ac_data, nb_class=5)\n",
    "add_vul_bins = jenkspy.jenks_breaks(add_vul_data, nb_class=5)\n",
    "multi_vul_bins = jenkspy.jenks_breaks(multi_vul_data, nb_class=5)"
   ]
  },
  {
   "cell_type": "code",
   "execution_count": null,
   "metadata": {},
   "outputs": [],
   "source": [
    "print(exp_bins, '\\n', sens_bins, '\\n', ac_bins, '\\n', add_vul_bins, '\\n', multi_vul_bins)"
   ]
  },
  {
   "cell_type": "code",
   "execution_count": null,
   "metadata": {},
   "outputs": [],
   "source": [
    "def add_categorical_legend(folium_map, title, colors, labels):\n",
    "    if len(colors) != len(labels):\n",
    "        raise ValueError(\"colors and labels must have the same length.\")\n",
    "\n",
    "    color_by_label = dict(zip(labels, colors))\n",
    "    \n",
    "    legend_categories = \"\"     \n",
    "    for label, color in color_by_label.items():\n",
    "        legend_categories += f\"<li><span style='background:{color}'></span>{label}</li>\"\n",
    "        \n",
    "    legend_html = f\"\"\"\n",
    "    <div id='maplegend' class='maplegend'>\n",
    "      <div class='legend-title'>{title}</div>\n",
    "      <div class='legend-scale'>\n",
    "        <ul class='legend-labels'>\n",
    "        {legend_categories}\n",
    "        </ul>\n",
    "      </div>\n",
    "    </div>\n",
    "    \"\"\"\n",
    "    script = f\"\"\"\n",
    "        <script type=\"text/javascript\">\n",
    "        var oneTimeExecution = (function() {{\n",
    "                    var executed = false;\n",
    "                    return function() {{\n",
    "                        if (!executed) {{\n",
    "                             var checkExist = setInterval(function() {{\n",
    "                                       if ((document.getElementsByClassName('leaflet-top leaflet-right').length) || (!executed)) {{\n",
    "                                          document.getElementsByClassName('leaflet-top leaflet-right')[0].style.display = \"flex\"\n",
    "                                          document.getElementsByClassName('leaflet-top leaflet-right')[0].style.flexDirection = \"column\"\n",
    "                                          document.getElementsByClassName('leaflet-top leaflet-right')[0].innerHTML += `{legend_html}`;\n",
    "                                          clearInterval(checkExist);\n",
    "                                          executed = true;\n",
    "                                       }}\n",
    "                                    }}, 100);\n",
    "                        }}\n",
    "                    }};\n",
    "                }})();\n",
    "        oneTimeExecution()\n",
    "        </script>\n",
    "      \"\"\"\n",
    "   \n",
    "\n",
    "    css = \"\"\"\n",
    "\n",
    "    <style type='text/css'>\n",
    "      .maplegend {\n",
    "        z-index:9999;\n",
    "        float:right;\n",
    "        background-color: rgba(255, 255, 255, 1);\n",
    "        border-radius: 5px;\n",
    "        border: 2px solid #bbb;\n",
    "        padding: 10px;\n",
    "        font-size:10px;\n",
    "        positon: relative;\n",
    "      }\n",
    "      .maplegend .legend-title {\n",
    "        text-align: left;\n",
    "        margin-bottom: 5px;\n",
    "        font-weight: bold;\n",
    "        font-size: 90%;\n",
    "        }\n",
    "      .maplegend .legend-scale ul {\n",
    "        margin: 0;\n",
    "        margin-bottom: 5px;\n",
    "        padding: 0;\n",
    "        float: left;\n",
    "        list-style: none;\n",
    "        }\n",
    "      .maplegend .legend-scale ul li {\n",
    "        font-size: 80%;\n",
    "        list-style: none;\n",
    "        margin-left: 0;\n",
    "        line-height: 18px;\n",
    "        margin-bottom: 2px;\n",
    "        }\n",
    "      .maplegend ul.legend-labels li span {\n",
    "        display: block;\n",
    "        float: left;\n",
    "        height: 12px;\n",
    "        width: 32px;\n",
    "        margin-right: 10px;\n",
    "        margin-left: 10px;\n",
    "        border: 0px solid #ccc;\n",
    "        }\n",
    "      .maplegend .legend-source {\n",
    "        font-size: 80%;\n",
    "        color: #777;\n",
    "        clear: both;\n",
    "        }\n",
    "      .maplegend a {\n",
    "        color: #777;\n",
    "        }\n",
    "    </style>\n",
    "    \"\"\"\n",
    "\n",
    "    folium_map.get_root().header.add_child(folium.Element(script + css))\n",
    "\n",
    "    return folium_map"
   ]
  },
  {
   "cell_type": "code",
   "execution_count": null,
   "metadata": {},
   "outputs": [],
   "source": [
    "import folium\n",
    "\n",
    "m = folium.Map(location=[37, -102], zoom_start=4)\n",
    "\n",
    "### Exposure map\n",
    "c = folium.Choropleth(\n",
    "    geo_data=us_jason,\n",
    "    name='Exposure',\n",
    "    data=folium_map,\n",
    "    columns=['GEOID','Exposure Score'],\n",
    "    key_on='feature.properties.GEOID',\n",
    "    fill_color='OrRd',\n",
    "    fill_opacity=0.7,\n",
    "    line_color=\"white\",\n",
    "    line_opacity=0,\n",
    "    nan_fill_color = \"White\",\n",
    "    legend_name='Exposure',\n",
    "    bins=exp_bins,\n",
    ")\n",
    "for key in c._children:\n",
    "    if key.startswith('color_map'):\n",
    "        del(c._children[key])\n",
    "c.add_to(m)\n",
    "\n",
    "### Sensitivity map\n",
    "d = folium.Choropleth(\n",
    "    geo_data=us_jason,\n",
    "    name='Sensitivity',\n",
    "    data=folium_map,\n",
    "    columns=['GEOID','Sensitivity Score'],\n",
    "    key_on='feature.properties.GEOID',\n",
    "    fill_color='OrRd',\n",
    "    fill_opacity=0.7,\n",
    "    line_color=\"white\",\n",
    "    line_opacity=0,\n",
    "    nan_fill_color = \"White\",\n",
    "    legend_name='Sensitivity',\n",
    "    bins=sens_bins,\n",
    ")\n",
    "for key in d._children:\n",
    "    if key.startswith('color_map'):\n",
    "        del(d._children[key])\n",
    "d.add_to(m)\n",
    "\n",
    "### Adaptive Capacity map\n",
    "e = folium.Choropleth(\n",
    "    geo_data=us_jason,\n",
    "    name='Adaptive Capacity',\n",
    "    data=folium_map,\n",
    "    columns=['GEOID','Adaptive Capacity Score'],\n",
    "    key_on='feature.properties.GEOID',\n",
    "    fill_color='OrRd',\n",
    "    fill_opacity=0.7,\n",
    "    line_color=\"white\",\n",
    "    line_opacity=0,\n",
    "    nan_fill_color = \"White\",\n",
    "    legend_name='Adaptive Capacity',\n",
    "    bins=ac_bins,\n",
    ")\n",
    "for key in e._children:\n",
    "    if key.startswith('color_map'):\n",
    "        del(e._children[key])\n",
    "e.add_to(m)\n",
    "\n",
    "### Additive Vulnerability map\n",
    "f = folium.Choropleth(\n",
    "    geo_data=us_jason,\n",
    "    name='Additive Vulnerability',\n",
    "    data=folium_map,\n",
    "    columns=['GEOID','Additive Vulnerability'],\n",
    "    key_on='feature.properties.GEOID',\n",
    "    fill_color='OrRd',\n",
    "    fill_opacity=0.7,\n",
    "    line_color=\"white\",\n",
    "    line_opacity=0,\n",
    "    nan_fill_color = \"White\",\n",
    "    legend_name='Additive Vulnerability',\n",
    "    bins=add_vul_bins,\n",
    ")\n",
    "for key in f._children:\n",
    "    if key.startswith('color_map'):\n",
    "        del(f._children[key])\n",
    "f.add_to(m)\n",
    "\n",
    "### Multiplicative Vulnerability map\n",
    "g = folium.Choropleth(\n",
    "    geo_data=us_jason,\n",
    "    name='Multiplicative Vulnerability',\n",
    "    data=folium_map,\n",
    "    columns=['GEOID','Multiplicative Vulnerability'],\n",
    "    key_on='feature.properties.GEOID',\n",
    "    fill_color='OrRd',\n",
    "    fill_opacity=0.7,\n",
    "    line_color=\"white\",\n",
    "    line_opacity=0,\n",
    "    nan_fill_color = \"White\",\n",
    "    legend_name='Multiplicative Vulnerability',\n",
    "    bins=multi_vul_bins,\n",
    ")\n",
    "for key in g._children:\n",
    "    if key.startswith('color_map'):\n",
    "        del(g._children[key])\n",
    "g.add_to(m)\n",
    "\n",
    "# Add hover functionality.\n",
    "style_function = lambda x: {'fillColor': '#ffffff', \n",
    "                            'color':'#000000', \n",
    "                            'fillOpacity': 0.1, \n",
    "                            'weight': 0.1}\n",
    "highlight_function = lambda x: {'fillColor': '#000000', \n",
    "                                'color':'#000000', \n",
    "                                'fillOpacity': 0.50, \n",
    "                                'weight': 0.1}\n",
    "NIL = folium.features.GeoJson(\n",
    "    data = folium_map,\n",
    "    style_function=style_function, \n",
    "    control=False,\n",
    "    highlight_function=highlight_function, \n",
    "    tooltip=folium.features.GeoJsonTooltip(\n",
    "        fields=['Exposure Score', 'Sensitivity Score', 'Adaptive Capacity Score',\n",
    "                'Additive Vulnerability', 'Multiplicative Vulnerability'],\n",
    "        aliases=['Exposure Score', 'Sensitivity Score', 'Adaptive Capacity Score',\n",
    "                 'Additive Vulnerability', 'Multiplicative Vulnerability'],\n",
    "        style=(\"background-color: white; color: #333333; font-family: arial; font-size: 12px; padding: 10px;\") \n",
    "    )\n",
    ")\n",
    "m.add_child(NIL)\n",
    "m.keep_in_front(NIL)\n",
    "\n",
    "# Add the customized legend\n",
    "m = add_categorical_legend(m, 'Exposure',\n",
    "                           colors = ['#fef0d9','#fdcc8a','#fc8d59','#e34a33', '#b30000'],\n",
    "                           labels = ['0.0 - 0.0437', '0.0437 - 0.0769', '0.0769 - 0.1130', '0.1130 - 0.1666', '0.1666 - 1.0'])\n",
    "m = add_categorical_legend(m, 'Sensitivity',\n",
    "                           colors = ['#fef0d9','#fdcc8a','#fc8d59','#e34a33', '#b30000'],\n",
    "                           labels = ['0.0 - 0.2272', '0.2272 - 0.4622', '0.4622 - 0.5427', '0.5427 - 0.6505', '0.6505 - 1.0'])\n",
    "m = add_categorical_legend(m, 'Adaptive Capacity',\n",
    "                           colors = ['#fef0d9','#fdcc8a','#fc8d59','#e34a33', '#b30000'],\n",
    "                           labels = ['0.0 - 0.0990', '0.0990 - 0.2500', '0.2500 - 0.3431', '0.3431 - 0.4239', '0.4239 - 1.0'])\n",
    "m = add_categorical_legend(m, 'Additive Vulnerability',\n",
    "                           colors = ['#fef0d9','#fdcc8a','#fc8d59','#e34a33', '#b30000'],\n",
    "                           labels = ['-0.6505 - 0.1707', '0.1707 - 0.3860', '0.3860 - 0.5557', '0.5557 - 0.7037', '0.7037 - 1.4384'])\n",
    "m = add_categorical_legend(m, 'Multiplicative Vulnerability',\n",
    "                           colors = ['#fef0d9','#fdcc8a','#fc8d59','#e34a33', '#b30000'],\n",
    "                           labels = ['-0.0935 - 0.0167', '0.0167 - 0.0368', '0.0368 - 0.0604', '0.0604 - 0.1000', '0.1000 - 0.4384'])\n",
    "\n",
    "\n",
    "\n",
    "# Add cross-hatching (crossing lines) to display the Null values.\n",
    "# nans = exposure_map[exposure_map[\"Exposure Score\"].isnull()]['GEOID'].values\n",
    "# gdf_nans = exposure_map[exposure_map['GEOID'].isin(nans)]\n",
    "# sp = StripePattern(angle=45, color='grey', space_color='white')\n",
    "# sp.add_to(m)\n",
    "# folium.features.GeoJson(name=\"NaN values\",\n",
    "#                         data=gdf_nans, \n",
    "#                         style_function=lambda x :{'fillPattern': sp},show=False).add_to(m)\n",
    "\n",
    "folium.LayerControl(collapsed=False).add_to(m)\n",
    "\n",
    "m.save('Folium_all.html')"
   ]
  },
  {
   "cell_type": "code",
   "execution_count": null,
   "metadata": {},
   "outputs": [],
   "source": [
    "\n",
    "m = folium.Map(location=[37, -102], zoom_start=4)\n",
    "\n",
    "### Exposure map\n",
    "c = folium.Choropleth(\n",
    "    geo_data=us_jason,\n",
    "    name='Exposure',\n",
    "    data=folium_map,\n",
    "    columns=['GEOID','Exposure Score'],\n",
    "    key_on='feature.properties.GEOID',\n",
    "    fill_color='OrRd',\n",
    "    fill_opacity=0.7,\n",
    "    line_color=\"white\",\n",
    "    line_opacity=0,\n",
    "    nan_fill_color = \"White\",\n",
    "    legend_name='Exposure',\n",
    "    bins=exp_bins,\n",
    ")\n",
    "for key in c._children:\n",
    "    if key.startswith('color_map'):\n",
    "        del(c._children[key])\n",
    "c.add_to(m)\n",
    "\n",
    "# Add hover functionality.\n",
    "style_function = lambda x: {'fillColor': '#ffffff', \n",
    "                            'color':'#000000', \n",
    "                            'fillOpacity': 0.1, \n",
    "                            'weight': 0.1}\n",
    "highlight_function = lambda x: {'fillColor': '#000000', \n",
    "                                'color':'#000000', \n",
    "                                'fillOpacity': 0.50, \n",
    "                                'weight': 0.1}\n",
    "NIL = folium.features.GeoJson(\n",
    "    data = folium_map,\n",
    "    style_function=style_function, \n",
    "    control=False,\n",
    "    highlight_function=highlight_function, \n",
    "    tooltip=folium.features.GeoJsonTooltip(\n",
    "        fields=['Exposure Score', 'Sensitivity Score', 'Adaptive Capacity Score',\n",
    "                'Additive Vulnerability', 'Multiplicative Vulnerability'],\n",
    "        aliases=['Exposure Score', 'Sensitivity Score', 'Adaptive Capacity Score',\n",
    "                 'Additive Vulnerability', 'Multiplicative Vulnerability'],\n",
    "        style=(\"background-color: white; color: #333333; font-family: arial; font-size: 12px; padding: 10px;\") \n",
    "    )\n",
    ")\n",
    "m.add_child(NIL)\n",
    "m.keep_in_front(NIL)\n",
    "\n",
    "# Add the customized legend\n",
    "m = add_categorical_legend(m, 'Exposure',\n",
    "                           colors = ['#fef0d9','#fdcc8a','#fc8d59','#e34a33', '#b30000'],\n",
    "                           labels = ['0.0 - 0.0437', '0.0437 - 0.0769', '0.0769 - 0.1130', '0.1130 - 0.1666', '0.1666 - 1.0'])\n",
    "\n",
    "# Add cross-hatching (crossing lines) to display the Null values.\n",
    "# nans = exposure_map[exposure_map[\"Exposure Score\"].isnull()]['GEOID'].values\n",
    "# gdf_nans = exposure_map[exposure_map['GEOID'].isin(nans)]\n",
    "# sp = StripePattern(angle=45, color='grey', space_color='white')\n",
    "# sp.add_to(m)\n",
    "# folium.features.GeoJson(name=\"NaN values\",\n",
    "#                         data=gdf_nans, \n",
    "#                         style_function=lambda x :{'fillPattern': sp},show=False).add_to(m)\n",
    "\n",
    "folium.LayerControl(collapsed=False).add_to(m)\n",
    "\n",
    "m.save('Folium_exp.html')"
   ]
  },
  {
   "cell_type": "code",
   "execution_count": null,
   "metadata": {},
   "outputs": [],
   "source": [
    "m = folium.Map(location=[37, -102], zoom_start=4)\n",
    "\n",
    "### Sensitivity map\n",
    "d = folium.Choropleth(\n",
    "    geo_data=us_jason,\n",
    "    name='Sensitivity',\n",
    "    data=folium_map,\n",
    "    columns=['GEOID','Sensitivity Score'],\n",
    "    key_on='feature.properties.GEOID',\n",
    "    fill_color='OrRd',\n",
    "    fill_opacity=0.7,\n",
    "    line_color=\"white\",\n",
    "    line_opacity=0,\n",
    "    nan_fill_color = \"White\",\n",
    "    legend_name='Sensitivity',\n",
    "    bins=sens_bins,\n",
    ")\n",
    "for key in d._children:\n",
    "    if key.startswith('color_map'):\n",
    "        del(d._children[key])\n",
    "d.add_to(m)\n",
    "\n",
    "### Adaptive Capacity map\n",
    "e = folium.Choropleth(\n",
    "    geo_data=us_jason,\n",
    "    name='Adaptive Capacity',\n",
    "    data=folium_map,\n",
    "    columns=['GEOID','Adaptive Capacity Score'],\n",
    "    key_on='feature.properties.GEOID',\n",
    "    fill_color='OrRd',\n",
    "    fill_opacity=0.7,\n",
    "    line_color=\"white\",\n",
    "    line_opacity=0,\n",
    "    nan_fill_color = \"White\",\n",
    "    legend_name='Adaptive Capacity',\n",
    "    bins=ac_bins,\n",
    ")\n",
    "for key in e._children:\n",
    "    if key.startswith('color_map'):\n",
    "        del(e._children[key])\n",
    "e.add_to(m)\n",
    "\n",
    "### Additive Vulnerability map\n",
    "f = folium.Choropleth(\n",
    "    geo_data=us_jason,\n",
    "    name='Additive Vulnerability',\n",
    "    data=folium_map,\n",
    "    columns=['GEOID','Additive Vulnerability'],\n",
    "    key_on='feature.properties.GEOID',\n",
    "    fill_color='OrRd',\n",
    "    fill_opacity=0.7,\n",
    "    line_color=\"white\",\n",
    "    line_opacity=0,\n",
    "    nan_fill_color = \"White\",\n",
    "    legend_name='Additive Vulnerability',\n",
    "    bins=add_vul_bins,\n",
    ")\n",
    "for key in f._children:\n",
    "    if key.startswith('color_map'):\n",
    "        del(f._children[key])\n",
    "f.add_to(m)\n",
    "\n",
    "### Multiplicative Vulnerability map\n",
    "g = folium.Choropleth(\n",
    "    geo_data=us_jason,\n",
    "    name='Multiplicative Vulnerability',\n",
    "    data=folium_map,\n",
    "    columns=['GEOID','Multiplicative Vulnerability'],\n",
    "    key_on='feature.properties.GEOID',\n",
    "    fill_color='OrRd',\n",
    "    fill_opacity=0.7,\n",
    "    line_color=\"white\",\n",
    "    line_opacity=0,\n",
    "    nan_fill_color = \"White\",\n",
    "    legend_name='Multiplicative Vulnerability',\n",
    "    bins=multi_vul_bins,\n",
    ")\n",
    "for key in g._children:\n",
    "    if key.startswith('color_map'):\n",
    "        del(g._children[key])\n",
    "g.add_to(m)\n",
    "\n",
    "# Add hover functionality.\n",
    "style_function = lambda x: {'fillColor': '#ffffff', \n",
    "                            'color':'#000000', \n",
    "                            'fillOpacity': 0.1, \n",
    "                            'weight': 0.1}\n",
    "highlight_function = lambda x: {'fillColor': '#000000', \n",
    "                                'color':'#000000', \n",
    "                                'fillOpacity': 0.50, \n",
    "                                'weight': 0.1}\n",
    "NIL = folium.features.GeoJson(\n",
    "    data = folium_map,\n",
    "    style_function=style_function, \n",
    "    control=False,\n",
    "    highlight_function=highlight_function, \n",
    "    tooltip=folium.features.GeoJsonTooltip(\n",
    "        fields=['Exposure Score', 'Sensitivity Score', 'Adaptive Capacity Score',\n",
    "                'Additive Vulnerability', 'Multiplicative Vulnerability'],\n",
    "        aliases=['Exposure Score', 'Sensitivity Score', 'Adaptive Capacity Score',\n",
    "                 'Additive Vulnerability', 'Multiplicative Vulnerability'],\n",
    "        style=(\"background-color: white; color: #333333; font-family: arial; font-size: 12px; padding: 10px;\") \n",
    "    )\n",
    ")\n",
    "m.add_child(NIL)\n",
    "m.keep_in_front(NIL)\n",
    "\n",
    "# Add the customized legend\n",
    "m = add_categorical_legend(m, 'Exposure',\n",
    "                           colors = ['#fef0d9','#fdcc8a','#fc8d59','#e34a33', '#b30000'],\n",
    "                           labels = ['0.0 - 0.0437', '0.0437 - 0.0769', '0.0769 - 0.1130', '0.1130 - 0.1666', '0.1666 - 1.0'])\n",
    "m = add_categorical_legend(m, 'Sensitivity',\n",
    "                           colors = ['#fef0d9','#fdcc8a','#fc8d59','#e34a33', '#b30000'],\n",
    "                           labels = ['0.0 - 0.2272', '0.2272 - 0.4622', '0.4622 - 0.5427', '0.5427 - 0.6505', '0.6505 - 1.0'])\n",
    "m = add_categorical_legend(m, 'Adaptive Capacity',\n",
    "                           colors = ['#fef0d9','#fdcc8a','#fc8d59','#e34a33', '#b30000'],\n",
    "                           labels = ['0.0 - 0.0990', '0.0990 - 0.2500', '0.2500 - 0.3431', '0.3431 - 0.4239', '0.4239 - 1.0'])\n",
    "m = add_categorical_legend(m, 'Additive Vulnerability',\n",
    "                           colors = ['#fef0d9','#fdcc8a','#fc8d59','#e34a33', '#b30000'],\n",
    "                           labels = ['-0.6505 - 0.1707', '0.1707 - 0.3860', '0.3860 - 0.5557', '0.5557 - 0.7037', '0.7037 - 1.4384'])\n",
    "m = add_categorical_legend(m, 'Multiplicative Vulnerability',\n",
    "                           colors = ['#fef0d9','#fdcc8a','#fc8d59','#e34a33', '#b30000'],\n",
    "                           labels = ['-0.0935 - 0.0167', '0.0167 - 0.0368', '0.0368 - 0.0604', '0.0604 - 0.1000', '0.1000 - 0.4384'])\n",
    "\n",
    "\n",
    "\n",
    "# Add cross-hatching (crossing lines) to display the Null values.\n",
    "# nans = exposure_map[exposure_map[\"Exposure Score\"].isnull()]['GEOID'].values\n",
    "# gdf_nans = exposure_map[exposure_map['GEOID'].isin(nans)]\n",
    "# sp = StripePattern(angle=45, color='grey', space_color='white')\n",
    "# sp.add_to(m)\n",
    "# folium.features.GeoJson(name=\"NaN values\",\n",
    "#                         data=gdf_nans, \n",
    "#                         style_function=lambda x :{'fillPattern': sp},show=False).add_to(m)\n",
    "\n",
    "folium.LayerControl(collapsed=False).add_to(m)\n",
    "\n",
    "m.save('Folium_all.html')"
   ]
  },
  {
   "cell_type": "markdown",
   "metadata": {},
   "source": [
    "# Exposure"
   ]
  },
  {
   "cell_type": "code",
   "execution_count": null,
   "metadata": {},
   "outputs": [],
   "source": [
    "exposure = pd.read_csv('Exposure_0412.csv', dtype = {'State':str,\"GEOID\":str,\"GEO_ID\":str})\n",
    "# exposure = exposure.rename(columns = {'min-max':'Exposure Score'})\n",
    "exposure.head()"
   ]
  },
  {
   "cell_type": "code",
   "execution_count": null,
   "metadata": {},
   "outputs": [],
   "source": [
    "exposure_map = pd.merge(exposure,basemap,on='GEOID',how='right')"
   ]
  },
  {
   "cell_type": "code",
   "execution_count": null,
   "metadata": {
    "scrolled": true,
    "tags": []
   },
   "outputs": [],
   "source": [
    "exposure_map.info()"
   ]
  },
  {
   "cell_type": "code",
   "execution_count": null,
   "metadata": {},
   "outputs": [],
   "source": [
    "exposure_map = gpd.GeoDataFrame(exposure_map,crs=4326)"
   ]
  },
  {
   "cell_type": "code",
   "execution_count": null,
   "metadata": {
    "scrolled": true,
    "tags": []
   },
   "outputs": [],
   "source": [
    "exposure_map.crs"
   ]
  },
  {
   "cell_type": "code",
   "execution_count": null,
   "metadata": {},
   "outputs": [],
   "source": [
    "exp_data = exposure_map['Exposure Score'].fillna(0, inplace=False)"
   ]
  },
  {
   "cell_type": "code",
   "execution_count": null,
   "metadata": {},
   "outputs": [],
   "source": [
    "pip install jenkspy"
   ]
  },
  {
   "cell_type": "code",
   "execution_count": null,
   "metadata": {},
   "outputs": [],
   "source": [
    "import jenkspy\n",
    "\n",
    "breaks = jenkspy.jenks_breaks(exp_data, nb_class=5)\n",
    "print(breaks)"
   ]
  },
  {
   "cell_type": "code",
   "execution_count": null,
   "metadata": {},
   "outputs": [],
   "source": [
    "def add_categorical_legend(folium_map, title, colors, labels):\n",
    "    if len(colors) != len(labels):\n",
    "        raise ValueError(\"colors and labels must have the same length.\")\n",
    "\n",
    "    color_by_label = dict(zip(labels, colors))\n",
    "    \n",
    "    legend_categories = \"\"     \n",
    "    for label, color in color_by_label.items():\n",
    "        legend_categories += f\"<li><span style='background:{color}'></span>{label}</li>\"\n",
    "        \n",
    "    legend_html = f\"\"\"\n",
    "    <div id='maplegend' class='maplegend'>\n",
    "      <div class='legend-title'>{title}</div>\n",
    "      <div class='legend-scale'>\n",
    "        <ul class='legend-labels'>\n",
    "        {legend_categories}\n",
    "        </ul>\n",
    "      </div>\n",
    "    </div>\n",
    "    \"\"\"\n",
    "    script = f\"\"\"\n",
    "        <script type=\"text/javascript\">\n",
    "        var oneTimeExecution = (function() {{\n",
    "                    var executed = false;\n",
    "                    return function() {{\n",
    "                        if (!executed) {{\n",
    "                             var checkExist = setInterval(function() {{\n",
    "                                       if ((document.getElementsByClassName('leaflet-top leaflet-right').length) || (!executed)) {{\n",
    "                                          document.getElementsByClassName('leaflet-top leaflet-right')[0].style.display = \"flex\"\n",
    "                                          document.getElementsByClassName('leaflet-top leaflet-right')[0].style.flexDirection = \"column\"\n",
    "                                          document.getElementsByClassName('leaflet-top leaflet-right')[0].innerHTML += `{legend_html}`;\n",
    "                                          clearInterval(checkExist);\n",
    "                                          executed = true;\n",
    "                                       }}\n",
    "                                    }}, 100);\n",
    "                        }}\n",
    "                    }};\n",
    "                }})();\n",
    "        oneTimeExecution()\n",
    "        </script>\n",
    "      \"\"\"\n",
    "   \n",
    "\n",
    "    css = \"\"\"\n",
    "\n",
    "    <style type='text/css'>\n",
    "      .maplegend {\n",
    "        z-index:9999;\n",
    "        float:right;\n",
    "        background-color: rgba(255, 255, 255, 1);\n",
    "        border-radius: 5px;\n",
    "        border: 2px solid #bbb;\n",
    "        padding: 10px;\n",
    "        font-size:12px;\n",
    "        positon: relative;\n",
    "      }\n",
    "      .maplegend .legend-title {\n",
    "        text-align: left;\n",
    "        margin-bottom: 5px;\n",
    "        font-weight: bold;\n",
    "        font-size: 90%;\n",
    "        }\n",
    "      .maplegend .legend-scale ul {\n",
    "        margin: 0;\n",
    "        margin-bottom: 5px;\n",
    "        padding: 0;\n",
    "        float: left;\n",
    "        list-style: none;\n",
    "        }\n",
    "      .maplegend .legend-scale ul li {\n",
    "        font-size: 80%;\n",
    "        list-style: none;\n",
    "        margin-left: 0;\n",
    "        line-height: 18px;\n",
    "        margin-bottom: 2px;\n",
    "        }\n",
    "      .maplegend ul.legend-labels li span {\n",
    "        display: block;\n",
    "        float: left;\n",
    "        height: 16px;\n",
    "        width: 32px;\n",
    "        margin-right: 10px;\n",
    "        margin-left: 10px;\n",
    "        border: 0px solid #ccc;\n",
    "        }\n",
    "      .maplegend .legend-source {\n",
    "        font-size: 80%;\n",
    "        color: #777;\n",
    "        clear: both;\n",
    "        }\n",
    "      .maplegend a {\n",
    "        color: #777;\n",
    "        }\n",
    "    </style>\n",
    "    \"\"\"\n",
    "\n",
    "    folium_map.get_root().header.add_child(folium.Element(script + css))\n",
    "\n",
    "    return folium_map"
   ]
  },
  {
   "cell_type": "code",
   "execution_count": null,
   "metadata": {},
   "outputs": [],
   "source": [
    "import folium\n",
    "\n",
    "m = folium.Map(location=[37, -102], zoom_start=4)\n",
    "\n",
    "c = folium.Choropleth(\n",
    "    geo_data=us_jason,\n",
    "    name='Exposure',\n",
    "    data=exposure_map,\n",
    "    columns=['GEOID','Exposure Score'],\n",
    "    key_on='feature.properties.GEOID',\n",
    "    fill_color='OrRd',\n",
    "    fill_opacity=0.7,\n",
    "    line_color=\"white\",\n",
    "    line_opacity=0,\n",
    "    nan_fill_color = \"White\",\n",
    "    legend_name='Exposure',\n",
    "    bins=breaks,\n",
    ")\n",
    "\n",
    "for key in c._children:\n",
    "    if key.startswith('color_map'):\n",
    "        del(c._children[key])\n",
    "\n",
    "c.add_to(m)        \n",
    "\n",
    "# Add hover functionality.\n",
    "style_function = lambda x: {'fillColor': '#ffffff', \n",
    "                            'color':'#000000', \n",
    "                            'fillOpacity': 0.1, \n",
    "                            'weight': 0.1}\n",
    "highlight_function = lambda x: {'fillColor': '#000000', \n",
    "                                'color':'#000000', \n",
    "                                'fillOpacity': 0.50, \n",
    "                                'weight': 0.1}\n",
    "NIL = folium.features.GeoJson(\n",
    "    data = exposure_map,\n",
    "    style_function=style_function, \n",
    "    control=False,\n",
    "    highlight_function=highlight_function, \n",
    "    tooltip=folium.features.GeoJsonTooltip(\n",
    "        fields=['Exposure Score'],\n",
    "        aliases=['Exposure Score'],\n",
    "        style=(\"background-color: white; color: #333333; font-family: arial; font-size: 12px; padding: 10px;\") \n",
    "    )\n",
    ")\n",
    "m.add_child(NIL)\n",
    "m.keep_in_front(NIL)\n",
    "\n",
    "# Add the customized legend\n",
    "m = add_categorical_legend(m, 'Exposure',\n",
    "                           colors = ['#fef0d9','#fdcc8a','#fc8d59','#e34a33', '#b30000'],\n",
    "                           labels = ['0.0-0.0437', '0.0437-0.0769', '0.0769-0.1130', '0.1130-0.1666', '0.1666-1.0'])\n",
    "\n",
    "# Add cross-hatching (crossing lines) to display the Null values.\n",
    "nans = exposure_map[exposure_map[\"Exposure Score\"].isnull()]['GEOID'].values\n",
    "gdf_nans = exposure_map[exposure_map['GEOID'].isin(nans)]\n",
    "sp = StripePattern(angle=45, color='grey', space_color='white')\n",
    "sp.add_to(m)\n",
    "folium.features.GeoJson(name=\"NaN values\",\n",
    "                        data=gdf_nans, \n",
    "                        style_function=lambda x :{'fillPattern': sp},show=False).add_to(m)\n",
    "\n",
    "folium.LayerControl(collapsed=False).add_to(m)\n",
    "\n",
    "m.save('exposure_OrRd.html')"
   ]
  },
  {
   "cell_type": "markdown",
   "metadata": {},
   "source": [
    "# Sensitivity"
   ]
  },
  {
   "cell_type": "code",
   "execution_count": null,
   "metadata": {},
   "outputs": [],
   "source": [
    "sensitivity = pd.read_csv(\"Sensitivity-0409.csv\", dtype={\"Geocode\": str})"
   ]
  },
  {
   "cell_type": "code",
   "execution_count": null,
   "metadata": {},
   "outputs": [],
   "source": [
    "sensitivity.head()"
   ]
  },
  {
   "cell_type": "code",
   "execution_count": null,
   "metadata": {},
   "outputs": [],
   "source": [
    "sensitivity_map = pd.merge(sensitivity,basemap,left_on='Geocode',right_on='GEOID',how='right').drop(['Geocode'],axis=1)"
   ]
  },
  {
   "cell_type": "code",
   "execution_count": null,
   "metadata": {},
   "outputs": [],
   "source": [
    "sensitivity_map.head()"
   ]
  },
  {
   "cell_type": "code",
   "execution_count": null,
   "metadata": {},
   "outputs": [],
   "source": [
    "sensitivity_map = gpd.GeoDataFrame(sensitivity_map,crs = 4326)"
   ]
  },
  {
   "cell_type": "code",
   "execution_count": null,
   "metadata": {},
   "outputs": [],
   "source": [
    "sensitivity_map.crs"
   ]
  },
  {
   "cell_type": "code",
   "execution_count": null,
   "metadata": {},
   "outputs": [],
   "source": [
    "import jenkspy\n",
    "\n",
    "sen_data = sensitivity_map['min_max_sens'].fillna(0, inplace=False)\n",
    "\n",
    "breaks = jenkspy.jenks_breaks(sen_data, nb_class=5)\n",
    "print(breaks)"
   ]
  },
  {
   "cell_type": "code",
   "execution_count": null,
   "metadata": {},
   "outputs": [],
   "source": [
    "def add_categorical_legend(folium_map, title, colors, labels):\n",
    "    if len(colors) != len(labels):\n",
    "        raise ValueError(\"colors and labels must have the same length.\")\n",
    "\n",
    "    color_by_label = dict(zip(labels, colors))\n",
    "    \n",
    "    legend_categories = \"\"     \n",
    "    for label, color in color_by_label.items():\n",
    "        legend_categories += f\"<li><span style='background:{color}'></span>{label}</li>\"\n",
    "        \n",
    "    legend_html = f\"\"\"\n",
    "    <div id='maplegend' class='maplegend'>\n",
    "      <div class='legend-title'>{title}</div>\n",
    "      <div class='legend-scale'>\n",
    "        <ul class='legend-labels'>\n",
    "        {legend_categories}\n",
    "        </ul>\n",
    "      </div>\n",
    "    </div>\n",
    "    \"\"\"\n",
    "    script = f\"\"\"\n",
    "        <script type=\"text/javascript\">\n",
    "        var oneTimeExecution = (function() {{\n",
    "                    var executed = false;\n",
    "                    return function() {{\n",
    "                        if (!executed) {{\n",
    "                             var checkExist = setInterval(function() {{\n",
    "                                       if ((document.getElementsByClassName('leaflet-top leaflet-right').length) || (!executed)) {{\n",
    "                                          document.getElementsByClassName('leaflet-top leaflet-right')[0].style.display = \"flex\"\n",
    "                                          document.getElementsByClassName('leaflet-top leaflet-right')[0].style.flexDirection = \"column\"\n",
    "                                          document.getElementsByClassName('leaflet-top leaflet-right')[0].innerHTML += `{legend_html}`;\n",
    "                                          clearInterval(checkExist);\n",
    "                                          executed = true;\n",
    "                                       }}\n",
    "                                    }}, 100);\n",
    "                        }}\n",
    "                    }};\n",
    "                }})();\n",
    "        oneTimeExecution()\n",
    "        </script>\n",
    "      \"\"\"\n",
    "   \n",
    "\n",
    "    css = \"\"\"\n",
    "\n",
    "    <style type='text/css'>\n",
    "      .maplegend {\n",
    "        z-index:9999;\n",
    "        float:right;\n",
    "        background-color: rgba(255, 255, 255, 1);\n",
    "        border-radius: 5px;\n",
    "        border: 2px solid #bbb;\n",
    "        padding: 10px;\n",
    "        font-size:12px;\n",
    "        positon: relative;\n",
    "      }\n",
    "      .maplegend .legend-title {\n",
    "        text-align: left;\n",
    "        margin-bottom: 5px;\n",
    "        font-weight: bold;\n",
    "        font-size: 90%;\n",
    "        }\n",
    "      .maplegend .legend-scale ul {\n",
    "        margin: 0;\n",
    "        margin-bottom: 5px;\n",
    "        padding: 0;\n",
    "        float: left;\n",
    "        list-style: none;\n",
    "        }\n",
    "      .maplegend .legend-scale ul li {\n",
    "        font-size: 80%;\n",
    "        list-style: none;\n",
    "        margin-left: 0;\n",
    "        line-height: 18px;\n",
    "        margin-bottom: 2px;\n",
    "        }\n",
    "      .maplegend ul.legend-labels li span {\n",
    "        display: block;\n",
    "        float: left;\n",
    "        height: 16px;\n",
    "        width: 32px;\n",
    "        margin-right: 10px;\n",
    "        margin-left: 10px;\n",
    "        border: 0px solid #ccc;\n",
    "        }\n",
    "      .maplegend .legend-source {\n",
    "        font-size: 80%;\n",
    "        color: #777;\n",
    "        clear: both;\n",
    "        }\n",
    "      .maplegend a {\n",
    "        color: #777;\n",
    "        }\n",
    "    </style>\n",
    "    \"\"\"\n",
    "\n",
    "    folium_map.get_root().header.add_child(folium.Element(script + css))\n",
    "\n",
    "    return folium_map"
   ]
  },
  {
   "cell_type": "code",
   "execution_count": null,
   "metadata": {},
   "outputs": [],
   "source": [
    "import folium\n",
    "\n",
    "m = folium.Map(location=[37, -102], zoom_start=4)\n",
    "\n",
    "c = folium.Choropleth(\n",
    "    geo_data=us_jason,\n",
    "    name='choropleth',\n",
    "    data=sensitivity_map,\n",
    "    columns=['GEOID','min_max_sens'],\n",
    "    key_on='feature.properties.GEOID',\n",
    "    fill_color='OrRd',\n",
    "    fill_opacity=0.7,\n",
    "    line_color=\"white\",\n",
    "    line_opacity=0,\n",
    "    nan_fill_color = '////',\n",
    "    legend_name='Sensitivity',\n",
    "    bins=breaks,\n",
    ")\n",
    "\n",
    "for key in c._children:\n",
    "    if key.startswith('color_map'):\n",
    "        del(c._children[key])\n",
    "\n",
    "c.add_to(m)        \n",
    "\n",
    "m = add_categorical_legend(m, 'Sensitivity',\n",
    "                           colors = ['#fef0d9','#fdcc8a','#fc8d59','#e34a33', '#b30000'],\n",
    "                           labels = ['0.0-0.0437', '0.0437-0.0769', '0.0769-0.1130', '0.1130-0.1666', '0.1666-1.0'])\n",
    "\n",
    "folium.LayerControl().add_to(m)\n",
    "\n",
    "m.save('sensitivity_OrRd.html')"
   ]
  },
  {
   "cell_type": "markdown",
   "metadata": {},
   "source": [
    "# Adaptive Capacity"
   ]
  },
  {
   "cell_type": "code",
   "execution_count": null,
   "metadata": {},
   "outputs": [],
   "source": [
    "adaptive_capacity = pd.read_csv('all_ac_data_0516.csv',dtype={\"GEO_ID\":str})\n",
    "adaptive_capacity.head()"
   ]
  },
  {
   "cell_type": "code",
   "execution_count": null,
   "metadata": {},
   "outputs": [],
   "source": [
    "adaptive_capacity.describe()"
   ]
  },
  {
   "cell_type": "code",
   "execution_count": null,
   "metadata": {},
   "outputs": [],
   "source": [
    "adaptive_capacity_map = pd.merge(adaptive_capacity,basemap,left_on='GEO_ID',right_on='GEOID',how='right').drop(['GEO_ID'],axis=1)"
   ]
  },
  {
   "cell_type": "code",
   "execution_count": null,
   "metadata": {},
   "outputs": [],
   "source": [
    "adaptive_capacity_map.info()"
   ]
  },
  {
   "cell_type": "code",
   "execution_count": null,
   "metadata": {},
   "outputs": [],
   "source": [
    "adaptive_capacity_map = gpd.GeoDataFrame(adaptive_capacity_map,crs = albo.proj4_init)"
   ]
  },
  {
   "cell_type": "code",
   "execution_count": null,
   "metadata": {},
   "outputs": [],
   "source": [
    "adaptive_capacity_map.crs"
   ]
  },
  {
   "cell_type": "code",
   "execution_count": null,
   "metadata": {},
   "outputs": [],
   "source": [
    "adaptive_capacity_map.plot(column='AC_score')"
   ]
  },
  {
   "cell_type": "code",
   "execution_count": null,
   "metadata": {
    "tags": []
   },
   "outputs": [],
   "source": [
    "import numpy as np\n",
    "\n",
    "fig, ax = plt.subplots(\n",
    "    subplot_kw={'projection': albo}, figsize=(10, 10),dpi=300\n",
    ")\n",
    "font = {'family': 'serif',\n",
    "        'serif': 'Times New Roman',\n",
    "        'weight': 'normal',\n",
    "        'size': 12}\n",
    "plt.rc('font', **font)\n",
    "ax.set_extent([-129, -73, 20, 50], crs=ccrs.PlateCarree())\n",
    "\n",
    "from palettable.matplotlib import Viridis_7\n",
    "\n",
    "cmap = Viridis_7.mpl_colormap\n",
    "\n",
    "adaptive_capacity_map.plot(\n",
    "    column='AC_score',\n",
    "    ax=ax,\n",
    "    cmap=cmap,\n",
    "    legend=True,\n",
    "#     legend_kwds={'label': 'Exposure'},\n",
    "    scheme='NaturalBreaks',\n",
    "#     k=7,\n",
    "    legend_kwds={'loc': 'upper left',\n",
    "                 'title': 'Adaptive Capacity',\n",
    "                 \"fmt\": \"{:.3f}\",\n",
    "                 'title_fontsize': 14, # 图例标题字体大小\n",
    "                 'fontsize': 11, # 图例非标题外字体大小\n",
    "                 'shadow': True\n",
    "                },               \n",
    "    missing_kwds={\n",
    "                \"color\": \"lightgrey\",\n",
    "                \"edgecolor\": \"grey\",\n",
    "                \"hatch\": \"////\",\n",
    "                \"label\": \"Nan\"\n",
    "                },\n",
    "#     prop={'family': 'Times New Roman', 'size': 16},\n",
    "    edgecolor=np.array([0., 0., 0., 0.]), #'white',\n",
    "    linewidth=0.2\n",
    ")\n",
    "state_boundary.boundary.plot(ax=ax,edgecolor='white',linewidth=0.5)\n",
    "\n",
    "ax.axis('on')\n",
    "ax.set_title('Transportation Energy Vulnerability in the US - Adaptive Capacity',fontdict={'weight':'bold','size': 20},pad=20)\n",
    "plt.tight_layout(pad=4.5)\n",
    "\n",
    "\n",
    "ax.set_aspect('equal','box')\n",
    "# fig.tight_layout()\n",
    "\n",
    "fig.savefig('Figures/Adaptive Capacity_USA.png', facecolor='w', dpi=500)"
   ]
  },
  {
   "cell_type": "markdown",
   "metadata": {},
   "source": [
    "# Vulnerabilty Score"
   ]
  },
  {
   "cell_type": "code",
   "execution_count": null,
   "metadata": {},
   "outputs": [],
   "source": [
    "e = exposure_map[['GEOID','min-max']]\n",
    "s = sensitivity_map[['GEOID','min_max_sens']]\n",
    "ac = adaptive_capacity_map[['GEOID','AC_score']]"
   ]
  },
  {
   "cell_type": "code",
   "execution_count": null,
   "metadata": {},
   "outputs": [],
   "source": [
    "vulnerablity = pd.merge(e, s, on=\"GEOID\")\n",
    "vulnerablity = pd.merge(vulnerablity, ac, on=\"GEOID\")\n",
    "vulnerablity.head()"
   ]
  },
  {
   "cell_type": "code",
   "execution_count": null,
   "metadata": {},
   "outputs": [],
   "source": [
    "vulnerablity.info()"
   ]
  },
  {
   "cell_type": "code",
   "execution_count": null,
   "metadata": {},
   "outputs": [],
   "source": [
    "vulnerablity.fillna(0, inplace=True)"
   ]
  },
  {
   "cell_type": "code",
   "execution_count": null,
   "metadata": {},
   "outputs": [],
   "source": [
    "vulnerablity['vul_score_mulpi'] = vulnerablity.apply(lambda x: x[\"min-max\"]*(x[\"min_max_sens\"]-x[\"AC_score\"]), axis=1)"
   ]
  },
  {
   "cell_type": "code",
   "execution_count": null,
   "metadata": {},
   "outputs": [],
   "source": [
    "mc.NaturalBreaks(vulnerablity['vul_score_add'])"
   ]
  },
  {
   "cell_type": "code",
   "execution_count": null,
   "metadata": {},
   "outputs": [],
   "source": [
    "mc.NaturalBreaks(vulnerablity_map_pos['vul_score_mulpi'])"
   ]
  },
  {
   "cell_type": "code",
   "execution_count": null,
   "metadata": {},
   "outputs": [],
   "source": [
    "mc.NaturalBreaks(vulnerablity_map_neg['vul_score_mulpi'])"
   ]
  },
  {
   "cell_type": "code",
   "execution_count": null,
   "metadata": {},
   "outputs": [],
   "source": [
    "print(vulnerablity['vul_score_mulpi'].mean(),vulnerablity['vul_score_mulpi'].std())"
   ]
  },
  {
   "cell_type": "code",
   "execution_count": null,
   "metadata": {},
   "outputs": [],
   "source": [
    "vulnerablity['vul_mulpi_1/3'] = vulnerablity.apply(lambda x: 1/3*x[\"min-max\"]*(1/3*x[\"min_max_sens\"]-1/3*x[\"AC_score\"]), axis=1)"
   ]
  },
  {
   "cell_type": "code",
   "execution_count": null,
   "metadata": {},
   "outputs": [],
   "source": [
    "vulnerablity['vul_score_add'] = vulnerablity.apply(lambda x: x[\"min-max\"]+x[\"min_max_sens\"]-x[\"AC_score\"], axis=1)"
   ]
  },
  {
   "cell_type": "code",
   "execution_count": null,
   "metadata": {},
   "outputs": [],
   "source": [
    "print(vulnerablity['vul_score_add'].mean(),vulnerablity['vul_score_add'].std())"
   ]
  },
  {
   "cell_type": "code",
   "execution_count": null,
   "metadata": {},
   "outputs": [],
   "source": [
    "print(vulnerablity['vul_score_add'].max(),vulnerablity['vul_score_add'].min())"
   ]
  },
  {
   "cell_type": "code",
   "execution_count": null,
   "metadata": {},
   "outputs": [],
   "source": [
    "vulnerablity['vul_add_1/3'] = vulnerablity.apply(lambda x: 1/3*x[\"min-max\"]+1/3*x[\"min_max_sens\"]-1/3*x[\"AC_score\"], axis=1)"
   ]
  },
  {
   "cell_type": "code",
   "execution_count": null,
   "metadata": {},
   "outputs": [],
   "source": [
    "vulnerablity.head()"
   ]
  },
  {
   "cell_type": "code",
   "execution_count": null,
   "metadata": {},
   "outputs": [],
   "source": [
    "vulnerablity.to_csv('Vulnerability Score.csv')"
   ]
  },
  {
   "cell_type": "code",
   "execution_count": null,
   "metadata": {},
   "outputs": [],
   "source": [
    "vulnerablity['vul_score_mulpi'].min()"
   ]
  },
  {
   "cell_type": "code",
   "execution_count": null,
   "metadata": {},
   "outputs": [],
   "source": [
    "vulnerablity_map = pd.merge(vulnerablity,basemap,on='GEOID')"
   ]
  },
  {
   "cell_type": "code",
   "execution_count": null,
   "metadata": {},
   "outputs": [],
   "source": [
    "vulnerablity_map.info()"
   ]
  },
  {
   "cell_type": "code",
   "execution_count": null,
   "metadata": {},
   "outputs": [],
   "source": [
    "vulnerablity_map = gpd.GeoDataFrame(vulnerablity_map,crs = albo.proj4_init)"
   ]
  },
  {
   "cell_type": "code",
   "execution_count": null,
   "metadata": {},
   "outputs": [],
   "source": [
    "vulnerablity_map.crs"
   ]
  },
  {
   "cell_type": "code",
   "execution_count": null,
   "metadata": {},
   "outputs": [],
   "source": [
    "vulnerablity_map_df = pd.DataFrame(vulnerablity_map)\n",
    "vulnerablity_map_df.describe()"
   ]
  },
  {
   "cell_type": "code",
   "execution_count": null,
   "metadata": {},
   "outputs": [],
   "source": [
    "vulnerablity_map_pos = vulnerablity_map[vulnerablity_map['vul_score_mulpi']>=0]\n",
    "vulnerablity_map_neg = vulnerablity_map[vulnerablity_map['vul_score_mulpi']<0]"
   ]
  },
  {
   "cell_type": "code",
   "execution_count": null,
   "metadata": {},
   "outputs": [],
   "source": [
    "print(vulnerablity_map_pos['vul_score_mulpi'].mean(),vulnerablity_map_pos['vul_score_mulpi'].std())\n",
    "print(vulnerablity_map_neg['vul_score_mulpi'].mean(),vulnerablity_map_neg['vul_score_mulpi'].std())"
   ]
  },
  {
   "cell_type": "code",
   "execution_count": null,
   "metadata": {},
   "outputs": [],
   "source": [
    "print(len(vulnerablity_map_pos), len(vulnerablity_map_neg))"
   ]
  },
  {
   "cell_type": "code",
   "execution_count": null,
   "metadata": {},
   "outputs": [],
   "source": [
    "plt.figure(figsize=(10, 10), dpi=100)\n",
    "code = np.arange(0,len(vulnerablity_map))\n",
    "plt.scatter(,vulnerablity_map['vul_score_add'])\n",
    "plt.show()"
   ]
  },
  {
   "cell_type": "code",
   "execution_count": null,
   "metadata": {},
   "outputs": [],
   "source": [
    "vulnerablity_map_neg"
   ]
  },
  {
   "cell_type": "code",
   "execution_count": null,
   "metadata": {},
   "outputs": [],
   "source": [
    "vulnerablity_map_neg.STATEFP.unique()"
   ]
  },
  {
   "cell_type": "code",
   "execution_count": null,
   "metadata": {
    "tags": []
   },
   "outputs": [],
   "source": [
    "vulnerablity_map_pos.info()"
   ]
  },
  {
   "cell_type": "code",
   "execution_count": null,
   "metadata": {},
   "outputs": [],
   "source": [
    "vulnerablity_map_pos_41 = vulnerablity_map_pos[vulnerablity_map_pos['STATEFP']=='41']\n",
    "vulnerablity_map_neg_41 = vulnerablity_map_neg[vulnerablity_map_neg['STATEFP']=='41']"
   ]
  },
  {
   "cell_type": "code",
   "execution_count": null,
   "metadata": {},
   "outputs": [],
   "source": [
    "import numpy as np\n",
    "import mapclassify as mc\n",
    "\n",
    "fig, ax = plt.subplots(\n",
    "    subplot_kw={'projection': albo}, figsize=(10, 10),dpi=300\n",
    ")\n",
    "font = {'family': 'serif',\n",
    "        'serif': 'Times New Roman',\n",
    "        'weight': 'normal',\n",
    "        'size': 12}\n",
    "plt.rc('font', **font)\n",
    "ax.set_extent([-129, -73, 20, 50], crs=ccrs.PlateCarree())\n",
    "\n",
    "from palettable.cmocean.sequential import Amp_20\n",
    "from palettable.cmocean.sequential import Ice_20\n",
    "\n",
    "from palettable.matplotlib import Viridis_7\n",
    "\n",
    "cmap = Viridis_7.mpl_colormap\n",
    "\n",
    "cmap1 = Amp_20.mpl_colormap\n",
    "cmap2 = Ice_20.mpl_colormap\n",
    "\n",
    "vulnerablity_map_neg_49.plot(\n",
    "    column='vul_score_mulpi',\n",
    "    ax=ax,\n",
    "    cmap=cmap1,\n",
    "    legend=False,\n",
    "#     legend_kwds={'label': 'Exposure'},\n",
    "    scheme='NaturalBreaks',\n",
    "#     k=7,\n",
    "    legend_kwds={'loc': 'lower left',\n",
    "                 'title': 'Vulnerability Score',\n",
    "                 \"fmt\": \"{:.3f}\",\n",
    "                 'title_fontsize': 14, # 图例标题字体大小\n",
    "                 'fontsize': 11, # 图例非标题外字体大小\n",
    "                 'shadow': True\n",
    "                },               \n",
    "#     prop={'family': 'Times New Roman', 'size': 16},\n",
    "    edgecolor=np.array([0., 0., 0., 0.]), #'white',\n",
    "    linewidth=0.1\n",
    ")\n",
    "\n",
    "vulnerablity_map_pos_49.plot(\n",
    "    column='vul_score_mulpi',\n",
    "    ax=ax,\n",
    "    cmap=cmap,\n",
    "    legend=False,\n",
    "#     legend_kwds={'label': 'Exposure'},\n",
    "    scheme='NaturalBreaks',\n",
    "#     k=7,\n",
    "    legend_kwds={'loc': 'upper left',\n",
    "                 'title': 'Vulnerability Score',\n",
    "                 \"fmt\": \"{:.3f}\",\n",
    "                 'title_fontsize': 14, # 图例标题字体大小\n",
    "                 'fontsize': 11, # 图例非标题外字体大小\n",
    "                 'shadow': True\n",
    "                },\n",
    "#     prop={'family': 'Times New Roman', 'size': 16},\n",
    "    edgecolor=np.array([0., 0., 0., 0.]), #'white',\n",
    "    linewidth=0.1\n",
    ")\n",
    "\n",
    "\n",
    "\n",
    "state_boundary.boundary.plot(ax=ax,edgecolor='white',linewidth=0.5)\n",
    "\n",
    "ax.axis('on')\n",
    "ax.set_title('Transportation Energy Vulnerability in the US',fontdict={'weight':'bold','size': 20},pad=20)\n",
    "plt.tight_layout(pad=4.5)\n",
    "\n",
    "\n",
    "ax.set_aspect('equal','box')\n",
    "# fig.tight_layout()\n",
    "\n",
    "fig.savefig('Figures/49.png', facecolor='w', dpi=500)"
   ]
  },
  {
   "cell_type": "code",
   "execution_count": null,
   "metadata": {},
   "outputs": [],
   "source": [
    "print(len(vulnerablity_map_pos),len(vulnerablity_map_neg))"
   ]
  },
  {
   "cell_type": "code",
   "execution_count": null,
   "metadata": {},
   "outputs": [],
   "source": [
    "print(len(vulnerablity_map))"
   ]
  },
  {
   "cell_type": "code",
   "execution_count": null,
   "metadata": {},
   "outputs": [],
   "source": [
    "import numpy as np\n",
    "import mapclassify as mc\n",
    "\n",
    "fig, ax = plt.subplots(\n",
    "    subplot_kw={'projection': albo}, figsize=(10, 10),dpi=300\n",
    ")\n",
    "font = {'family': 'serif',\n",
    "        'serif': 'Times New Roman',\n",
    "        'weight': 'normal',\n",
    "        'size': 12}\n",
    "plt.rc('font', **font)\n",
    "ax.set_extent([-129, -73, 20, 50], crs=ccrs.PlateCarree())\n",
    "\n",
    "from palettable.cmocean.sequential import Amp_20\n",
    "from palettable.cmocean.sequential import Ice_20\n",
    "\n",
    "from palettable.matplotlib import Viridis_7\n",
    "\n",
    "cmap = Viridis_7.mpl_colormap\n",
    "\n",
    "cmap1 = Amp_20.mpl_colormap\n",
    "cmap2 = Ice_20.mpl_colormap\n",
    "\n",
    "vulnerablity_map_neg.plot(\n",
    "    column='vul_score_mulpi',\n",
    "    ax=ax,\n",
    "    cmap=cmap1,\n",
    "    legend=False,\n",
    "#     legend_kwds={'label': 'Exposure'},\n",
    "    scheme='NaturalBreaks',\n",
    "#     k=7,\n",
    "    legend_kwds={'loc': 'lower left',\n",
    "                 'title': 'Vulnerability Score',\n",
    "                 \"fmt\": \"{:.3f}\",\n",
    "                 'title_fontsize': 14, # 图例标题字体大小\n",
    "                 'fontsize': 11, # 图例非标题外字体大小\n",
    "                 'shadow': True\n",
    "                },               \n",
    "#     prop={'family': 'Times New Roman', 'size': 16},\n",
    "    edgecolor=np.array([0., 0., 0., 0.]), #'white',\n",
    "    linewidth=0.1\n",
    ")\n",
    "\n",
    "vulnerablity_map_pos.plot(\n",
    "    column='vul_score_mulpi',\n",
    "    ax=ax,\n",
    "    cmap=cmap,\n",
    "    legend=False,\n",
    "#     legend_kwds={'label': 'Exposure'},\n",
    "    scheme='NaturalBreaks',\n",
    "#     k=7,\n",
    "    legend_kwds={'loc': 'upper left',\n",
    "                 'title': 'Vulnerability Score',\n",
    "                 \"fmt\": \"{:.3f}\",\n",
    "                 'title_fontsize': 14, # 图例标题字体大小\n",
    "                 'fontsize': 11, # 图例非标题外字体大小\n",
    "                 'shadow': True\n",
    "                },\n",
    "#     prop={'family': 'Times New Roman', 'size': 16},\n",
    "    edgecolor=np.array([0., 0., 0., 0.]), #'white',\n",
    "    linewidth=0.1\n",
    ")\n",
    "\n",
    "\n",
    "\n",
    "state_boundary.boundary.plot(ax=ax,edgecolor='white',linewidth=0.5)\n",
    "\n",
    "ax.axis('on')\n",
    "ax.set_title('Transportation Energy Vulnerability in the US',fontdict={'weight':'bold','size': 20},pad=20)\n",
    "plt.tight_layout(pad=4.5)\n",
    "\n",
    "\n",
    "ax.set_aspect('equal','box')\n",
    "# fig.tight_layout()\n",
    "\n",
    "fig.savefig('Figures/Vul_score_mulpi_0726.png', facecolor='w', dpi=500)"
   ]
  },
  {
   "cell_type": "code",
   "execution_count": null,
   "metadata": {},
   "outputs": [],
   "source": [
    "import numpy as np\n",
    "import mapclassify as mc\n",
    "\n",
    "fig, ax = plt.subplots(\n",
    "    subplot_kw={'projection': albo}, figsize=(10, 10),dpi=300\n",
    ")\n",
    "font = {'family': 'serif',\n",
    "        'serif': 'Times New Roman',\n",
    "        'weight': 'normal',\n",
    "        'size': 12}\n",
    "plt.rc('font', **font)\n",
    "ax.set_extent([-125, -117, 42, 50], crs=ccrs.PlateCarree())\n",
    "\n",
    "from palettable.cmocean.sequential import Amp_20\n",
    "from palettable.cmocean.sequential import Ice_20\n",
    "\n",
    "from palettable.matplotlib import Viridis_7\n",
    "\n",
    "cmap = Viridis_7.mpl_colormap\n",
    "\n",
    "cmap1 = Amp_20.mpl_colormap\n",
    "cmap2 = Ice_20.mpl_colormap\n",
    "\n",
    "vulnerablity_map_neg.plot(\n",
    "    column='vul_score_mulpi',\n",
    "    ax=ax,\n",
    "    cmap=cmap1,\n",
    "    legend=False,\n",
    "#     legend_kwds={'label': 'Exposure'},\n",
    "    scheme='NaturalBreaks',\n",
    "#     k=7,\n",
    "    legend_kwds={'loc': 'lower left',\n",
    "                 'title': 'Vulnerability Score',\n",
    "                 \"fmt\": \"{:.3f}\",\n",
    "                 'title_fontsize': 14, # 图例标题字体大小\n",
    "                 'fontsize': 11, # 图例非标题外字体大小\n",
    "                 'shadow': True\n",
    "                },               \n",
    "#     prop={'family': 'Times New Roman', 'size': 16},\n",
    "    edgecolor=np.array([0., 0., 0., 0.]), #'white',\n",
    "    linewidth=0.1\n",
    ")\n",
    "\n",
    "vulnerablity_map_pos.plot(\n",
    "    column='vul_score_mulpi',\n",
    "    ax=ax,\n",
    "    cmap=cmap,\n",
    "    legend=False,\n",
    "#     legend_kwds={'label': 'Exposure'},\n",
    "    scheme='NaturalBreaks',\n",
    "#     k=7,\n",
    "    legend_kwds={'loc': 'upper left',\n",
    "                 'title': 'Vulnerability Score',\n",
    "                 \"fmt\": \"{:.3f}\",\n",
    "                 'title_fontsize': 14, # 图例标题字体大小\n",
    "                 'fontsize': 11, # 图例非标题外字体大小\n",
    "                 'shadow': True\n",
    "                },\n",
    "#     prop={'family': 'Times New Roman', 'size': 16},\n",
    "    edgecolor=np.array([0., 0., 0., 0.]), #'white',\n",
    "    linewidth=0.1\n",
    ")\n",
    "\n",
    "\n",
    "\n",
    "state_boundary.boundary.plot(ax=ax,edgecolor='white',linewidth=0.5)\n",
    "\n",
    "ax.axis('on')\n",
    "ax.set_title('Transportation Energy Vulnerability in the US',fontdict={'weight':'bold','size': 20},pad=20)\n",
    "plt.tight_layout(pad=4.5)\n",
    "\n",
    "\n",
    "ax.set_aspect('equal','box')\n",
    "# fig.tight_layout()\n",
    "\n",
    "fig.savefig('Figures/WS.png', facecolor='w', dpi=500)"
   ]
  },
  {
   "cell_type": "code",
   "execution_count": null,
   "metadata": {},
   "outputs": [],
   "source": [
    "import numpy as np\n",
    "\n",
    "fig, ax = plt.subplots(\n",
    "    subplot_kw={'projection': albo}, figsize=(14, 10),dpi=300\n",
    ")\n",
    "font = {'family': 'serif',\n",
    "        'serif': 'Times New Roman',\n",
    "        'weight': 'normal',\n",
    "        'size': 12}\n",
    "plt.rc('font', **font)\n",
    "ax.set_extent([-129, -73, 20, 50], crs=ccrs.PlateCarree())\n",
    "\n",
    "from palettable.matplotlib import Viridis_7\n",
    "\n",
    "cmap = Viridis_7.mpl_colormap\n",
    "\n",
    "vulnerablity_map_pos.plot(\n",
    "    column='vul_score_mulpi',\n",
    "    ax=ax,\n",
    "    cmap=cmap,\n",
    "    legend=True,\n",
    "#     legend_kwds={'label': 'Exposure'},\n",
    "    scheme='NaturalBreaks',\n",
    "#     k=7,\n",
    "    legend_kwds={'loc': 'lower left',\n",
    "                 'title': 'Vulnerability Score',\n",
    "                 \"fmt\": \"{:.3f}\",\n",
    "                 'title_fontsize': 14, # 图例标题字体大小\n",
    "                 'fontsize': 11, # 图例非标题外字体大小\n",
    "                 'shadow': True\n",
    "                },               \n",
    "    missing_kwds={\n",
    "                \"color\": \"lightgrey\",\n",
    "                \"edgecolor\": \"grey\",\n",
    "                \"hatch\": \"////\",\n",
    "                \"label\": \"Nan\"\n",
    "                },\n",
    "#     prop={'family': 'Times New Roman', 'size': 16},\n",
    "    edgecolor=np.array([0., 0., 0., 0.]), #'white',\n",
    "    linewidth=0.2\n",
    ")\n",
    "state_boundary.boundary.plot(ax=ax,edgecolor='white',linewidth=0.5)\n",
    "\n",
    "ax.axis('on')\n",
    "ax.set_title('Transportation Energy Vulnerability in the US',fontdict={'weight':'bold','size': 20},pad=20)\n",
    "plt.tight_layout(pad=4.5)\n",
    "\n",
    "\n",
    "ax.set_aspect('equal','box')\n",
    "# fig.tight_layout()\n",
    "\n",
    "fig.savefig('Figures/lengend1.png', facecolor='w', dpi=500)"
   ]
  },
  {
   "cell_type": "code",
   "execution_count": null,
   "metadata": {},
   "outputs": [],
   "source": [
    "import numpy as np\n",
    "\n",
    "fig, ax = plt.subplots(\n",
    "    subplot_kw={'projection': albo}, figsize=(10, 10),dpi=300\n",
    ")\n",
    "font = {'family': 'serif',\n",
    "        'serif': 'Times New Roman',\n",
    "        'weight': 'normal',\n",
    "        'size': 12}\n",
    "plt.rc('font', **font)\n",
    "ax.set_extent([-115, -90, 35, 50], crs=ccrs.PlateCarree())\n",
    "\n",
    "from palettable.cmocean.sequential import Amp_20\n",
    "\n",
    "cmap = Amp_20.mpl_colormap\n",
    "\n",
    "vulnerablity_map_neg.plot(\n",
    "    column='vul_score_mulpi',\n",
    "    ax=ax,\n",
    "    cmap=cmap,\n",
    "    legend=False,\n",
    "#     legend_kwds={'label': 'Exposure'},\n",
    "    scheme='NaturalBreaks',\n",
    "#     k=7,\n",
    "    legend_kwds={'loc': 'upper left',\n",
    "                 'title': 'Vulnerability Score',\n",
    "                 \"fmt\": \"{:.3f}\",\n",
    "                 'title_fontsize': 14, # 图例标题字体大小\n",
    "                 'fontsize': 11, # 图例非标题外字体大小\n",
    "                 'shadow': True\n",
    "                },               \n",
    "#     prop={'family': 'Times New Roman', 'size': 16},\n",
    "    edgecolor=np.array([0., 0., 0., 0.]), #'white',\n",
    "    linewidth=0.2\n",
    ")\n",
    "state_boundary.boundary.plot(ax=ax,edgecolor='black',linewidth=0.5)\n",
    "\n",
    "ax.axis('on')\n",
    "ax.set_title('Transportation Energy Vulnerability in the US',fontdict={'weight':'bold','size': 20},pad=20)\n",
    "plt.tight_layout(pad=4.5)\n",
    "\n",
    "\n",
    "ax.set_aspect('equal','box')\n",
    "# fig.tight_layout()\n",
    "\n",
    "fig.savefig('Figures/midareas.png', facecolor='w', dpi=500)"
   ]
  },
  {
   "cell_type": "code",
   "execution_count": null,
   "metadata": {},
   "outputs": [],
   "source": [
    "WS = state_boundary[state_boundary['STATEFP']=='53']\n",
    "WS.crs"
   ]
  },
  {
   "cell_type": "code",
   "execution_count": null,
   "metadata": {},
   "outputs": [],
   "source": [
    "import numpy as np\n",
    "\n",
    "fig, ax = plt.subplots(\n",
    "    subplot_kw={'projection': albo}, figsize=(12, 10),dpi=300\n",
    ")\n",
    "font = {'family': 'serif',\n",
    "        'serif': 'Times New Roman',\n",
    "        'weight': 'normal',\n",
    "        'size': 12}\n",
    "plt.rc('font', **font)\n",
    "\n",
    "#设置图框线粗细\n",
    "bwith = 1.5 #边框宽度设置为2\n",
    "TK = plt.gca()#获取边框\n",
    "TK.spines['bottom'].set_linewidth(bwith)\n",
    "TK.spines['left'].set_linewidth(bwith)\n",
    "TK.spines['top'].set_linewidth(bwith)\n",
    "TK.spines['right'].set_linewidth(bwith)\n",
    "ax.set_extent([-129, -73, 20, 50], crs=ccrs.PlateCarree())\n",
    "\n",
    "from palettable.matplotlib import Viridis_7\n",
    "\n",
    "cmap = Viridis_7.mpl_colormap\n",
    "\n",
    "vulnerablity_map.plot(\n",
    "    column='vul_mulpi_1/3',\n",
    "    ax=ax,\n",
    "    cmap=cmap,\n",
    "    legend=True,\n",
    "#     legend_kwds={'label': 'Exposure'},\n",
    "    scheme='NaturalBreaks',\n",
    "#     k=7,\n",
    "    legend_kwds={'loc': 'upper left',\n",
    "                 'title': 'Vulnerablity Score',\n",
    "                 'shadow': True\n",
    "                },\n",
    "#     missing_kwds={\n",
    "#                 \"color\": \"lightgrey\",\n",
    "#                 \"edgecolor\": \"grey\",\n",
    "#                 \"hatch\": \"////\",\n",
    "#                 \"label\": \"Nan\"\n",
    "#                 },\n",
    "    edgecolor=np.array([0., 0., 0., 0.]),\n",
    "    linewidth=0.1\n",
    ")\n",
    "\n",
    "ax.axis('off')\n",
    "ax.set_title('USA Transportation Energy Vulnerability', font='Times New Roman', fontsize=20,pad=20)\n",
    "plt.tight_layout(pad=4.5)\n",
    "\n",
    "\n",
    "ax.set_aspect('equal','box')\n",
    "# fig.tight_layout()\n",
    "\n",
    "fig.savefig('Figures/Vul_score_multiple_1_3.png', facecolor='w', dpi=500)"
   ]
  },
  {
   "cell_type": "code",
   "execution_count": null,
   "metadata": {},
   "outputs": [],
   "source": [
    "import numpy as np\n",
    "\n",
    "fig, ax = plt.subplots(\n",
    "    subplot_kw={'projection': albo}, figsize=(10, 10),dpi=300\n",
    ")\n",
    "font = {'family': 'serif',\n",
    "        'serif': 'Times New Roman',\n",
    "        'weight': 'normal',\n",
    "        'size': 12}\n",
    "plt.rc('font', **font)\n",
    "ax.set_extent([-129, -73, 20, 50], crs=ccrs.PlateCarree())\n",
    "\n",
    "from palettable.matplotlib import Viridis_7\n",
    "\n",
    "cmap = Viridis_7.mpl_colormap\n",
    "\n",
    "vulnerablity_map.plot(\n",
    "    column='vul_score_add',\n",
    "    ax=ax,\n",
    "    cmap=cmap,\n",
    "    legend=True,\n",
    "#     legend_kwds={'label': 'Exposure'},\n",
    "    scheme='NaturalBreaks',\n",
    "#     k=7,\n",
    "    legend_kwds={'loc': 'upper left',\n",
    "                 'title': 'Vulnerability Score',\n",
    "                 \"fmt\": \"{:.3f}\",\n",
    "                 'title_fontsize': 14, # 图例标题字体大小\n",
    "                 'fontsize': 11, # 图例非标题外字体大小\n",
    "                 'shadow': True\n",
    "                },               \n",
    "    missing_kwds={\n",
    "                \"color\": \"lightgrey\",\n",
    "                \"edgecolor\": \"grey\",\n",
    "                \"hatch\": \"////\",\n",
    "                \"label\": \"Nan\"\n",
    "                },\n",
    "#     prop={'family': 'Times New Roman', 'size': 16},\n",
    "    edgecolor=np.array([0., 0., 0., 0.]), #'white',\n",
    "    linewidth=0.2\n",
    ")\n",
    "state_boundary.boundary.plot(ax=ax,edgecolor='white',linewidth=0.5)\n",
    "\n",
    "ax.axis('on')\n",
    "ax.set_title('Transportation Energy Vulnerability in the US',fontdict={'weight':'bold','size': 20},pad=20)\n",
    "plt.tight_layout(pad=4.5)\n",
    "\n",
    "\n",
    "ax.set_aspect('equal','box')\n",
    "# fig.tight_layout()\n",
    "\n",
    "fig.savefig('Figures/Vul_score_add.png', facecolor='w', dpi=500)"
   ]
  },
  {
   "cell_type": "markdown",
   "metadata": {},
   "source": [
    "# Weight Testing"
   ]
  },
  {
   "cell_type": "code",
   "execution_count": null,
   "metadata": {},
   "outputs": [],
   "source": [
    "vul_weidghted = pd.merge(e, s, on=\"GEOID\")\n",
    "vul_weidghted = pd.merge(vul_weidghted, ac, on=\"GEOID\")\n",
    "vul_weidghted.head()"
   ]
  },
  {
   "cell_type": "code",
   "execution_count": null,
   "metadata": {},
   "outputs": [],
   "source": [
    "vul_weidghted.fillna(0, inplace=True)"
   ]
  },
  {
   "cell_type": "code",
   "execution_count": null,
   "metadata": {},
   "outputs": [],
   "source": [
    "# min-max: exposure, min_max_sens: sensitivity; AC_score: adaptive capacity\n",
    "# Suppose the weight are 0.6 , 0.2, 0.2\n",
    "vul_weidghted['vul_mulpi_622'] = vul_weidghted.apply(lambda x: 1.8*x[\"min-max\"]*(0.6*x[\"min_max_sens\"]-0.6*x[\"AC_score\"]), axis=1)\n",
    "vul_weidghted['vul_add_622'] = vul_weidghted.apply(lambda x: 1.8*x[\"min-max\"]+0.6*x[\"min_max_sens\"]-0.6*x[\"AC_score\"], axis=1)"
   ]
  },
  {
   "cell_type": "code",
   "execution_count": null,
   "metadata": {},
   "outputs": [],
   "source": [
    "vul_weidghted['vul_mulpi_622'].corr(vulnerablity['vul_mulpi_1/3'])"
   ]
  },
  {
   "cell_type": "code",
   "execution_count": null,
   "metadata": {},
   "outputs": [],
   "source": [
    "vul_weidghted['vul_mulpi_622'].corr(vulnerablity['vul_score_mulpi'])"
   ]
  },
  {
   "cell_type": "code",
   "execution_count": null,
   "metadata": {},
   "outputs": [],
   "source": [
    "vul_weidghted['vul_add_622'].corr(vulnerablity['vul_add_1/3'])"
   ]
  },
  {
   "cell_type": "code",
   "execution_count": null,
   "metadata": {},
   "outputs": [],
   "source": [
    "vul_weidghted['vul_add_622'].corr(vulnerablity['vul_score_add'])"
   ]
  },
  {
   "cell_type": "code",
   "execution_count": null,
   "metadata": {},
   "outputs": [],
   "source": [
    "# min-max: exposure, min_max_sens: sensitivity; AC_score: adaptive capacity\n",
    "# Suppose the weight are 0.9 , 0.05, 0.05\n",
    "vul_weidghted['vul_mulpi_955'] = vul_weidghted.apply(lambda x: 2.7*x[\"min-max\"]*(0.15*x[\"min_max_sens\"]-0.15*x[\"AC_score\"]), axis=1)"
   ]
  },
  {
   "cell_type": "code",
   "execution_count": null,
   "metadata": {},
   "outputs": [],
   "source": [
    "vul_weidghted['vul_add_955'] = vul_weidghted.apply(lambda x: 2.7*x[\"min-max\"]+0.15*x[\"min_max_sens\"]-0.15*x[\"AC_score\"], axis=1)"
   ]
  },
  {
   "cell_type": "code",
   "execution_count": null,
   "metadata": {},
   "outputs": [],
   "source": [
    "vul_weidghted['vul_mulpi_955'].corr(vulnerablity['vul_mulpi_1/3'])"
   ]
  },
  {
   "cell_type": "code",
   "execution_count": null,
   "metadata": {},
   "outputs": [],
   "source": [
    "vul_weidghted['vul_mulpi_955'].corr(vulnerablity['vul_score_mulpi'])"
   ]
  },
  {
   "cell_type": "code",
   "execution_count": null,
   "metadata": {},
   "outputs": [],
   "source": [
    "vul_weidghted['vul_add_955'].corr(vulnerablity['vul_add_1/3'])"
   ]
  },
  {
   "cell_type": "code",
   "execution_count": null,
   "metadata": {},
   "outputs": [],
   "source": [
    "vul_weidghted['vul_add_955'].corr(vulnerablity['vul_score_add'])"
   ]
  },
  {
   "cell_type": "code",
   "execution_count": null,
   "metadata": {},
   "outputs": [],
   "source": [
    "# Suppose the weight are 0.45 , 0.45, 0.1\n",
    "vul_weidghted['vul_mulpi_45451'] = vul_weidghted.apply(lambda x: 0.45*x[\"min-max\"]*(0.45*x[\"min_max_sens\"]-0.1*x[\"AC_score\"]), axis=1)"
   ]
  },
  {
   "cell_type": "code",
   "execution_count": null,
   "metadata": {},
   "outputs": [],
   "source": [
    "vul_weidghted['vul_add_45451'] = vul_weidghted.apply(lambda x: 0.45*x[\"min-max\"]+0.45*x[\"min_max_sens\"]-0.1*x[\"AC_score\"], axis=1)"
   ]
  },
  {
   "cell_type": "code",
   "execution_count": null,
   "metadata": {},
   "outputs": [],
   "source": [
    "vul_weidghted['vul_mulpi_45451'].corr(vulnerablity['vul_mulpi_1/3'])"
   ]
  },
  {
   "cell_type": "code",
   "execution_count": null,
   "metadata": {},
   "outputs": [],
   "source": [
    "vul_weidghted['vul_add_45451'].corr(vulnerablity['vul_add_1/3'])"
   ]
  },
  {
   "cell_type": "code",
   "execution_count": null,
   "metadata": {},
   "outputs": [],
   "source": [
    "# Suppose the weight are 0.2 , 0.6, 0.2\n",
    "vul_weidghted['vul_mulpi_262'] = vul_weidghted.apply(lambda x: 0.6*x[\"min-max\"]*(1.8*x[\"min_max_sens\"]-0.6*x[\"AC_score\"]), axis=1)"
   ]
  },
  {
   "cell_type": "code",
   "execution_count": null,
   "metadata": {},
   "outputs": [],
   "source": [
    "vul_weidghted['vul_mulpi_595'] = vul_weidghted.apply(lambda x: 0.05*x[\"min-max\"]*(0.9*x[\"min_max_sens\"]-0.05*x[\"AC_score\"]), axis=1)"
   ]
  },
  {
   "cell_type": "code",
   "execution_count": null,
   "metadata": {},
   "outputs": [],
   "source": [
    "vul_weidghted['vul_add_595'] = vul_weidghted.apply(lambda x: 0.05*x[\"min-max\"]+0.9*x[\"min_max_sens\"]-0.05*x[\"AC_score\"], axis=1)"
   ]
  },
  {
   "cell_type": "code",
   "execution_count": null,
   "metadata": {},
   "outputs": [],
   "source": [
    "vul_weidghted['vul_mulpi_262'].corr(vulnerablity['vul_mulpi_1/3'])"
   ]
  },
  {
   "cell_type": "code",
   "execution_count": null,
   "metadata": {},
   "outputs": [],
   "source": [
    "vul_weidghted['vul_add_weighted_6'].corr(vulnerablity['vul_add_1/3'])"
   ]
  },
  {
   "cell_type": "code",
   "execution_count": null,
   "metadata": {},
   "outputs": [],
   "source": [
    "vul_weidghted['vul_add_262'] = vul_weidghted.apply(lambda x: 0.2*x[\"min-max\"]+0.6*x[\"min_max_sens\"]-0.2*x[\"AC_score\"], axis=1)"
   ]
  },
  {
   "cell_type": "code",
   "execution_count": null,
   "metadata": {},
   "outputs": [],
   "source": [
    "vul_weidghted['vul_mulpi_weighted_3'].corr(vulnerablity['vul_mulpi_1/3'])"
   ]
  },
  {
   "cell_type": "code",
   "execution_count": null,
   "metadata": {},
   "outputs": [],
   "source": [
    "vul_weidghted['vul_add_weighted_3'].corr(vulnerablity['vul_add_1/3'])"
   ]
  },
  {
   "cell_type": "code",
   "execution_count": null,
   "metadata": {},
   "outputs": [],
   "source": [
    "# Suppose the weight are 0.2 , 0.2, 0.6\n",
    "vul_weidghted['vul_mulpi_226'] = vul_weidghted.apply(lambda x: 0.2*x[\"min-max\"]*(0.2*x[\"min_max_sens\"]-0.6*x[\"AC_score\"]), axis=1)"
   ]
  },
  {
   "cell_type": "code",
   "execution_count": null,
   "metadata": {},
   "outputs": [],
   "source": [
    "vul_weidghted['vul_add_226'] = vul_weidghted.apply(lambda x: 0.2*x[\"min-max\"]+0.2*x[\"min_max_sens\"]-0.6*x[\"AC_score\"], axis=1)"
   ]
  },
  {
   "cell_type": "code",
   "execution_count": null,
   "metadata": {},
   "outputs": [],
   "source": [
    "# Suppose the weight are 0.2 , 0.2, 0.6\n",
    "vul_weidghted['vul_mulpi_559'] = vul_weidghted.apply(lambda x: 0.05*x[\"min-max\"]*(0.05*x[\"min_max_sens\"]-0.9*x[\"AC_score\"]), axis=1)"
   ]
  },
  {
   "cell_type": "code",
   "execution_count": null,
   "metadata": {},
   "outputs": [],
   "source": [
    "vul_weidghted['vul_add__559'] = vul_weidghted.apply(lambda x: 0.05*x[\"min-max\"]+0.05*x[\"min_max_sens\"]-0.9*x[\"AC_score\"], axis=1)"
   ]
  },
  {
   "cell_type": "code",
   "execution_count": null,
   "metadata": {
    "scrolled": true
   },
   "outputs": [],
   "source": [
    "vul_weidghted['vul_mulpi_weighted_7'].corr(vulnerablity['vul_mulpi_1/3'])"
   ]
  },
  {
   "cell_type": "code",
   "execution_count": null,
   "metadata": {},
   "outputs": [],
   "source": [
    "vul_weidghted['vul_add_weighted_7'].corr(vulnerablity['vul_add_1/3'])"
   ]
  },
  {
   "cell_type": "code",
   "execution_count": null,
   "metadata": {},
   "outputs": [],
   "source": [
    "vul_weidghted['vul_mulpi_weighted_4'].corr(vulnerablity['vul_mulpi_1/3'])"
   ]
  },
  {
   "cell_type": "code",
   "execution_count": null,
   "metadata": {},
   "outputs": [],
   "source": [
    "vul_weidghted['vul_add_weighted_4'].corr(vulnerablity['vul_add_1/3'])"
   ]
  },
  {
   "cell_type": "code",
   "execution_count": null,
   "metadata": {},
   "outputs": [],
   "source": [
    "vul_weidghted"
   ]
  },
  {
   "cell_type": "code",
   "execution_count": null,
   "metadata": {},
   "outputs": [],
   "source": [
    "vul_weidghted.to_excel('vul_weidght_test.xlsx')"
   ]
  },
  {
   "cell_type": "markdown",
   "metadata": {},
   "source": [
    "# Switch CV to EV IL"
   ]
  },
  {
   "cell_type": "code",
   "execution_count": null,
   "metadata": {},
   "outputs": [],
   "source": [
    "cv_ev_ex = pd.read_excel('IL CV-EV/IL_CV2EV_base.xlsx',dtype={'CountyFIPs':str})\n",
    "cv_ev_ex.head()"
   ]
  },
  {
   "cell_type": "code",
   "execution_count": null,
   "metadata": {},
   "outputs": [],
   "source": [
    "ex_IL = cv_ev_ex[['CountyFIPs','County', '2020_CV Costexpo_nor', '2030_CV Costexpo_nor',\n",
    "               '2040_CV Costexpo_nor','2050_CV Costexpo_nor','2020_EV Costexpo_nor','2030_EV Costexpo_nor',\n",
    "               '2040_EV Costexpo_nor','2050_EV Costexpo_nor']]\n",
    "ex_IL.head()"
   ]
  },
  {
   "cell_type": "code",
   "execution_count": null,
   "metadata": {},
   "outputs": [],
   "source": [
    "s_IL = sensitivity_map[['GEOID','min_max_sens']]\n",
    "ac_IL = adaptive_capacity_map[['GEOID','AC_score']]"
   ]
  },
  {
   "cell_type": "code",
   "execution_count": null,
   "metadata": {},
   "outputs": [],
   "source": [
    "pop = pd.read_csv('IL CV-EV/latch_2017.csv',dtype={'geocode':str})\n",
    "for i in range(len(pop)):\n",
    "    pop.loc[i,'geocode'] = pop.loc[i,'geocode'].zfill(11)\n",
    "pop.head()"
   ]
  },
  {
   "cell_type": "code",
   "execution_count": null,
   "metadata": {},
   "outputs": [],
   "source": [
    "col_name=pop.columns.tolist()\n",
    "col_name.insert(1,'StateFIPs')\n",
    "col_name.insert(2,'CountyFIPs')\n",
    "col_name.insert(3,'CountyPOP')\n",
    "pop=pop.reindex(columns=col_name)\n",
    "for i in range(len(pop)):\n",
    "    pop.loc[i,'StateFIPs'] = str(pop.loc[i,'geocode'])[:2]\n",
    "    pop.loc[i,'CountyFIPs'] = str(pop.loc[i,'geocode'])[:5]"
   ]
  },
  {
   "cell_type": "code",
   "execution_count": null,
   "metadata": {},
   "outputs": [],
   "source": [
    "pop_IL = pop[(pop.StateFIPs == \"17\")]\n",
    "pop_IL = pop_IL.reset_index()"
   ]
  },
  {
   "cell_type": "code",
   "execution_count": null,
   "metadata": {},
   "outputs": [],
   "source": [
    "pop_county = pop_IL.groupby(['CountyFIPs'])[['tot_pop']].sum()\n",
    "pop_county = pop_county.reset_index()\n",
    "pop_county.head()"
   ]
  },
  {
   "cell_type": "code",
   "execution_count": null,
   "metadata": {},
   "outputs": [],
   "source": [
    "for i in range(len(pop_IL)):\n",
    "    for j in range(len(pop_county)):\n",
    "        if pop_IL.loc[i,'CountyFIPs'] == pop_county.loc[j,'CountyFIPs']:\n",
    "            pop_IL.loc[i,'CountyPOP'] = pop_county.loc[j,'tot_pop']"
   ]
  },
  {
   "cell_type": "code",
   "execution_count": null,
   "metadata": {},
   "outputs": [],
   "source": [
    "pop_IL"
   ]
  },
  {
   "cell_type": "code",
   "execution_count": null,
   "metadata": {},
   "outputs": [],
   "source": [
    "s_IL = pd.merge(s_IL,pop_IL,left_on='GEOID',right_on='geocode',how=\"left\")\n",
    "ac_IL = pd.merge(ac_IL,pop_IL,left_on='GEOID',right_on='geocode',how=\"left\")"
   ]
  },
  {
   "cell_type": "code",
   "execution_count": null,
   "metadata": {},
   "outputs": [],
   "source": [
    "s_IL = s_IL[(s_IL.StateFIPs == \"17\")]\n",
    "ac_IL = ac_IL[(ac_IL.StateFIPs == \"17\")]"
   ]
  },
  {
   "cell_type": "code",
   "execution_count": null,
   "metadata": {},
   "outputs": [],
   "source": [
    "s_IL['sens-new'] = s_IL.apply(lambda x: x['min_max_sens'] * (x['tot_pop']/x['CountyPOP']),axis=1)\n",
    "ac_IL['ac-new'] = ac_IL.apply(lambda x: x['AC_score'] * (x['tot_pop']/x['CountyPOP']),axis=1)"
   ]
  },
  {
   "cell_type": "code",
   "execution_count": null,
   "metadata": {},
   "outputs": [],
   "source": [
    "s_county = s_IL.groupby(['CountyFIPs'])[['sens-new']].sum()\n",
    "s_county.head()"
   ]
  },
  {
   "cell_type": "code",
   "execution_count": null,
   "metadata": {},
   "outputs": [],
   "source": [
    "ac_county = ac_IL.groupby(['CountyFIPs'])[['ac-new']].sum()\n",
    "ac_county.head()"
   ]
  },
  {
   "cell_type": "code",
   "execution_count": null,
   "metadata": {},
   "outputs": [],
   "source": [
    "s_county = s_county.reset_index()\n",
    "ac_county = ac_county.reset_index()"
   ]
  },
  {
   "cell_type": "code",
   "execution_count": null,
   "metadata": {},
   "outputs": [],
   "source": [
    "minsens = s_county['sens-new'].min()\n",
    "maxsens = s_county['sens-new'].max()\n",
    "minac = ac_county['ac-new'].min()\n",
    "maxac = ac_county['ac-new'].max()\n",
    "s_county['sens-new'] = s_county.apply(lambda x: (x['sens-new'] - minsens)/(maxsens-minsens),axis=1)\n",
    "ac_county['ac-new'] = ac_county.apply(lambda x: (x['ac-new'] - minac)/(maxac-minac),axis=1)"
   ]
  },
  {
   "cell_type": "code",
   "execution_count": null,
   "metadata": {
    "scrolled": true
   },
   "outputs": [],
   "source": [
    "ac_county.head()"
   ]
  },
  {
   "cell_type": "code",
   "execution_count": null,
   "metadata": {},
   "outputs": [],
   "source": [
    "vul_score = pd.merge(ex_IL,s_county,on='CountyFIPs')\n",
    "vul_score = pd.merge(vul_score,ac_county,on='CountyFIPs')\n",
    "vul_score.head()"
   ]
  },
  {
   "cell_type": "code",
   "execution_count": null,
   "metadata": {
    "tags": []
   },
   "outputs": [],
   "source": [
    "vul_score.describe()"
   ]
  },
  {
   "cell_type": "code",
   "execution_count": null,
   "metadata": {},
   "outputs": [],
   "source": [
    "vul_score.fillna(0, inplace=True)"
   ]
  },
  {
   "cell_type": "code",
   "execution_count": null,
   "metadata": {},
   "outputs": [],
   "source": [
    "vul_score['2020CV'] = vul_score.apply(lambda x: x[\"2020_CV Costexpo_nor\"]*(x[\"sens-new\"]-x[\"ac-new\"]), axis=1)\n",
    "vul_score['2030CV'] = vul_score.apply(lambda x: x[\"2030_CV Costexpo_nor\"]*(x[\"sens-new\"]-x[\"ac-new\"]), axis=1)\n",
    "vul_score['2040CV'] = vul_score.apply(lambda x: x[\"2040_CV Costexpo_nor\"]*(x[\"sens-new\"]-x[\"ac-new\"]), axis=1)\n",
    "vul_score['2050CV'] = vul_score.apply(lambda x: x[\"2050_CV Costexpo_nor\"]*(x[\"sens-new\"]-x[\"ac-new\"]), axis=1)\n",
    "vul_score['2020EV'] = vul_score.apply(lambda x: x[\"2020_EV Costexpo_nor\"]*(x[\"sens-new\"]-x[\"ac-new\"]), axis=1)\n",
    "vul_score['2030EV'] = vul_score.apply(lambda x: x[\"2030_EV Costexpo_nor\"]*(x[\"sens-new\"]-x[\"ac-new\"]), axis=1)\n",
    "vul_score['2040EV'] = vul_score.apply(lambda x: x[\"2040_EV Costexpo_nor\"]*(x[\"sens-new\"]-x[\"ac-new\"]), axis=1)\n",
    "vul_score['2050EV'] = vul_score.apply(lambda x: x[\"2050_EV Costexpo_nor\"]*(x[\"sens-new\"]-x[\"ac-new\"]), axis=1)"
   ]
  },
  {
   "cell_type": "code",
   "execution_count": null,
   "metadata": {},
   "outputs": [],
   "source": [
    "vul_score.head()"
   ]
  },
  {
   "cell_type": "code",
   "execution_count": null,
   "metadata": {},
   "outputs": [],
   "source": [
    "vul_score.to_excel('IL CV-EV/vul_score CV-EV_base.xlsx')"
   ]
  },
  {
   "cell_type": "code",
   "execution_count": null,
   "metadata": {},
   "outputs": [],
   "source": []
  },
  {
   "cell_type": "code",
   "execution_count": null,
   "metadata": {},
   "outputs": [],
   "source": [
    "vul_IL = pd.read_excel('IL CV-EV/vul_score CV-EV_base.xlsx',dtype={'CountyFIPs':str})\n",
    "vul_IL.info()"
   ]
  },
  {
   "cell_type": "code",
   "execution_count": null,
   "metadata": {},
   "outputs": [],
   "source": [
    "IL_map = gpd.read_file('IL_county/IL_BNDY_County_Py.shp',dtype={'CO_FIPS':str})\n",
    "IL_map.crs"
   ]
  },
  {
   "cell_type": "code",
   "execution_count": null,
   "metadata": {},
   "outputs": [],
   "source": [
    "IL_vul_map = pd.merge(vul_IL, IL_map, left_on = 'County', right_on = 'COUNTY_NAM')"
   ]
  },
  {
   "cell_type": "code",
   "execution_count": null,
   "metadata": {},
   "outputs": [],
   "source": [
    "IL_vul_map = gpd.GeoDataFrame(IL_vul_map,crs = 4269)"
   ]
  },
  {
   "cell_type": "code",
   "execution_count": null,
   "metadata": {},
   "outputs": [],
   "source": [
    "IL_vul_map['2020CV_new'] = IL_vul_map.apply(lambda x: abs(x['2020CV']), axis=1)"
   ]
  },
  {
   "cell_type": "code",
   "execution_count": null,
   "metadata": {},
   "outputs": [],
   "source": [
    "IL_vul_map['2020EV_new'] = IL_vul_map.apply(lambda x: abs(x['2020EV']), axis=1)"
   ]
  },
  {
   "cell_type": "code",
   "execution_count": null,
   "metadata": {},
   "outputs": [],
   "source": [
    "IL_vul_map['dif_20'] = IL_vul_map.apply(lambda x: x['2020CV_new'] - x['2020EV_'], axis=1)"
   ]
  },
  {
   "cell_type": "code",
   "execution_count": null,
   "metadata": {},
   "outputs": [],
   "source": [
    "print(IL_vul_map['2020CV_new'].max(),IL_vul_map['2020CV_new'].min())"
   ]
  },
  {
   "cell_type": "code",
   "execution_count": null,
   "metadata": {},
   "outputs": [],
   "source": [
    "print(IL_vul_map['2020EV_new'].max(),IL_vul_map['2020EV_new'].min())"
   ]
  },
  {
   "cell_type": "code",
   "execution_count": null,
   "metadata": {},
   "outputs": [],
   "source": [
    "IL_vul_map['dif_50'] = IL_vul_map.apply(lambda x: x['2050CV'] - x['2050EV'], axis=1)  "
   ]
  },
  {
   "cell_type": "code",
   "execution_count": null,
   "metadata": {},
   "outputs": [],
   "source": [
    "IL_vul_map['2050CV_new'] = IL_vul_map.apply(lambda x: abs(x['2050CV']), axis=1)"
   ]
  },
  {
   "cell_type": "code",
   "execution_count": null,
   "metadata": {},
   "outputs": [],
   "source": [
    "IL_vul_map['2050EV_new'] = IL_vul_map.apply(lambda x: abs(x['2050EV']), axis=1)"
   ]
  },
  {
   "cell_type": "code",
   "execution_count": null,
   "metadata": {},
   "outputs": [],
   "source": [
    "print(IL_vul_map['2050CV_new'].max(),IL_vul_map['2050CV_new'].min())"
   ]
  },
  {
   "cell_type": "code",
   "execution_count": null,
   "metadata": {},
   "outputs": [],
   "source": [
    "print(IL_vul_map['2050EV_new'].max(),IL_vul_map['2050EV_new'].min())"
   ]
  },
  {
   "cell_type": "code",
   "execution_count": null,
   "metadata": {},
   "outputs": [],
   "source": [
    "import numpy as np\n",
    "\n",
    "fig, ax = plt.subplots(figsize=(10, 10),dpi=300)\n",
    "font = {'family': 'serif',\n",
    "        'serif': 'Times New Roman',\n",
    "        'weight': 'normal',\n",
    "        'size': 12}\n",
    "plt.rc('font', **font)\n",
    "\n",
    "from palettable.matplotlib import Viridis_7\n",
    "\n",
    "cmap = Viridis_7.mpl_colormap\n",
    "\n",
    "IL_vul_map.plot(\n",
    "    column='2050CV_new',\n",
    "    ax=ax,\n",
    "    cmap=cmap,\n",
    "    legend=True,\n",
    "#     legend_kwds={'label': 'Exposure'},\n",
    "#    scheme='NaturalBreaks',\n",
    "#     k=7,\n",
    "#     legend_kwds={'title': 'Vulnerability Score',\n",
    "#                  \"fmt\": \"{:.3f}\",\n",
    "#                  'title_fontsize': 14, # 图例标题字体大小\n",
    "#                  'fontsize': 11, # 图例非标题外字体大小\n",
    "# #                  'shadow': True\n",
    "#                 },\n",
    "#     prop={'family': 'Times New Roman', 'size': 16},\n",
    "    edgecolor=np.array([0., 0., 0., 0.]), #'white',\n",
    "    linewidth=0.2,\n",
    "    vmin = 0,\n",
    "    vmax = 0.7442712535493357\n",
    ")\n",
    "IL_map.boundary.plot(ax=ax,edgecolor='white',linewidth=0.5)\n",
    "\n",
    "ax.axis('on')\n",
    "#ax.set_title('Transportation Energy Vulnerability in the US',fontdict={'weight':'bold','size': 20},pad=20)\n",
    "plt.tight_layout(pad=4.5)\n",
    "\n",
    "\n",
    "ax.set_aspect('equal','box')\n",
    "# fig.tight_layout()\n",
    "\n",
    "fig.savefig('Figures/IL_2050CV.png', facecolor='w', dpi=500)"
   ]
  },
  {
   "cell_type": "code",
   "execution_count": null,
   "metadata": {},
   "outputs": [],
   "source": [
    "import numpy as np\n",
    "\n",
    "fig, ax = plt.subplots(figsize=(10, 10),dpi=300)\n",
    "font = {'family': 'serif',\n",
    "        'serif': 'Times New Roman',\n",
    "        'weight': 'normal',\n",
    "        'size': 12}\n",
    "plt.rc('font', **font)\n",
    "\n",
    "from palettable.matplotlib import Viridis_7\n",
    "\n",
    "cmap = Viridis_7.mpl_colormap\n",
    "\n",
    "IL_vul_map.plot(\n",
    "    column='2050EV_new',\n",
    "    ax=ax,\n",
    "    cmap=cmap,\n",
    "    legend=True,\n",
    "#     legend_kwds={'label': 'Exposure'},\n",
    "#    scheme='NaturalBreaks',\n",
    "#     k=7,\n",
    "#     legend_kwds={'loc': 'lower left',\n",
    "#                  'title': 'Vulnerability Score',\n",
    "#                  \"fmt\": \"{:.3f}\",\n",
    "#                  'title_fontsize': 14, # 图例标题字体大小\n",
    "#                  'fontsize': 11, # 图例非标题外字体大小\n",
    "#                  'shadow': True\n",
    "#                 },\n",
    "#     prop={'family': 'Times New Roman', 'size': 16},\n",
    "    edgecolor=np.array([0., 0., 0., 0.]), #'white',\n",
    "    linewidth=0.2,\n",
    "    vmin = 0,\n",
    "    vmax = 0.7442712535493357\n",
    ")\n",
    "IL_map.boundary.plot(ax=ax,edgecolor='white',linewidth=0.5)\n",
    "\n",
    "ax.axis('on')\n",
    "#ax.set_title('Transportation Energy Vulnerability in the US',fontdict={'weight':'bold','size': 20},pad=20)\n",
    "plt.tight_layout(pad=4.5)\n",
    "\n",
    "\n",
    "ax.set_aspect('equal','box')\n",
    "# fig.tight_layout()\n",
    "\n",
    "fig.savefig('Figures/IL_2050EV.png', facecolor='w', dpi=500)"
   ]
  },
  {
   "cell_type": "code",
   "execution_count": null,
   "metadata": {},
   "outputs": [],
   "source": []
  },
  {
   "cell_type": "code",
   "execution_count": null,
   "metadata": {},
   "outputs": [],
   "source": [
    "import matplotlib.pyplot as plt\n",
    "import seaborn as sns"
   ]
  },
  {
   "cell_type": "code",
   "execution_count": null,
   "metadata": {},
   "outputs": [],
   "source": []
  },
  {
   "cell_type": "code",
   "execution_count": null,
   "metadata": {},
   "outputs": [],
   "source": [
    "sns.violinplot(\n",
    "               y = \"2020CV\", \n",
    "               data = vul_score\n",
    "              )\n",
    "plt.show()"
   ]
  },
  {
   "cell_type": "code",
   "execution_count": null,
   "metadata": {},
   "outputs": [],
   "source": [
    "sns.violinplot(\n",
    "               y = \"2030CV\", \n",
    "               data = vul_score\n",
    "              )\n",
    "plt.show()"
   ]
  },
  {
   "cell_type": "code",
   "execution_count": null,
   "metadata": {},
   "outputs": [],
   "source": [
    "sns.violinplot(\n",
    "               y = \"2020EV\", \n",
    "               data = vul_score\n",
    "              )\n",
    "plt.show()"
   ]
  },
  {
   "cell_type": "code",
   "execution_count": null,
   "metadata": {},
   "outputs": [],
   "source": [
    "sns.violinplot(\n",
    "               y = \"2030EV\", \n",
    "               data = vul_score\n",
    "              )\n",
    "plt.show()"
   ]
  },
  {
   "cell_type": "code",
   "execution_count": null,
   "metadata": {},
   "outputs": [],
   "source": [
    "sns.violinplot(\n",
    "               y = \"2040EV\", \n",
    "               data = vul_score\n",
    "              )\n",
    "plt.show()"
   ]
  },
  {
   "cell_type": "code",
   "execution_count": null,
   "metadata": {},
   "outputs": [],
   "source": [
    "sns.violinplot(\n",
    "               y = \"2050EV\", \n",
    "               data = vul_score\n",
    "              )\n",
    "plt.show()"
   ]
  },
  {
   "cell_type": "code",
   "execution_count": null,
   "metadata": {},
   "outputs": [],
   "source": []
  },
  {
   "cell_type": "code",
   "execution_count": null,
   "metadata": {},
   "outputs": [],
   "source": [
    "PADD1A = ['09','23','25','33','44','50']\n",
    "PADD1B = ['10','11','24','34','36','42']\n",
    "PADD1C = ['12','13','37','45','51','54']\n",
    "PADD2 = ['17','18','19','20','21','26','27','29','31','38','39','40','46','47','55']\n",
    "PADD3 = ['01','05','22','28','35','48']\n",
    "PADD4 = ['08','16','30','49','56']\n",
    "PADD5 = ['02','04','06','15','32','41','53']"
   ]
  },
  {
   "cell_type": "code",
   "execution_count": null,
   "metadata": {},
   "outputs": [],
   "source": [
    "state_boundary.plot()"
   ]
  },
  {
   "cell_type": "code",
   "execution_count": null,
   "metadata": {},
   "outputs": [],
   "source": [
    "state_boundary.boundary.plot()"
   ]
  },
  {
   "cell_type": "code",
   "execution_count": null,
   "metadata": {},
   "outputs": [],
   "source": []
  }
 ],
 "metadata": {
  "kernelspec": {
   "display_name": "Python 3",
   "language": "python",
   "name": "python3"
  },
  "language_info": {
   "codemirror_mode": {
    "name": "ipython",
    "version": 3
   },
   "file_extension": ".py",
   "mimetype": "text/x-python",
   "name": "python",
   "nbconvert_exporter": "python",
   "pygments_lexer": "ipython3",
   "version": "3.8.5"
  }
 },
 "nbformat": 4,
 "nbformat_minor": 4
}
