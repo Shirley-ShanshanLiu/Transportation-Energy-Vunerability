{
 "cells": [
  {
   "cell_type": "code",
   "execution_count": null,
   "metadata": {},
   "outputs": [],
   "source": [
    "import geopandas as gpd\n",
    "import pandas as pd\n",
    "import pathlib\n",
    "\n",
    "import matplotlib.pyplot as plt\n",
    "\n",
    "from cartopy import crs as ccrs\n",
    "\n",
    "import os\n",
    "import sys\n",
    "import subprocess\n",
    "import datetime\n",
    "import platform\n",
    "import datetime"
   ]
  },
  {
   "cell_type": "code",
   "execution_count": null,
   "metadata": {},
   "outputs": [],
   "source": [
    "ny = gpd.read_file('BaseMap/HousingDB_by_CensusTract.shp')"
   ]
  },
  {
   "cell_type": "code",
   "execution_count": null,
   "metadata": {
    "scrolled": true
   },
   "outputs": [],
   "source": [
    "ny.head()"
   ]
  },
  {
   "cell_type": "code",
   "execution_count": null,
   "metadata": {},
   "outputs": [],
   "source": [
    "ny['centract10'] = ny['centract10'].astype(str)"
   ]
  },
  {
   "cell_type": "code",
   "execution_count": null,
   "metadata": {
    "scrolled": true
   },
   "outputs": [],
   "source": [
    "ny['geoid'] = ny.apply(lambda x: str(x['centract10'])[:-2],axis=1)\n",
    "ny.head()"
   ]
  },
  {
   "cell_type": "code",
   "execution_count": null,
   "metadata": {},
   "outputs": [],
   "source": [
    "ny.plot()"
   ]
  },
  {
   "cell_type": "code",
   "execution_count": null,
   "metadata": {},
   "outputs": [],
   "source": [
    "ny.crs"
   ]
  },
  {
   "cell_type": "code",
   "execution_count": null,
   "metadata": {},
   "outputs": [],
   "source": [
    "ny = ny[['boro','geoid','geometry']]"
   ]
  },
  {
   "cell_type": "markdown",
   "metadata": {},
   "source": [
    "# Exposure"
   ]
  },
  {
   "cell_type": "code",
   "execution_count": null,
   "metadata": {},
   "outputs": [],
   "source": [
    "ex = pd.read_csv(\"exposure_census.csv\",dtype = {\"GEOID\":str,\"GEO_ID\":str})\n",
    "ex.head()"
   ]
  },
  {
   "cell_type": "code",
   "execution_count": null,
   "metadata": {},
   "outputs": [],
   "source": [
    "ny_ex = pd.merge(ny,ex,left_on='geoid',right_on=\"GEO_ID\",how=\"left\")\n",
    "ny_ex.head()"
   ]
  },
  {
   "cell_type": "code",
   "execution_count": null,
   "metadata": {},
   "outputs": [],
   "source": [
    "import numpy as np\n",
    "\n",
    "fig, ax = plt.subplots(figsize=(12, 10),dpi=300)\n",
    "\n",
    "font = {'family': 'serif',\n",
    "        'serif': 'Times New Roman',\n",
    "        'weight': 'normal',\n",
    "        'size': 12}\n",
    "plt.rc('font', **font)\n",
    "\n",
    "from palettable.matplotlib import Viridis_7\n",
    "\n",
    "cmap = Viridis_7.mpl_colormap\n",
    "\n",
    "ny_ex.plot(\n",
    "    column='min_max_ex',\n",
    "    ax=ax,\n",
    "    cmap=cmap,\n",
    "    legend=True,\n",
    "#     legend_kwds={'label': 'Exposure'},\n",
    "    scheme='NaturalBreaks',\n",
    "#     k=7,\n",
    "    legend_kwds={'loc': 'lower left',\n",
    "                 'title': 'Exposure',\n",
    "                 \"fmt\": \"{:.3f}\",\n",
    "                 'title_fontsize': 14, \n",
    "                 'fontsize': 11, \n",
    "                 'shadow': True\n",
    "                },               \n",
    "    missing_kwds={\n",
    "                \"color\": \"lightgrey\",\n",
    "                \"edgecolor\": \"grey\",\n",
    "                \"hatch\": \"////\",\n",
    "                \"label\": \"Nan\"\n",
    "                },\n",
    "#     prop={'family': 'Times New Roman', 'size': 16},\n",
    "    edgecolor='white', #,np.array([0., 0., 0., 0.])\n",
    "    linewidth=0.2\n",
    ")\n",
    "\n",
    "ax.axis('on')\n",
    "ax.set_title('Transportation Energy Vulnerability in New York - Exposure',fontdict={'weight':'bold','size': 20},pad=20)\n",
    "plt.tight_layout(pad=4.5)\n",
    "\n",
    "\n",
    "ax.set_aspect('equal','box')\n",
    "# fig.tight_layout()\n",
    "\n",
    "fig.savefig('NY_exposure_map.png', facecolor='w', dpi=500)"
   ]
  },
  {
   "cell_type": "markdown",
   "metadata": {},
   "source": [
    "# Sensitivity"
   ]
  },
  {
   "cell_type": "code",
   "execution_count": null,
   "metadata": {},
   "outputs": [],
   "source": [
    "sensitivity = pd.read_csv(\"sensitivity_census.csv\", dtype={\"Geocode\": str})\n",
    "sensitivity.head()"
   ]
  },
  {
   "cell_type": "code",
   "execution_count": null,
   "metadata": {},
   "outputs": [],
   "source": [
    "ny_sens = pd.merge(ny,sensitivity,left_on='geoid',right_on=\"Geocode\",how=\"left\")\n",
    "ny_sens.head()"
   ]
  },
  {
   "cell_type": "code",
   "execution_count": null,
   "metadata": {},
   "outputs": [],
   "source": [
    "import numpy as np\n",
    "\n",
    "fig, ax = plt.subplots(figsize=(12, 10),dpi=300)\n",
    "\n",
    "font = {'family': 'serif',\n",
    "        'serif': 'Times New Roman',\n",
    "        'weight': 'normal',\n",
    "        'size': 12}\n",
    "plt.rc('font', **font)\n",
    "\n",
    "from palettable.matplotlib import Viridis_7\n",
    "\n",
    "cmap = Viridis_7.mpl_colormap\n",
    "\n",
    "ny_sens.plot(\n",
    "    column='X7',\n",
    "    ax=ax,\n",
    "    cmap=cmap,\n",
    "    legend=True,\n",
    "#     legend_kwds={'label': 'Exposure'},\n",
    "    scheme='NaturalBreaks',\n",
    "#     k=7,\n",
    "    legend_kwds={'loc': 'lower left',\n",
    "                 'title': 'X7',\n",
    "                 'shadow': True\n",
    "                },\n",
    "#     missing_kwds={\n",
    "#                  \"color\": \"lightgrey\",\n",
    "#                  \"edgecolor\": \"grey\",\n",
    "#                  \"hatch\": \"////\",\n",
    "#                  \"label\": \"Nan\"\n",
    "#                  },\n",
    "#     edgecolor=np.array([0., 0., 0., 0.]),\n",
    "    edgecolor = 'white',\n",
    "    linewidth=0.2\n",
    ")\n",
    "\n",
    "ax.axis('on')\n",
    "ax.set_title('Transportation Energy Vulnerability in New York - Sensitivity',fontdict={'weight':'bold','size': 20},pad=20)\n",
    "plt.tight_layout(pad=4.5)\n",
    "\n",
    "\n",
    "ax.set_aspect('equal','box')\n",
    "# fig.tight_layout()\n",
    "\n",
    "fig.savefig('NY_X7_map.png', facecolor='w', dpi=500)"
   ]
  },
  {
   "cell_type": "markdown",
   "metadata": {},
   "source": [
    "# Adaptive Capacity"
   ]
  },
  {
   "cell_type": "code",
   "execution_count": null,
   "metadata": {},
   "outputs": [],
   "source": [
    "ac = pd.read_csv(\"adaptive_capacity_census.csv\",dtype={'GEO_ID':str})\n",
    "ac.head()"
   ]
  },
  {
   "cell_type": "code",
   "execution_count": null,
   "metadata": {},
   "outputs": [],
   "source": [
    "ny_ac = pd.merge(ny,ac,left_on='geoid',right_on=\"GEO_ID\",how=\"left\")\n",
    "ny_ac.head()"
   ]
  },
  {
   "cell_type": "code",
   "execution_count": null,
   "metadata": {},
   "outputs": [],
   "source": [
    "ny_ac = gpd.GeoDataFrame(ny_ac,crs=2363)"
   ]
  },
  {
   "cell_type": "code",
   "execution_count": null,
   "metadata": {},
   "outputs": [],
   "source": [
    "d5bemin = ny_ac['Weighted_D5be'].min()\n",
    "d5bemax = ny_ac['Weighted_D5be'].max()\n",
    "ny_ac['D5be_score'] = ny_ac.apply(lambda x: (x['Weighted_D5be']-d5bemin)/(d5bemax-d5bemin),axis=1)"
   ]
  },
  {
   "cell_type": "code",
   "execution_count": null,
   "metadata": {},
   "outputs": [],
   "source": [
    "d4cmin = ny_ac['Weighted_D4c'].min()\n",
    "d4cmax = ny_ac['Weighted_D4c'].max()\n",
    "ny_ac['D4c_score'] = ny_ac.apply(lambda x: (x['Weighted_D4c']-d4cmin)/(d4cmax-d4cmin),axis=1)"
   ]
  },
  {
   "cell_type": "code",
   "execution_count": null,
   "metadata": {},
   "outputs": [],
   "source": [
    "d4amin = ny_ac['Weighted_D4a'].min()\n",
    "d4amax = ny_ac['Weighted_D4a'].max()\n",
    "ny_ac['D4a_score'] = ny_ac.apply(lambda x: (x['Weighted_D4a']-d4amin)/(d4amax-d4amin),axis=1)"
   ]
  },
  {
   "cell_type": "code",
   "execution_count": null,
   "metadata": {},
   "outputs": [],
   "source": [
    "import numpy as np\n",
    "\n",
    "fig, ax = plt.subplots(figsize=(12, 10),dpi=300)\n",
    "\n",
    "from palettable.matplotlib import Viridis_7\n",
    "\n",
    "cmap = Viridis_7.mpl_colormap\n",
    "\n",
    "ny_ac.plot(\n",
    "    column='D5be_score',\n",
    "    ax=ax,\n",
    "    cmap=cmap,\n",
    "    legend=True,\n",
    "#     legend_kwds={'label': 'Exposure'},\n",
    "    scheme='NaturalBreaks',\n",
    "#     k=7,\n",
    "    legend_kwds={'loc': 'upper left',\n",
    "                 'title': '',\n",
    "                 'shadow': True\n",
    "                },\n",
    "    missing_kwds={\n",
    "                 \"color\": \"lightgrey\",\n",
    "                 \"edgecolor\": \"grey\",\n",
    "                 \"hatch\": \"////\",\n",
    "                 \"label\": \"Nan\"\n",
    "                 },\n",
    "#     edgecolor=np.array([0., 0., 0., 0.]),\n",
    "    edgecolor = 'white',\n",
    "    linewidth=0.2\n",
    ")\n",
    "\n",
    "ax.axis('off')\n",
    "ax.set_title('Working-population within 45-minute transit commute', fontsize=15,pad=20)\n",
    "plt.tight_layout(pad=4.5)\n",
    "\n",
    "\n",
    "ax.set_aspect('equal','box')\n",
    "# fig.tight_layout()\n",
    "\n",
    "fig.savefig('D5be_normal_map.png', facecolor='w', dpi=500)"
   ]
  },
  {
   "cell_type": "code",
   "execution_count": null,
   "metadata": {},
   "outputs": [],
   "source": [
    "import numpy as np\n",
    "\n",
    "fig, ax = plt.subplots(figsize=(12, 10),dpi=300)\n",
    "\n",
    "from palettable.matplotlib import Viridis_7\n",
    "\n",
    "cmap = Viridis_7.mpl_colormap\n",
    "\n",
    "ny_ac.plot(\n",
    "    column='D4c_score',\n",
    "    ax=ax,\n",
    "    cmap=cmap,\n",
    "    legend=True,\n",
    "#     legend_kwds={'label': 'Exposure'},\n",
    "    scheme='NaturalBreaks',\n",
    "#     k=7,\n",
    "    legend_kwds={'loc': 'upper left',\n",
    "                 'title': '',\n",
    "                 'shadow': True\n",
    "                },\n",
    "    missing_kwds={\n",
    "                 \"color\": \"lightgrey\",\n",
    "                 \"edgecolor\": \"grey\",\n",
    "                 \"hatch\": \"////\",\n",
    "                 \"label\": \"Nan\"\n",
    "                 },\n",
    "#     edgecolor=np.array([0., 0., 0., 0.]),\n",
    "    edgecolor = 'white',\n",
    "    linewidth=0.2\n",
    ")\n",
    "\n",
    "ax.axis('off')\n",
    "ax.set_title('Aggregate frequency of transit service within 0.25 miles \\n of block group boundary per hour during evening peak period', fontsize=15,pad=20)\n",
    "plt.tight_layout(pad=4.5)\n",
    "\n",
    "\n",
    "ax.set_aspect('equal','box')\n",
    "# fig.tight_layout()\n",
    "\n",
    "fig.savefig('D4c_normal_map.png', facecolor='w', dpi=500)"
   ]
  },
  {
   "cell_type": "code",
   "execution_count": null,
   "metadata": {},
   "outputs": [],
   "source": [
    "\n",
    "\n",
    "import numpy as np\n",
    "\n",
    "fig, ax = plt.subplots(figsize=(12, 10),dpi=300)\n",
    "\n",
    "from palettable.matplotlib import Viridis_7\n",
    "\n",
    "cmap = Viridis_7.mpl_colormap\n",
    "\n",
    "ny_ac.plot(\n",
    "    column='D4a_score',\n",
    "    ax=ax,\n",
    "    cmap=cmap,\n",
    "    legend=True,\n",
    "#     legend_kwds={'label': 'Exposure'},\n",
    "    scheme='NaturalBreaks',\n",
    "#     k=7,\n",
    "    legend_kwds={'loc': 'upper left',\n",
    "                 'title': '',\n",
    "                 'shadow': True\n",
    "                },\n",
    "    missing_kwds={\n",
    "                 \"color\": \"lightgrey\",\n",
    "                 \"edgecolor\": \"grey\",\n",
    "                 \"hatch\": \"////\",\n",
    "                 \"label\": \"Nan\"\n",
    "                 },\n",
    "#     edgecolor=np.array([0., 0., 0., 0.]),\n",
    "    edgecolor = 'white',\n",
    "    linewidth=0.2\n",
    ")\n",
    "\n",
    "ax.axis('off')\n",
    "ax.set_title('Distance from population weighted centroid to nearest transit stop', fontsize=15,pad=20)\n",
    "plt.tight_layout(pad=4.5)\n",
    "\n",
    "\n",
    "ax.set_aspect('equal','box')\n",
    "# fig.tight_layout()\n",
    "\n",
    "fig.savefig('D4a_normal_map.png', facecolor='w', dpi=500)"
   ]
  },
  {
   "cell_type": "code",
   "execution_count": null,
   "metadata": {},
   "outputs": [],
   "source": [
    "import numpy as np\n",
    "\n",
    "fig, ax = plt.subplots(figsize=(12, 10),dpi=300)\n",
    "\n",
    "font = {'family': 'serif',\n",
    "        'serif': 'Times New Roman',\n",
    "        'weight': 'normal',\n",
    "        'size': 12}\n",
    "plt.rc('font', **font)\n",
    "\n",
    "from palettable.matplotlib import Viridis_7\n",
    "\n",
    "cmap = Viridis_7.mpl_colormap\n",
    "\n",
    "ny_ac.plot(\n",
    "    column='min_max_ac',\n",
    "    ax=ax,\n",
    "    cmap=cmap,\n",
    "    legend=True,\n",
    "#     legend_kwds={'label': 'Exposure'},\n",
    "    scheme='NaturalBreaks',\n",
    "#     k=7,\n",
    "    legend_kwds={'loc': 'lower left',\n",
    "                 'title': 'Adaptive Capacity',\n",
    "                 'shadow': True\n",
    "                },\n",
    "    missing_kwds={\n",
    "                 \"color\": \"lightgrey\",\n",
    "                 \"edgecolor\": \"grey\",\n",
    "                 \"hatch\": \"////\",\n",
    "                 \"label\": \"Nan\"\n",
    "                 },\n",
    "#     edgecolor=np.array([0., 0., 0., 0.]),\n",
    "    edgecolor = 'white',\n",
    "    linewidth=0.2\n",
    ")\n",
    "\n",
    "ax.axis('on')\n",
    "ax.set_title('Transportation Energy Vulnerability in New York - Adaptive Capacity',fontdict={'weight':'bold','size': 20},pad=20)\n",
    "plt.tight_layout(pad=4.5)\n",
    "\n",
    "ax.set_aspect('equal','box')\n",
    "fig.tight_layout()\n",
    "\n",
    "fig.savefig('NY_AC_map.png', facecolor='w', dpi=500)"
   ]
  },
  {
   "cell_type": "markdown",
   "metadata": {},
   "source": [
    "# Vulnerability Score"
   ]
  },
  {
   "cell_type": "code",
   "execution_count": null,
   "metadata": {},
   "outputs": [],
   "source": [
    "vc = pd.read_csv('Vulnerability Score.csv',dtype={'GEOID':str})\n",
    "vc.head()"
   ]
  },
  {
   "cell_type": "code",
   "execution_count": null,
   "metadata": {},
   "outputs": [],
   "source": [
    "ny_vc = pd.merge(ny,vc,left_on='geoid',right_on=\"GEOID\",how=\"left\")\n",
    "ny_vc.head()"
   ]
  },
  {
   "cell_type": "code",
   "execution_count": null,
   "metadata": {},
   "outputs": [],
   "source": [
    "import numpy as np\n",
    "\n",
    "fig, ax = plt.subplots(figsize=(10, 10),dpi=300)\n",
    "\n",
    "font = {'family': 'serif',\n",
    "        'serif': 'Times New Roman',\n",
    "        'weight': 'normal',\n",
    "        'size': 12}\n",
    "plt.rc('font', **font)\n",
    "\n",
    "from palettable.matplotlib import Viridis_7\n",
    "\n",
    "cmap = Viridis_7.mpl_colormap\n",
    "\n",
    "ny_vc.plot(\n",
    "    column='vul_score_mulpi',\n",
    "    ax=ax,\n",
    "    cmap=cmap,\n",
    "    legend=True,\n",
    "#     legend_kwds={'label': 'Exposure'},\n",
    "    scheme='NaturalBreaks',\n",
    "#     scheme='UserDefined',\n",
    "#     classification_kwds={\n",
    "#                         'bins': [0, 0.05, 0.1, 0.15, 0.2, 0.25]\n",
    "#                         },\n",
    "#     k=7,\n",
    "    legend_kwds={'loc': 'center left',\n",
    "                 'title': 'Vulnerability Score',\n",
    "                 \"fmt\": \"{:.3f}\",\n",
    "                 \n",
    "                 'title_fontsize': 14, \n",
    "                 'fontsize': 14, \n",
    "                 'shadow': True},\n",
    "#     missing_kwds={\n",
    "#                  \"color\": \"lightgrey\",\n",
    "#                  \"edgecolor\": \"grey\",\n",
    "#                  \"hatch\": \"////\",\n",
    "#                  \"label\": \"Nan\"\n",
    "#                  },\n",
    "#     edgecolor=np.array([0., 0., 0., 0.]),\n",
    "    edgecolor = 'white',\n",
    "    linewidth=0.2,\n",
    "#     vmin=vmin, vmax=vmax\n",
    ")\n",
    "\n",
    "# ax.axis('on')\n",
    "plt.xticks([])\n",
    "plt.yticks([])\n",
    "ax.set_title('Multiplicative Transportation Energy Vulnerability in New York', fontdict={'weight':'bold','size': 20},pad=20)\n",
    "plt.tight_layout(pad=4.5)\n",
    "\n",
    "\n",
    "ax.set_aspect('equal','box')\n",
    "# fig.tight_layout()\n",
    "\n",
    "fig.savefig('NY_vulnerability_mulpi.png', facecolor='w', dpi=500)"
   ]
  },
  {
   "cell_type": "code",
   "execution_count": null,
   "metadata": {},
   "outputs": [],
   "source": [
    "import numpy as np\n",
    "\n",
    "fig, ax = plt.subplots(figsize=(10, 10),dpi=300)\n",
    "\n",
    "font = {'family': 'serif',\n",
    "        'serif': 'Times New Roman',\n",
    "        'weight': 'normal',\n",
    "        'size': 12}\n",
    "plt.rc('font', **font)\n",
    "\n",
    "from palettable.matplotlib import Viridis_7\n",
    "\n",
    "cmap = Viridis_7.mpl_colormap\n",
    "\n",
    "ny_vc.plot(\n",
    "    column='vul_score_add',\n",
    "    ax=ax,\n",
    "    cmap=cmap,\n",
    "    legend=True,\n",
    "#     legend_kwds={'label': 'Exposure'},\n",
    "    scheme='NaturalBreaks',\n",
    "#     scheme='UserDefined',\n",
    "#     classification_kwds={\n",
    "#                         'bins': [0, 0.05, 0.1, 0.15, 0.2, 0.25]\n",
    "#                         },\n",
    "#     k=7,\n",
    "    legend_kwds={'loc': 'center left',\n",
    "                 'title': 'Vulnerability Score',\n",
    "                 \"fmt\": \"{:.3f}\",\n",
    "                 \n",
    "                 'title_fontsize': 14, \n",
    "                 'fontsize': 14, \n",
    "                 'shadow': True},\n",
    "#     missing_kwds={\n",
    "#                  \"color\": \"lightgrey\",\n",
    "#                  \"edgecolor\": \"grey\",\n",
    "#                  \"hatch\": \"////\",\n",
    "#                  \"label\": \"Nan\"\n",
    "#                  },\n",
    "#     edgecolor=np.array([0., 0., 0., 0.]),\n",
    "    edgecolor = 'white',\n",
    "    linewidth=0.2,\n",
    "#     vmin=vmin, vmax=vmax\n",
    ")\n",
    "\n",
    "# ax.axis('on')\n",
    "plt.xticks([])\n",
    "plt.yticks([])\n",
    "ax.set_title('Additive Transportation Energy Vulnerability in New York', fontdict={'weight':'bold','size': 20},pad=20)\n",
    "plt.tight_layout(pad=4.5)\n",
    "\n",
    "\n",
    "ax.set_aspect('equal','box')\n",
    "# fig.tight_layout()\n",
    "\n",
    "fig.savefig('NY_vulnerability_add.png', facecolor='w', dpi=500)"
   ]
  },
  {
   "cell_type": "code",
   "execution_count": null,
   "metadata": {},
   "outputs": [],
   "source": [
    "ny_ex = ny_ex[['geoid','NAME','min_max_ex']]\n",
    "ny_sens = ny_sens[['geoid','min_max_sens']]\n",
    "ny_ac = ny_ac[['geoid','min_max_ac']]\n",
    "ny_vc = ny_vc[['geoid','vul_score_mulpi','vul_score_add']]\n",
    "ny_all_census  = pd.merge(ny_ex, ny_sens, on='geoid')\n",
    "ny_all_census  = pd.merge(ny_all_census,ny_ac, on='geoid')\n",
    "ny_all_census  = pd.merge(ny_all_census,ny_vc, on='geoid')"
   ]
  },
  {
   "cell_type": "code",
   "execution_count": null,
   "metadata": {},
   "outputs": [],
   "source": [
    "ny_all_census.to_csv('ny_all_census.csv')"
   ]
  },
  {
   "cell_type": "code",
   "execution_count": null,
   "metadata": {},
   "outputs": [],
   "source": []
  },
  {
   "cell_type": "code",
   "execution_count": null,
   "metadata": {},
   "outputs": [],
   "source": []
  }
 ],
 "metadata": {
  "kernelspec": {
   "display_name": "Python 3",
   "language": "python",
   "name": "python3"
  },
  "language_info": {
   "codemirror_mode": {
    "name": "ipython",
    "version": 3
   },
   "file_extension": ".py",
   "mimetype": "text/x-python",
   "name": "python",
   "nbconvert_exporter": "python",
   "pygments_lexer": "ipython3",
   "version": "3.8.5"
  }
 },
 "nbformat": 4,
 "nbformat_minor": 4
}
